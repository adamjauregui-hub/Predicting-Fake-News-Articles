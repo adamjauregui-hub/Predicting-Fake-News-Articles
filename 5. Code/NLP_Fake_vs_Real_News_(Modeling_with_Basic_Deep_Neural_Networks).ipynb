{
 "cells": [
  {
   "cell_type": "markdown",
   "metadata": {
    "colab_type": "text",
    "id": "view-in-github"
   },
   "source": [
    "<a href=\"https://colab.research.google.com/github/sweet-addy/Fake-True-News-NLP-Models/blob/master/NLP_Fake_vs_Real_News_(Modeling_with_Basic_Deep_Neural_Networks).ipynb\" target=\"_parent\"><img src=\"https://colab.research.google.com/assets/colab-badge.svg\" alt=\"Open In Colab\"/></a>"
   ]
  },
  {
   "cell_type": "code",
   "execution_count": 1,
   "metadata": {
    "colab": {
     "base_uri": "https://localhost:8080/",
     "height": 105
    },
    "id": "FA_oO9emzxk4",
    "outputId": "f0a770e1-8da4-4229-876d-c9869284f137"
   },
   "outputs": [
    {
     "name": "stdout",
     "output_type": "stream",
     "text": [
      "[nltk_data] Downloading package punkt to /root/nltk_data...\n",
      "[nltk_data]   Unzipping tokenizers/punkt.zip.\n"
     ]
    },
    {
     "name": "stderr",
     "output_type": "stream",
     "text": [
      "/usr/local/lib/python3.6/dist-packages/statsmodels/tools/_testing.py:19: FutureWarning: pandas.util.testing is deprecated. Use the functions in the public API at pandas.testing instead.\n",
      "  import pandas.util.testing as tm\n"
     ]
    }
   ],
   "source": [
    "import spacy\n",
    "import pandas as pd\n",
    "import numpy as np\n",
    "import nltk\n",
    "nltk.download('punkt')\n",
    "from nltk.tokenize.toktok import ToktokTokenizer\n",
    "import re\n",
    "from bs4 import BeautifulSoup\n",
    "import unicodedata\n",
    "import en_core_web_sm\n",
    "import os\n",
    "import matplotlib.pyplot as plt\n",
    "import seaborn as sns\n",
    "import statsmodels.api as sm\n",
    "from sklearn.feature_extraction.text import CountVectorizer, TfidfVectorizer\n",
    "from sklearn.model_selection import train_test_split\n",
    "from sklearn import linear_model\n",
    "from sklearn.linear_model import Ridge\n",
    "from sklearn.linear_model import LinearRegression\n",
    "from sklearn import svm\n",
    "from time import process_time, time\n",
    "from sklearn import metrics\n",
    "from sklearn.svm import SVR\n",
    "from sklearn.tree import DecisionTreeRegressor\n",
    "from sklearn.ensemble import RandomForestRegressor\n",
    "from sklearn.ensemble import GradientBoostingRegressor"
   ]
  },
  {
   "cell_type": "code",
   "execution_count": 6,
   "metadata": {
    "id": "Q5P0DM3LF8qR"
   },
   "outputs": [],
   "source": [
    "from google.colab import files\n"
   ]
  },
  {
   "cell_type": "code",
   "execution_count": 17,
   "metadata": {
    "colab": {
     "base_uri": "https://localhost:8080/",
     "height": 72,
     "resources": {
      "http://localhost:8080/nbextensions/google.colab/files.js": {
       "data": "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",
       "headers": [
        [
         "content-type",
         "application/javascript"
        ]
       ],
       "ok": true,
       "status": 200,
       "status_text": ""
      }
     }
    },
    "id": "7HyPh97hpeJP",
    "outputId": "c44aef42-2119-4bbb-d3e9-e37a3f89e9ec"
   },
   "outputs": [
    {
     "data": {
      "text/html": [
       "\n",
       "     <input type=\"file\" id=\"files-86033a35-346b-4edb-886d-bc89cfdeffb8\" name=\"files[]\" multiple disabled\n",
       "        style=\"border:none\" />\n",
       "     <output id=\"result-86033a35-346b-4edb-886d-bc89cfdeffb8\">\n",
       "      Upload widget is only available when the cell has been executed in the\n",
       "      current browser session. Please rerun this cell to enable.\n",
       "      </output>\n",
       "      <script src=\"/nbextensions/google.colab/files.js\"></script> "
      ],
      "text/plain": [
       "<IPython.core.display.HTML object>"
      ]
     },
     "metadata": {
      "tags": []
     },
     "output_type": "display_data"
    },
    {
     "name": "stdout",
     "output_type": "stream",
     "text": [
      "Saving Fake_True_news_shuffled.csv to Fake_True_news_shuffled (1).csv\n"
     ]
    }
   ],
   "source": [
    "uploaded = files.upload()\n"
   ]
  },
  {
   "cell_type": "code",
   "execution_count": 18,
   "metadata": {
    "colab": {
     "base_uri": "https://localhost:8080/",
     "height": 51
    },
    "id": "XfSKvQu0NN45",
    "outputId": "111c6ebc-53d8-4501-f1e8-4994b7600312"
   },
   "outputs": [
    {
     "name": "stdout",
     "output_type": "stream",
     "text": [
      "CPU times: user 1.96 s, sys: 198 ms, total: 2.16 s\n",
      "Wall time: 2.17 s\n"
     ]
    }
   ],
   "source": [
    "%%time\n",
    "import io\n",
    "Fake_True_news = pd.read_csv(io.BytesIO(uploaded['Fake_True_news_shuffled.csv']))\n",
    "# Dataset is now stored in a Pandas Dataframe"
   ]
  },
  {
   "cell_type": "code",
   "execution_count": 19,
   "metadata": {
    "colab": {
     "base_uri": "https://localhost:8080/",
     "height": 255
    },
    "id": "IwKFapRVN_Hm",
    "outputId": "0e9ef033-0d31-4294-ecbb-261fb2e9ab32"
   },
   "outputs": [
    {
     "name": "stdout",
     "output_type": "stream",
     "text": [
      "<class 'pandas.core.frame.DataFrame'>\n",
      "RangeIndex: 44898 entries, 0 to 44897\n",
      "Data columns (total 7 columns):\n",
      " #   Column     Non-Null Count  Dtype \n",
      "---  ------     --------------  ----- \n",
      " 0   title      44898 non-null  object\n",
      " 1   text       44898 non-null  object\n",
      " 2   subject    44898 non-null  object\n",
      " 3   date       44898 non-null  object\n",
      " 4   real/fake  44898 non-null  int64 \n",
      " 5   title_nlp  44898 non-null  object\n",
      " 6   text_nlp   44267 non-null  object\n",
      "dtypes: int64(1), object(6)\n",
      "memory usage: 2.4+ MB\n"
     ]
    }
   ],
   "source": [
    "Fake_True_news.info()"
   ]
  },
  {
   "cell_type": "code",
   "execution_count": 20,
   "metadata": {
    "colab": {
     "base_uri": "https://localhost:8080/",
     "height": 255
    },
    "id": "j7PxsIqNOJku",
    "outputId": "074b147b-a610-4ac2-b8bf-42f2af69493c"
   },
   "outputs": [
    {
     "name": "stdout",
     "output_type": "stream",
     "text": [
      "<class 'pandas.core.frame.DataFrame'>\n",
      "Int64Index: 44267 entries, 0 to 44897\n",
      "Data columns (total 7 columns):\n",
      " #   Column     Non-Null Count  Dtype \n",
      "---  ------     --------------  ----- \n",
      " 0   title      44267 non-null  object\n",
      " 1   text       44267 non-null  object\n",
      " 2   subject    44267 non-null  object\n",
      " 3   date       44267 non-null  object\n",
      " 4   real/fake  44267 non-null  int64 \n",
      " 5   title_nlp  44267 non-null  object\n",
      " 6   text_nlp   44267 non-null  object\n",
      "dtypes: int64(1), object(6)\n",
      "memory usage: 2.7+ MB\n"
     ]
    }
   ],
   "source": [
    "#didn't notice that during pre-processing some rows in 'text_nlp' got deleted. Drop the rows that contain a NaN in that column.\n",
    "Fake_True_news = Fake_True_news.dropna(axis=0, subset=['text_nlp'])\n",
    "Fake_True_news.info()"
   ]
  },
  {
   "cell_type": "markdown",
   "metadata": {
    "id": "pI-lZyaqXec3"
   },
   "source": [
    "**Build Traning and Test Datasets (same as in Jupyter NOtebook)**"
   ]
  },
  {
   "cell_type": "code",
   "execution_count": 23,
   "metadata": {
    "id": "A-ULvEngXZE3"
   },
   "outputs": [],
   "source": [
    "#create feature data frame and isolate target variable\n",
    "\n",
    "#feature dataframe\n",
    "X_text = Fake_True_news['text_nlp'] # load the dataset as a pandas data frame\n",
    "\n",
    "#target variable\n",
    "y_realfake = Fake_True_news['real/fake']\n",
    "\n",
    "# create training and testing vars\n",
    "X_train_text, X_test_text, y_train_realfake, y_test_realfake = train_test_split(X_text, y_realfake, test_size=0.2,random_state=27)"
   ]
  },
  {
   "cell_type": "code",
   "execution_count": 24,
   "metadata": {
    "colab": {
     "base_uri": "https://localhost:8080/",
     "height": 51
    },
    "id": "IcKcS-OVYlpr",
    "outputId": "4a7af14a-88bd-49e6-c3c5-26b30bd39a44"
   },
   "outputs": [
    {
     "name": "stdout",
     "output_type": "stream",
     "text": [
      "CPU times: user 1min 14s, sys: 634 ms, total: 1min 15s\n",
      "Wall time: 1min 15s\n"
     ]
    }
   ],
   "source": [
    "%%time\n",
    "\n",
    "# build BOW features on train news\n",
    "cv = CountVectorizer(binary=False, min_df=5, max_df=1.0, ngram_range=(1,2))\n",
    "cv_Xtrain_features = cv.fit_transform(X_train_text)\n",
    "\n",
    "\n",
    "# build TFIDF features on train news\n",
    "tv = TfidfVectorizer(use_idf=True, min_df=5, max_df=1.0, ngram_range=(1,2),\n",
    "                     sublinear_tf=True)\n",
    "tv_Xtrain_features = tv.fit_transform(X_train_text)"
   ]
  },
  {
   "cell_type": "code",
   "execution_count": 25,
   "metadata": {
    "id": "F5JvO9KmZMEN"
   },
   "outputs": [],
   "source": [
    "#transform test news into features\n",
    "cv_Xtest_features = cv.transform(X_test_text)\n",
    "tv_Xtest_features = tv.transform(X_test_text)"
   ]
  },
  {
   "cell_type": "code",
   "execution_count": 26,
   "metadata": {
    "colab": {
     "base_uri": "https://localhost:8080/",
     "height": 51
    },
    "id": "ek66ZM12Za4N",
    "outputId": "07897240-9c21-4c26-e0a7-5b3cb8f030db"
   },
   "outputs": [
    {
     "name": "stdout",
     "output_type": "stream",
     "text": [
      "BOW model:> Train features shape: (35413, 273556)  Test features shape: (8854, 273556)\n",
      "TFIDF model:> Train features shape: (35413, 273556)  Test features shape: (8854, 273556)\n"
     ]
    }
   ],
   "source": [
    "print('BOW model:> Train features shape:', cv_Xtrain_features.shape, ' Test features shape:', cv_Xtest_features.shape)\n",
    "print('TFIDF model:> Train features shape:', tv_Xtrain_features.shape, ' Test features shape:', tv_Xtest_features.shape)"
   ]
  },
  {
   "cell_type": "markdown",
   "metadata": {
    "id": "42YdVdmrNiyF"
   },
   "source": [
    "**Newer Supervised Deep Learning Models**"
   ]
  },
  {
   "cell_type": "code",
   "execution_count": 27,
   "metadata": {
    "id": "sPG7Yb5CN2nH"
   },
   "outputs": [],
   "source": [
    "import gensim\n",
    "from tensorflow import keras\n",
    "from tensorflow.keras.models import Sequential\n",
    "from tensorflow.keras.layers import Dropout, Activation, Dense\n",
    "from sklearn.preprocessing import LabelEncoder"
   ]
  },
  {
   "cell_type": "markdown",
   "metadata": {
    "id": "RFMpDBxHb8pd"
   },
   "source": [
    "**Prediction class label encoding**"
   ]
  },
  {
   "cell_type": "code",
   "execution_count": 28,
   "metadata": {
    "colab": {
     "base_uri": "https://localhost:8080/",
     "height": 51
    },
    "id": "dZwwzlyPN2ox",
    "outputId": "d85a32b0-c758-4aea-92fe-fd3832f7470b"
   },
   "outputs": [
    {
     "name": "stdout",
     "output_type": "stream",
     "text": [
      "CPU times: user 57.2 s, sys: 607 ms, total: 57.8 s\n",
      "Wall time: 58 s\n"
     ]
    }
   ],
   "source": [
    "%%time\n",
    "\n",
    "le = LabelEncoder()\n",
    "# tokenize train reviews & encode train labels\n",
    "tokenized_train = [nltk.word_tokenize(text)\n",
    "                       for text in X_train_text]\n",
    "y_train = le.fit_transform(y_train_realfake)\n",
    "# tokenize test reviews & encode test labels\n",
    "tokenized_test = [nltk.word_tokenize(text)\n",
    "                       for text in X_test_text]\n",
    "y_test = le.fit_transform(y_test_realfake)"
   ]
  },
  {
   "cell_type": "code",
   "execution_count": 29,
   "metadata": {
    "colab": {
     "base_uri": "https://localhost:8080/",
     "height": 153
    },
    "id": "7S9QWaxbbkh_",
    "outputId": "0a7a8880-db47-4e1c-e9a8-4beb02dbe20a"
   },
   "outputs": [
    {
     "name": "stdout",
     "output_type": "stream",
     "text": [
      "Sentiment class label map: {0: 0, 1: 1}\n",
      "Sample test label transformation:\n",
      "----------------------------------- \n",
      "Actual Labels: 35267    0\n",
      "19951    1\n",
      "36697    1\n",
      "Name: real/fake, dtype: int64 \n",
      "Encoded Labels: [0 1 1]\n"
     ]
    }
   ],
   "source": [
    "#print class label encoding map and encoded labels\n",
    "print('Sentiment class label map:', dict(zip(le.classes_, le.transform(le.classes_))))\n",
    "print('Sample test label transformation:\\n'+'-'*35,\n",
    "      '\\nActual Labels:', y_test_realfake[:3], '\\nEncoded Labels:', y_test[:3])"
   ]
  },
  {
   "cell_type": "markdown",
   "metadata": {
    "id": "mfSJ--IAcDcl"
   },
   "source": [
    "**Feature Engineering with word embeddings**"
   ]
  },
  {
   "cell_type": "code",
   "execution_count": 30,
   "metadata": {
    "id": "hp90E3MxcPGP"
   },
   "outputs": [],
   "source": [
    "import logging\n",
    "logging.basicConfig(format='%(asctime)s : %(levelname)s : %(message)s', level=logging.INFO)"
   ]
  },
  {
   "cell_type": "code",
   "execution_count": 31,
   "metadata": {
    "colab": {
     "base_uri": "https://localhost:8080/",
     "height": 1000
    },
    "id": "RMYPbMMGcS6M",
    "outputId": "f0c9cca4-3ef1-42f6-ace2-69c5c51eb099"
   },
   "outputs": [
    {
     "name": "stderr",
     "output_type": "stream",
     "text": [
      "2020-09-28 06:04:32,118 : INFO : collecting all words and their counts\n",
      "2020-09-28 06:04:32,121 : INFO : PROGRESS: at sentence #0, processed 0 words, keeping 0 word types\n",
      "2020-09-28 06:04:32,669 : INFO : PROGRESS: at sentence #10000, processed 2389521 words, keeping 66284 word types\n",
      "2020-09-28 06:04:33,247 : INFO : PROGRESS: at sentence #20000, processed 4872953 words, keeping 91307 word types\n",
      "2020-09-28 06:04:33,825 : INFO : PROGRESS: at sentence #30000, processed 7321798 words, keeping 108145 word types\n",
      "2020-09-28 06:04:34,145 : INFO : collected 115591 word types from a corpus of 8639353 raw words and 35413 sentences\n",
      "2020-09-28 06:04:34,146 : INFO : Loading a fresh vocabulary\n",
      "2020-09-28 06:04:34,273 : INFO : effective_min_count=10 retains 29956 unique words (25% of original 115591, drops 85635)\n",
      "2020-09-28 06:04:34,274 : INFO : effective_min_count=10 leaves 8430884 word corpus (97% of original 8639353, drops 208469)\n",
      "2020-09-28 06:04:34,379 : INFO : deleting the raw counts dictionary of 115591 items\n",
      "2020-09-28 06:04:34,384 : INFO : sample=0.001 downsamples 17 most-common words\n",
      "2020-09-28 06:04:34,385 : INFO : downsampling leaves estimated 8166431 word corpus (96.9% of prior 8430884)\n",
      "2020-09-28 06:04:34,501 : INFO : estimated required memory for 29956 words and 300 dimensions: 86872400 bytes\n",
      "2020-09-28 06:04:34,502 : INFO : resetting layer weights\n",
      "2020-09-28 06:04:40,522 : INFO : training model with 4 workers on 29956 vocabulary and 300 features, using sg=0 hs=0 sample=0.001 negative=5 window=150\n",
      "2020-09-28 06:04:41,563 : INFO : EPOCH 1 - PROGRESS: at 0.76% examples, 54462 words/s, in_qsize 7, out_qsize 0\n",
      "2020-09-28 06:04:42,601 : INFO : EPOCH 1 - PROGRESS: at 1.68% examples, 63021 words/s, in_qsize 7, out_qsize 0\n",
      "2020-09-28 06:04:43,708 : INFO : EPOCH 1 - PROGRESS: at 2.76% examples, 67476 words/s, in_qsize 7, out_qsize 0\n",
      "2020-09-28 06:04:44,741 : INFO : EPOCH 1 - PROGRESS: at 3.69% examples, 68607 words/s, in_qsize 7, out_qsize 0\n",
      "2020-09-28 06:04:45,781 : INFO : EPOCH 1 - PROGRESS: at 4.57% examples, 68930 words/s, in_qsize 7, out_qsize 0\n",
      "2020-09-28 06:04:46,954 : INFO : EPOCH 1 - PROGRESS: at 5.67% examples, 69472 words/s, in_qsize 7, out_qsize 0\n",
      "2020-09-28 06:04:48,037 : INFO : EPOCH 1 - PROGRESS: at 6.64% examples, 69337 words/s, in_qsize 7, out_qsize 0\n",
      "2020-09-28 06:04:49,084 : INFO : EPOCH 1 - PROGRESS: at 7.67% examples, 70615 words/s, in_qsize 7, out_qsize 0\n",
      "2020-09-28 06:04:50,098 : INFO : EPOCH 1 - PROGRESS: at 8.67% examples, 70949 words/s, in_qsize 7, out_qsize 0\n",
      "2020-09-28 06:04:51,140 : INFO : EPOCH 1 - PROGRESS: at 9.65% examples, 70990 words/s, in_qsize 7, out_qsize 0\n",
      "2020-09-28 06:04:52,204 : INFO : EPOCH 1 - PROGRESS: at 10.53% examples, 70692 words/s, in_qsize 7, out_qsize 0\n",
      "2020-09-28 06:04:53,355 : INFO : EPOCH 1 - PROGRESS: at 11.59% examples, 70889 words/s, in_qsize 7, out_qsize 0\n",
      "2020-09-28 06:04:54,379 : INFO : EPOCH 1 - PROGRESS: at 12.49% examples, 70988 words/s, in_qsize 7, out_qsize 0\n",
      "2020-09-28 06:04:55,540 : INFO : EPOCH 1 - PROGRESS: at 13.40% examples, 70426 words/s, in_qsize 7, out_qsize 0\n",
      "2020-09-28 06:04:56,615 : INFO : EPOCH 1 - PROGRESS: at 14.36% examples, 70352 words/s, in_qsize 7, out_qsize 2\n",
      "2020-09-28 06:04:57,695 : INFO : EPOCH 1 - PROGRESS: at 15.37% examples, 70827 words/s, in_qsize 7, out_qsize 0\n",
      "2020-09-28 06:04:58,726 : INFO : EPOCH 1 - PROGRESS: at 16.25% examples, 70860 words/s, in_qsize 7, out_qsize 0\n",
      "2020-09-28 06:04:59,805 : INFO : EPOCH 1 - PROGRESS: at 17.28% examples, 71237 words/s, in_qsize 7, out_qsize 0\n",
      "2020-09-28 06:05:00,831 : INFO : EPOCH 1 - PROGRESS: at 18.18% examples, 71309 words/s, in_qsize 8, out_qsize 0\n",
      "2020-09-28 06:05:02,067 : INFO : EPOCH 1 - PROGRESS: at 19.22% examples, 71108 words/s, in_qsize 7, out_qsize 0\n",
      "2020-09-28 06:05:03,097 : INFO : EPOCH 1 - PROGRESS: at 20.19% examples, 71165 words/s, in_qsize 7, out_qsize 0\n",
      "2020-09-28 06:05:04,106 : INFO : EPOCH 1 - PROGRESS: at 21.15% examples, 71264 words/s, in_qsize 7, out_qsize 0\n",
      "2020-09-28 06:05:05,149 : INFO : EPOCH 1 - PROGRESS: at 22.04% examples, 71265 words/s, in_qsize 8, out_qsize 0\n",
      "2020-09-28 06:05:06,251 : INFO : EPOCH 1 - PROGRESS: at 22.85% examples, 71102 words/s, in_qsize 6, out_qsize 1\n",
      "2020-09-28 06:05:07,268 : INFO : EPOCH 1 - PROGRESS: at 23.80% examples, 71154 words/s, in_qsize 7, out_qsize 0\n",
      "2020-09-28 06:05:08,349 : INFO : EPOCH 1 - PROGRESS: at 24.86% examples, 71382 words/s, in_qsize 7, out_qsize 0\n",
      "2020-09-28 06:05:09,419 : INFO : EPOCH 1 - PROGRESS: at 25.73% examples, 71450 words/s, in_qsize 7, out_qsize 0\n",
      "2020-09-28 06:05:10,433 : INFO : EPOCH 1 - PROGRESS: at 26.75% examples, 71526 words/s, in_qsize 7, out_qsize 0\n",
      "2020-09-28 06:05:11,442 : INFO : EPOCH 1 - PROGRESS: at 27.61% examples, 71489 words/s, in_qsize 7, out_qsize 0\n",
      "2020-09-28 06:05:12,472 : INFO : EPOCH 1 - PROGRESS: at 28.41% examples, 71221 words/s, in_qsize 7, out_qsize 0\n",
      "2020-09-28 06:05:13,496 : INFO : EPOCH 1 - PROGRESS: at 29.31% examples, 71272 words/s, in_qsize 7, out_qsize 0\n",
      "2020-09-28 06:05:14,556 : INFO : EPOCH 1 - PROGRESS: at 30.24% examples, 71213 words/s, in_qsize 6, out_qsize 1\n",
      "2020-09-28 06:05:15,637 : INFO : EPOCH 1 - PROGRESS: at 31.31% examples, 71406 words/s, in_qsize 7, out_qsize 0\n",
      "2020-09-28 06:05:16,688 : INFO : EPOCH 1 - PROGRESS: at 32.23% examples, 71385 words/s, in_qsize 7, out_qsize 0\n",
      "2020-09-28 06:05:17,756 : INFO : EPOCH 1 - PROGRESS: at 33.08% examples, 71334 words/s, in_qsize 7, out_qsize 0\n",
      "2020-09-28 06:05:18,827 : INFO : EPOCH 1 - PROGRESS: at 34.00% examples, 71273 words/s, in_qsize 8, out_qsize 1\n",
      "2020-09-28 06:05:19,829 : INFO : EPOCH 1 - PROGRESS: at 34.96% examples, 71351 words/s, in_qsize 7, out_qsize 0\n",
      "2020-09-28 06:05:20,903 : INFO : EPOCH 1 - PROGRESS: at 35.90% examples, 71289 words/s, in_qsize 8, out_qsize 0\n",
      "2020-09-28 06:05:21,933 : INFO : EPOCH 1 - PROGRESS: at 36.83% examples, 71505 words/s, in_qsize 7, out_qsize 0\n",
      "2020-09-28 06:05:22,938 : INFO : EPOCH 1 - PROGRESS: at 37.78% examples, 71559 words/s, in_qsize 7, out_qsize 0\n",
      "2020-09-28 06:05:23,939 : INFO : EPOCH 1 - PROGRESS: at 38.54% examples, 71415 words/s, in_qsize 7, out_qsize 0\n",
      "2020-09-28 06:05:24,960 : INFO : EPOCH 1 - PROGRESS: at 39.39% examples, 71431 words/s, in_qsize 7, out_qsize 0\n",
      "2020-09-28 06:05:26,080 : INFO : EPOCH 1 - PROGRESS: at 40.34% examples, 71503 words/s, in_qsize 7, out_qsize 0\n",
      "2020-09-28 06:05:27,116 : INFO : EPOCH 1 - PROGRESS: at 41.34% examples, 71527 words/s, in_qsize 7, out_qsize 0\n",
      "2020-09-28 06:05:28,156 : INFO : EPOCH 1 - PROGRESS: at 42.26% examples, 71505 words/s, in_qsize 7, out_qsize 0\n",
      "2020-09-28 06:05:29,411 : INFO : EPOCH 1 - PROGRESS: at 43.22% examples, 71348 words/s, in_qsize 7, out_qsize 0\n",
      "2020-09-28 06:05:30,568 : INFO : EPOCH 1 - PROGRESS: at 44.16% examples, 71364 words/s, in_qsize 7, out_qsize 0\n",
      "2020-09-28 06:05:31,653 : INFO : EPOCH 1 - PROGRESS: at 45.16% examples, 71514 words/s, in_qsize 7, out_qsize 0\n",
      "2020-09-28 06:05:32,664 : INFO : EPOCH 1 - PROGRESS: at 46.05% examples, 71520 words/s, in_qsize 7, out_qsize 0\n",
      "2020-09-28 06:05:33,689 : INFO : EPOCH 1 - PROGRESS: at 46.93% examples, 71546 words/s, in_qsize 7, out_qsize 0\n",
      "2020-09-28 06:05:34,757 : INFO : EPOCH 1 - PROGRESS: at 47.83% examples, 71490 words/s, in_qsize 7, out_qsize 0\n",
      "2020-09-28 06:05:35,912 : INFO : EPOCH 1 - PROGRESS: at 48.69% examples, 71348 words/s, in_qsize 7, out_qsize 0\n",
      "2020-09-28 06:05:37,002 : INFO : EPOCH 1 - PROGRESS: at 49.60% examples, 71292 words/s, in_qsize 7, out_qsize 0\n",
      "2020-09-28 06:05:38,136 : INFO : EPOCH 1 - PROGRESS: at 50.78% examples, 71495 words/s, in_qsize 7, out_qsize 0\n",
      "2020-09-28 06:05:39,156 : INFO : EPOCH 1 - PROGRESS: at 51.58% examples, 71526 words/s, in_qsize 7, out_qsize 0\n",
      "2020-09-28 06:05:40,169 : INFO : EPOCH 1 - PROGRESS: at 52.36% examples, 71388 words/s, in_qsize 7, out_qsize 1\n",
      "2020-09-28 06:05:41,189 : INFO : EPOCH 1 - PROGRESS: at 53.24% examples, 71405 words/s, in_qsize 7, out_qsize 0\n",
      "2020-09-28 06:05:42,193 : INFO : EPOCH 1 - PROGRESS: at 54.10% examples, 71442 words/s, in_qsize 8, out_qsize 0\n",
      "2020-09-28 06:05:43,246 : INFO : EPOCH 1 - PROGRESS: at 54.87% examples, 71288 words/s, in_qsize 7, out_qsize 0\n",
      "2020-09-28 06:05:44,271 : INFO : EPOCH 1 - PROGRESS: at 55.85% examples, 71440 words/s, in_qsize 7, out_qsize 0\n",
      "2020-09-28 06:05:45,301 : INFO : EPOCH 1 - PROGRESS: at 56.74% examples, 71454 words/s, in_qsize 7, out_qsize 0\n",
      "2020-09-28 06:05:46,448 : INFO : EPOCH 1 - PROGRESS: at 57.65% examples, 71331 words/s, in_qsize 7, out_qsize 0\n",
      "2020-09-28 06:05:47,466 : INFO : EPOCH 1 - PROGRESS: at 58.58% examples, 71356 words/s, in_qsize 7, out_qsize 0\n",
      "2020-09-28 06:05:48,518 : INFO : EPOCH 1 - PROGRESS: at 59.53% examples, 71344 words/s, in_qsize 7, out_qsize 0\n",
      "2020-09-28 06:05:49,565 : INFO : EPOCH 1 - PROGRESS: at 60.36% examples, 71351 words/s, in_qsize 7, out_qsize 0\n",
      "2020-09-28 06:05:50,595 : INFO : EPOCH 1 - PROGRESS: at 61.33% examples, 71348 words/s, in_qsize 7, out_qsize 0\n",
      "2020-09-28 06:05:51,629 : INFO : EPOCH 1 - PROGRESS: at 62.26% examples, 71366 words/s, in_qsize 8, out_qsize 0\n",
      "2020-09-28 06:05:52,735 : INFO : EPOCH 1 - PROGRESS: at 63.24% examples, 71427 words/s, in_qsize 7, out_qsize 0\n",
      "2020-09-28 06:05:53,765 : INFO : EPOCH 1 - PROGRESS: at 64.16% examples, 71418 words/s, in_qsize 7, out_qsize 0\n",
      "2020-09-28 06:05:54,792 : INFO : EPOCH 1 - PROGRESS: at 65.04% examples, 71439 words/s, in_qsize 7, out_qsize 0\n",
      "2020-09-28 06:05:55,891 : INFO : EPOCH 1 - PROGRESS: at 65.99% examples, 71493 words/s, in_qsize 7, out_qsize 0\n",
      "2020-09-28 06:05:56,924 : INFO : EPOCH 1 - PROGRESS: at 66.88% examples, 71505 words/s, in_qsize 7, out_qsize 0\n",
      "2020-09-28 06:05:57,937 : INFO : EPOCH 1 - PROGRESS: at 67.85% examples, 71522 words/s, in_qsize 7, out_qsize 0\n",
      "2020-09-28 06:05:58,945 : INFO : EPOCH 1 - PROGRESS: at 68.75% examples, 71548 words/s, in_qsize 7, out_qsize 0\n",
      "2020-09-28 06:05:59,969 : INFO : EPOCH 1 - PROGRESS: at 69.55% examples, 71441 words/s, in_qsize 7, out_qsize 0\n",
      "2020-09-28 06:06:01,014 : INFO : EPOCH 1 - PROGRESS: at 70.40% examples, 71426 words/s, in_qsize 8, out_qsize 0\n",
      "2020-09-28 06:06:02,045 : INFO : EPOCH 1 - PROGRESS: at 71.31% examples, 71408 words/s, in_qsize 8, out_qsize 1\n",
      "2020-09-28 06:06:03,074 : INFO : EPOCH 1 - PROGRESS: at 72.17% examples, 71431 words/s, in_qsize 7, out_qsize 0\n",
      "2020-09-28 06:06:04,087 : INFO : EPOCH 1 - PROGRESS: at 73.07% examples, 71442 words/s, in_qsize 7, out_qsize 0\n",
      "2020-09-28 06:06:05,110 : INFO : EPOCH 1 - PROGRESS: at 74.03% examples, 71457 words/s, in_qsize 7, out_qsize 0\n",
      "2020-09-28 06:06:06,132 : INFO : EPOCH 1 - PROGRESS: at 74.90% examples, 71474 words/s, in_qsize 7, out_qsize 0\n",
      "2020-09-28 06:06:07,187 : INFO : EPOCH 1 - PROGRESS: at 75.78% examples, 71460 words/s, in_qsize 7, out_qsize 0\n",
      "2020-09-28 06:06:08,265 : INFO : EPOCH 1 - PROGRESS: at 76.67% examples, 71435 words/s, in_qsize 7, out_qsize 0\n",
      "2020-09-28 06:06:09,295 : INFO : EPOCH 1 - PROGRESS: at 77.58% examples, 71447 words/s, in_qsize 7, out_qsize 0\n",
      "2020-09-28 06:06:10,337 : INFO : EPOCH 1 - PROGRESS: at 78.54% examples, 71443 words/s, in_qsize 7, out_qsize 0\n",
      "2020-09-28 06:06:11,339 : INFO : EPOCH 1 - PROGRESS: at 79.43% examples, 71467 words/s, in_qsize 7, out_qsize 0\n",
      "2020-09-28 06:06:12,367 : INFO : EPOCH 1 - PROGRESS: at 80.39% examples, 71479 words/s, in_qsize 7, out_qsize 0\n",
      "2020-09-28 06:06:13,368 : INFO : EPOCH 1 - PROGRESS: at 81.33% examples, 71509 words/s, in_qsize 7, out_qsize 0\n",
      "2020-09-28 06:06:14,412 : INFO : EPOCH 1 - PROGRESS: at 82.23% examples, 71504 words/s, in_qsize 7, out_qsize 0\n",
      "2020-09-28 06:06:15,456 : INFO : EPOCH 1 - PROGRESS: at 83.15% examples, 71505 words/s, in_qsize 7, out_qsize 0\n",
      "2020-09-28 06:06:16,716 : INFO : EPOCH 1 - PROGRESS: at 84.10% examples, 71436 words/s, in_qsize 7, out_qsize 0\n",
      "2020-09-28 06:06:17,802 : INFO : EPOCH 1 - PROGRESS: at 85.09% examples, 71476 words/s, in_qsize 7, out_qsize 0\n",
      "2020-09-28 06:06:18,819 : INFO : EPOCH 1 - PROGRESS: at 85.99% examples, 71487 words/s, in_qsize 7, out_qsize 0\n",
      "2020-09-28 06:06:19,869 : INFO : EPOCH 1 - PROGRESS: at 86.87% examples, 71484 words/s, in_qsize 7, out_qsize 0\n",
      "2020-09-28 06:06:20,964 : INFO : EPOCH 1 - PROGRESS: at 87.83% examples, 71438 words/s, in_qsize 7, out_qsize 0\n",
      "2020-09-28 06:06:22,052 : INFO : EPOCH 1 - PROGRESS: at 88.96% examples, 71583 words/s, in_qsize 7, out_qsize 0\n",
      "2020-09-28 06:06:23,049 : INFO : EPOCH 1 - PROGRESS: at 89.70% examples, 71509 words/s, in_qsize 7, out_qsize 0\n",
      "2020-09-28 06:06:24,095 : INFO : EPOCH 1 - PROGRESS: at 90.62% examples, 71495 words/s, in_qsize 7, out_qsize 0\n",
      "2020-09-28 06:06:25,156 : INFO : EPOCH 1 - PROGRESS: at 91.55% examples, 71484 words/s, in_qsize 7, out_qsize 0\n",
      "2020-09-28 06:06:26,274 : INFO : EPOCH 1 - PROGRESS: at 92.64% examples, 71515 words/s, in_qsize 7, out_qsize 0\n",
      "2020-09-28 06:06:27,305 : INFO : EPOCH 1 - PROGRESS: at 93.58% examples, 71527 words/s, in_qsize 7, out_qsize 0\n",
      "2020-09-28 06:06:28,339 : INFO : EPOCH 1 - PROGRESS: at 94.45% examples, 71536 words/s, in_qsize 7, out_qsize 0\n",
      "2020-09-28 06:06:29,374 : INFO : EPOCH 1 - PROGRESS: at 95.34% examples, 71536 words/s, in_qsize 7, out_qsize 0\n",
      "2020-09-28 06:06:30,389 : INFO : EPOCH 1 - PROGRESS: at 96.28% examples, 71555 words/s, in_qsize 7, out_qsize 0\n",
      "2020-09-28 06:06:31,397 : INFO : EPOCH 1 - PROGRESS: at 96.95% examples, 71410 words/s, in_qsize 7, out_qsize 0\n",
      "2020-09-28 06:06:32,451 : INFO : EPOCH 1 - PROGRESS: at 97.85% examples, 71400 words/s, in_qsize 7, out_qsize 0\n",
      "2020-09-28 06:06:33,616 : INFO : EPOCH 1 - PROGRESS: at 98.84% examples, 71401 words/s, in_qsize 7, out_qsize 0\n",
      "2020-09-28 06:06:34,314 : INFO : worker thread finished; awaiting finish of 3 more threads\n",
      "2020-09-28 06:06:34,540 : INFO : worker thread finished; awaiting finish of 2 more threads\n",
      "2020-09-28 06:06:34,544 : INFO : worker thread finished; awaiting finish of 1 more threads\n",
      "2020-09-28 06:06:34,577 : INFO : worker thread finished; awaiting finish of 0 more threads\n",
      "2020-09-28 06:06:34,578 : INFO : EPOCH - 1 : training on 8639353 raw words (8166840 effective words) took 114.0s, 71608 effective words/s\n",
      "2020-09-28 06:06:35,720 : INFO : EPOCH 2 - PROGRESS: at 0.90% examples, 57734 words/s, in_qsize 7, out_qsize 0\n",
      "2020-09-28 06:06:36,814 : INFO : EPOCH 2 - PROGRESS: at 1.80% examples, 62793 words/s, in_qsize 7, out_qsize 0\n",
      "2020-09-28 06:06:37,831 : INFO : EPOCH 2 - PROGRESS: at 2.76% examples, 66068 words/s, in_qsize 7, out_qsize 0\n",
      "2020-09-28 06:06:38,862 : INFO : EPOCH 2 - PROGRESS: at 3.82% examples, 69710 words/s, in_qsize 7, out_qsize 0\n",
      "2020-09-28 06:06:39,920 : INFO : EPOCH 2 - PROGRESS: at 4.57% examples, 67823 words/s, in_qsize 7, out_qsize 0\n",
      "2020-09-28 06:06:40,925 : INFO : EPOCH 2 - PROGRESS: at 5.67% examples, 70371 words/s, in_qsize 7, out_qsize 0\n",
      "2020-09-28 06:06:42,092 : INFO : EPOCH 2 - PROGRESS: at 6.62% examples, 69378 words/s, in_qsize 7, out_qsize 0\n",
      "2020-09-28 06:06:43,206 : INFO : EPOCH 2 - PROGRESS: at 7.67% examples, 70046 words/s, in_qsize 7, out_qsize 0\n",
      "2020-09-28 06:06:44,222 : INFO : EPOCH 2 - PROGRESS: at 8.67% examples, 70418 words/s, in_qsize 7, out_qsize 0\n",
      "2020-09-28 06:06:45,247 : INFO : EPOCH 2 - PROGRESS: at 9.65% examples, 70629 words/s, in_qsize 7, out_qsize 0\n",
      "2020-09-28 06:06:46,253 : INFO : EPOCH 2 - PROGRESS: at 10.53% examples, 70718 words/s, in_qsize 7, out_qsize 0\n",
      "2020-09-28 06:06:47,283 : INFO : EPOCH 2 - PROGRESS: at 11.49% examples, 70858 words/s, in_qsize 7, out_qsize 0\n",
      "2020-09-28 06:06:48,330 : INFO : EPOCH 2 - PROGRESS: at 12.37% examples, 70931 words/s, in_qsize 7, out_qsize 0\n",
      "2020-09-28 06:06:49,493 : INFO : EPOCH 2 - PROGRESS: at 13.40% examples, 70972 words/s, in_qsize 7, out_qsize 0\n",
      "2020-09-28 06:06:50,532 : INFO : EPOCH 2 - PROGRESS: at 14.36% examples, 70955 words/s, in_qsize 7, out_qsize 0\n",
      "2020-09-28 06:06:51,568 : INFO : EPOCH 2 - PROGRESS: at 15.25% examples, 71018 words/s, in_qsize 7, out_qsize 0\n",
      "2020-09-28 06:06:52,610 : INFO : EPOCH 2 - PROGRESS: at 16.14% examples, 71031 words/s, in_qsize 7, out_qsize 0\n",
      "2020-09-28 06:06:53,636 : INFO : EPOCH 2 - PROGRESS: at 17.04% examples, 71152 words/s, in_qsize 7, out_qsize 0\n",
      "2020-09-28 06:06:54,634 : INFO : EPOCH 2 - PROGRESS: at 17.92% examples, 71254 words/s, in_qsize 8, out_qsize 0\n",
      "2020-09-28 06:06:55,650 : INFO : EPOCH 2 - PROGRESS: at 18.91% examples, 71376 words/s, in_qsize 7, out_qsize 0\n",
      "2020-09-28 06:06:56,727 : INFO : EPOCH 2 - PROGRESS: at 19.92% examples, 71688 words/s, in_qsize 7, out_qsize 0\n",
      "2020-09-28 06:06:57,954 : INFO : EPOCH 2 - PROGRESS: at 21.02% examples, 71481 words/s, in_qsize 7, out_qsize 0\n",
      "2020-09-28 06:06:58,985 : INFO : EPOCH 2 - PROGRESS: at 21.94% examples, 71502 words/s, in_qsize 7, out_qsize 0\n",
      "2020-09-28 06:07:00,049 : INFO : EPOCH 2 - PROGRESS: at 22.73% examples, 71434 words/s, in_qsize 7, out_qsize 0\n",
      "2020-09-28 06:07:01,141 : INFO : EPOCH 2 - PROGRESS: at 23.80% examples, 71621 words/s, in_qsize 7, out_qsize 0\n",
      "2020-09-28 06:07:02,266 : INFO : EPOCH 2 - PROGRESS: at 24.86% examples, 71715 words/s, in_qsize 7, out_qsize 0\n",
      "2020-09-28 06:07:03,363 : INFO : EPOCH 2 - PROGRESS: at 25.73% examples, 71742 words/s, in_qsize 7, out_qsize 0\n",
      "2020-09-28 06:07:04,366 : INFO : EPOCH 2 - PROGRESS: at 26.75% examples, 71798 words/s, in_qsize 7, out_qsize 0\n",
      "2020-09-28 06:07:05,398 : INFO : EPOCH 2 - PROGRESS: at 27.61% examples, 71700 words/s, in_qsize 7, out_qsize 0\n",
      "2020-09-28 06:07:06,430 : INFO : EPOCH 2 - PROGRESS: at 28.52% examples, 71716 words/s, in_qsize 7, out_qsize 0\n",
      "2020-09-28 06:07:07,447 : INFO : EPOCH 2 - PROGRESS: at 29.44% examples, 71755 words/s, in_qsize 7, out_qsize 0\n",
      "2020-09-28 06:07:08,504 : INFO : EPOCH 2 - PROGRESS: at 30.34% examples, 71692 words/s, in_qsize 7, out_qsize 0\n",
      "2020-09-28 06:07:09,542 : INFO : EPOCH 2 - PROGRESS: at 31.31% examples, 71694 words/s, in_qsize 7, out_qsize 0\n",
      "2020-09-28 06:07:10,702 : INFO : EPOCH 2 - PROGRESS: at 32.32% examples, 71704 words/s, in_qsize 7, out_qsize 0\n",
      "2020-09-28 06:07:11,708 : INFO : EPOCH 2 - PROGRESS: at 33.21% examples, 71766 words/s, in_qsize 7, out_qsize 0\n",
      "2020-09-28 06:07:12,762 : INFO : EPOCH 2 - PROGRESS: at 34.13% examples, 71724 words/s, in_qsize 7, out_qsize 0\n",
      "2020-09-28 06:07:13,824 : INFO : EPOCH 2 - PROGRESS: at 35.05% examples, 71678 words/s, in_qsize 7, out_qsize 0\n",
      "2020-09-28 06:07:14,834 : INFO : EPOCH 2 - PROGRESS: at 35.94% examples, 71730 words/s, in_qsize 7, out_qsize 0\n",
      "2020-09-28 06:07:15,975 : INFO : EPOCH 2 - PROGRESS: at 36.93% examples, 71741 words/s, in_qsize 7, out_qsize 0\n",
      "2020-09-28 06:07:17,087 : INFO : EPOCH 2 - PROGRESS: at 37.88% examples, 71609 words/s, in_qsize 7, out_qsize 0\n",
      "2020-09-28 06:07:18,089 : INFO : EPOCH 2 - PROGRESS: at 38.76% examples, 71670 words/s, in_qsize 7, out_qsize 0\n",
      "2020-09-28 06:07:19,138 : INFO : EPOCH 2 - PROGRESS: at 39.58% examples, 71655 words/s, in_qsize 7, out_qsize 0\n",
      "2020-09-28 06:07:20,301 : INFO : EPOCH 2 - PROGRESS: at 40.59% examples, 71661 words/s, in_qsize 6, out_qsize 2\n",
      "2020-09-28 06:07:21,370 : INFO : EPOCH 2 - PROGRESS: at 41.57% examples, 71587 words/s, in_qsize 6, out_qsize 1\n",
      "2020-09-28 06:07:22,395 : INFO : EPOCH 2 - PROGRESS: at 42.48% examples, 71605 words/s, in_qsize 6, out_qsize 1\n",
      "2020-09-28 06:07:23,438 : INFO : EPOCH 2 - PROGRESS: at 43.46% examples, 71750 words/s, in_qsize 7, out_qsize 0\n",
      "2020-09-28 06:07:24,532 : INFO : EPOCH 2 - PROGRESS: at 44.27% examples, 71672 words/s, in_qsize 7, out_qsize 0\n",
      "2020-09-28 06:07:25,578 : INFO : EPOCH 2 - PROGRESS: at 45.16% examples, 71666 words/s, in_qsize 7, out_qsize 0\n",
      "2020-09-28 06:07:26,595 : INFO : EPOCH 2 - PROGRESS: at 46.05% examples, 71680 words/s, in_qsize 7, out_qsize 0\n",
      "2020-09-28 06:07:27,639 : INFO : EPOCH 2 - PROGRESS: at 46.93% examples, 71660 words/s, in_qsize 7, out_qsize 0\n",
      "2020-09-28 06:07:28,645 : INFO : EPOCH 2 - PROGRESS: at 47.83% examples, 71700 words/s, in_qsize 7, out_qsize 0\n",
      "2020-09-28 06:07:29,714 : INFO : EPOCH 2 - PROGRESS: at 48.69% examples, 71664 words/s, in_qsize 7, out_qsize 0\n",
      "2020-09-28 06:07:30,746 : INFO : EPOCH 2 - PROGRESS: at 49.58% examples, 71673 words/s, in_qsize 7, out_qsize 0\n",
      "2020-09-28 06:07:31,805 : INFO : EPOCH 2 - PROGRESS: at 50.63% examples, 71825 words/s, in_qsize 7, out_qsize 0\n",
      "2020-09-28 06:07:32,819 : INFO : EPOCH 2 - PROGRESS: at 51.36% examples, 71680 words/s, in_qsize 7, out_qsize 0\n",
      "2020-09-28 06:07:33,883 : INFO : EPOCH 2 - PROGRESS: at 52.24% examples, 71648 words/s, in_qsize 7, out_qsize 0\n",
      "2020-09-28 06:07:34,952 : INFO : EPOCH 2 - PROGRESS: at 53.22% examples, 71749 words/s, in_qsize 7, out_qsize 1\n",
      "2020-09-28 06:07:35,955 : INFO : EPOCH 2 - PROGRESS: at 54.10% examples, 71769 words/s, in_qsize 7, out_qsize 0\n",
      "2020-09-28 06:07:36,997 : INFO : EPOCH 2 - PROGRESS: at 54.97% examples, 71771 words/s, in_qsize 7, out_qsize 0\n",
      "2020-09-28 06:07:38,072 : INFO : EPOCH 2 - PROGRESS: at 55.97% examples, 71863 words/s, in_qsize 7, out_qsize 0\n",
      "2020-09-28 06:07:39,171 : INFO : EPOCH 2 - PROGRESS: at 56.84% examples, 71793 words/s, in_qsize 7, out_qsize 0\n",
      "2020-09-28 06:07:40,172 : INFO : EPOCH 2 - PROGRESS: at 57.78% examples, 71821 words/s, in_qsize 7, out_qsize 0\n",
      "2020-09-28 06:07:41,204 : INFO : EPOCH 2 - PROGRESS: at 58.69% examples, 71825 words/s, in_qsize 7, out_qsize 0\n",
      "2020-09-28 06:07:42,240 : INFO : EPOCH 2 - PROGRESS: at 59.53% examples, 71682 words/s, in_qsize 6, out_qsize 1\n",
      "2020-09-28 06:07:43,265 : INFO : EPOCH 2 - PROGRESS: at 60.36% examples, 71689 words/s, in_qsize 7, out_qsize 0\n",
      "2020-09-28 06:07:44,309 : INFO : EPOCH 2 - PROGRESS: at 61.33% examples, 71685 words/s, in_qsize 7, out_qsize 0\n",
      "2020-09-28 06:07:45,357 : INFO : EPOCH 2 - PROGRESS: at 62.26% examples, 71685 words/s, in_qsize 7, out_qsize 0\n",
      "2020-09-28 06:07:46,374 : INFO : EPOCH 2 - PROGRESS: at 63.12% examples, 71702 words/s, in_qsize 7, out_qsize 0\n",
      "2020-09-28 06:07:47,414 : INFO : EPOCH 2 - PROGRESS: at 64.04% examples, 71676 words/s, in_qsize 7, out_qsize 0\n",
      "2020-09-28 06:07:48,474 : INFO : EPOCH 2 - PROGRESS: at 64.93% examples, 71664 words/s, in_qsize 7, out_qsize 0\n",
      "2020-09-28 06:07:49,478 : INFO : EPOCH 2 - PROGRESS: at 65.87% examples, 71805 words/s, in_qsize 8, out_qsize 0\n",
      "2020-09-28 06:07:50,542 : INFO : EPOCH 2 - PROGRESS: at 66.77% examples, 71776 words/s, in_qsize 7, out_qsize 0\n",
      "2020-09-28 06:07:51,570 : INFO : EPOCH 2 - PROGRESS: at 67.72% examples, 71783 words/s, in_qsize 7, out_qsize 0\n",
      "2020-09-28 06:07:52,640 : INFO : EPOCH 2 - PROGRESS: at 68.51% examples, 71643 words/s, in_qsize 7, out_qsize 0\n",
      "2020-09-28 06:07:53,694 : INFO : EPOCH 2 - PROGRESS: at 69.55% examples, 71730 words/s, in_qsize 7, out_qsize 0\n",
      "2020-09-28 06:07:54,742 : INFO : EPOCH 2 - PROGRESS: at 70.40% examples, 71709 words/s, in_qsize 7, out_qsize 0\n",
      "2020-09-28 06:07:55,786 : INFO : EPOCH 2 - PROGRESS: at 71.31% examples, 71675 words/s, in_qsize 6, out_qsize 1\n",
      "2020-09-28 06:07:56,832 : INFO : EPOCH 2 - PROGRESS: at 72.29% examples, 71780 words/s, in_qsize 7, out_qsize 0\n",
      "2020-09-28 06:07:57,847 : INFO : EPOCH 2 - PROGRESS: at 73.21% examples, 71801 words/s, in_qsize 7, out_qsize 0\n",
      "2020-09-28 06:07:58,891 : INFO : EPOCH 2 - PROGRESS: at 74.13% examples, 71794 words/s, in_qsize 7, out_qsize 0\n",
      "2020-09-28 06:07:59,956 : INFO : EPOCH 2 - PROGRESS: at 75.01% examples, 71769 words/s, in_qsize 7, out_qsize 0\n",
      "2020-09-28 06:08:01,018 : INFO : EPOCH 2 - PROGRESS: at 76.04% examples, 71857 words/s, in_qsize 7, out_qsize 0\n",
      "2020-09-28 06:08:02,078 : INFO : EPOCH 2 - PROGRESS: at 76.91% examples, 71839 words/s, in_qsize 7, out_qsize 0\n",
      "2020-09-28 06:08:03,386 : INFO : EPOCH 2 - PROGRESS: at 77.95% examples, 71737 words/s, in_qsize 7, out_qsize 0\n",
      "2020-09-28 06:08:04,420 : INFO : EPOCH 2 - PROGRESS: at 78.86% examples, 71725 words/s, in_qsize 7, out_qsize 0\n",
      "2020-09-28 06:08:05,437 : INFO : EPOCH 2 - PROGRESS: at 79.76% examples, 71745 words/s, in_qsize 7, out_qsize 0\n",
      "2020-09-28 06:08:06,464 : INFO : EPOCH 2 - PROGRESS: at 80.72% examples, 71757 words/s, in_qsize 7, out_qsize 0\n",
      "2020-09-28 06:08:07,479 : INFO : EPOCH 2 - PROGRESS: at 81.65% examples, 71759 words/s, in_qsize 7, out_qsize 0\n",
      "2020-09-28 06:08:08,673 : INFO : EPOCH 2 - PROGRESS: at 82.68% examples, 71741 words/s, in_qsize 7, out_qsize 0\n",
      "2020-09-28 06:08:09,712 : INFO : EPOCH 2 - PROGRESS: at 83.58% examples, 71741 words/s, in_qsize 7, out_qsize 0\n",
      "2020-09-28 06:08:10,769 : INFO : EPOCH 2 - PROGRESS: at 84.43% examples, 71721 words/s, in_qsize 7, out_qsize 0\n",
      "2020-09-28 06:08:11,780 : INFO : EPOCH 2 - PROGRESS: at 85.29% examples, 71716 words/s, in_qsize 7, out_qsize 0\n",
      "2020-09-28 06:08:12,833 : INFO : EPOCH 2 - PROGRESS: at 86.20% examples, 71700 words/s, in_qsize 7, out_qsize 0\n",
      "2020-09-28 06:08:13,863 : INFO : EPOCH 2 - PROGRESS: at 87.14% examples, 71707 words/s, in_qsize 8, out_qsize 1\n",
      "2020-09-28 06:08:14,868 : INFO : EPOCH 2 - PROGRESS: at 88.16% examples, 71810 words/s, in_qsize 8, out_qsize 0\n",
      "2020-09-28 06:08:15,930 : INFO : EPOCH 2 - PROGRESS: at 89.08% examples, 71785 words/s, in_qsize 7, out_qsize 0\n",
      "2020-09-28 06:08:16,949 : INFO : EPOCH 2 - PROGRESS: at 89.95% examples, 71793 words/s, in_qsize 8, out_qsize 0\n",
      "2020-09-28 06:08:18,008 : INFO : EPOCH 2 - PROGRESS: at 90.85% examples, 71768 words/s, in_qsize 7, out_qsize 0\n",
      "2020-09-28 06:08:19,019 : INFO : EPOCH 2 - PROGRESS: at 91.79% examples, 71788 words/s, in_qsize 7, out_qsize 0\n",
      "2020-09-28 06:08:20,054 : INFO : EPOCH 2 - PROGRESS: at 92.74% examples, 71784 words/s, in_qsize 7, out_qsize 0\n",
      "2020-09-28 06:08:21,104 : INFO : EPOCH 2 - PROGRESS: at 93.71% examples, 71780 words/s, in_qsize 7, out_qsize 0\n",
      "2020-09-28 06:08:22,217 : INFO : EPOCH 2 - PROGRESS: at 94.55% examples, 71735 words/s, in_qsize 7, out_qsize 0\n",
      "2020-09-28 06:08:23,319 : INFO : EPOCH 2 - PROGRESS: at 95.59% examples, 71775 words/s, in_qsize 7, out_qsize 0\n",
      "2020-09-28 06:08:24,506 : INFO : EPOCH 2 - PROGRESS: at 96.63% examples, 71764 words/s, in_qsize 7, out_qsize 0\n",
      "2020-09-28 06:08:25,525 : INFO : EPOCH 2 - PROGRESS: at 97.50% examples, 71778 words/s, in_qsize 7, out_qsize 0\n",
      "2020-09-28 06:08:26,555 : INFO : EPOCH 2 - PROGRESS: at 98.43% examples, 71779 words/s, in_qsize 7, out_qsize 0\n",
      "2020-09-28 06:08:27,570 : INFO : EPOCH 2 - PROGRESS: at 99.29% examples, 71790 words/s, in_qsize 6, out_qsize 0\n",
      "2020-09-28 06:08:27,917 : INFO : worker thread finished; awaiting finish of 3 more threads\n",
      "2020-09-28 06:08:28,089 : INFO : worker thread finished; awaiting finish of 2 more threads\n",
      "2020-09-28 06:08:28,135 : INFO : worker thread finished; awaiting finish of 1 more threads\n",
      "2020-09-28 06:08:28,175 : INFO : worker thread finished; awaiting finish of 0 more threads\n",
      "2020-09-28 06:08:28,177 : INFO : EPOCH - 2 : training on 8639353 raw words (8166319 effective words) took 113.6s, 71891 effective words/s\n",
      "2020-09-28 06:08:29,220 : INFO : EPOCH 3 - PROGRESS: at 0.76% examples, 54356 words/s, in_qsize 7, out_qsize 0\n",
      "2020-09-28 06:08:30,257 : INFO : EPOCH 3 - PROGRESS: at 1.68% examples, 63004 words/s, in_qsize 7, out_qsize 0\n",
      "2020-09-28 06:08:31,352 : INFO : EPOCH 3 - PROGRESS: at 2.76% examples, 67718 words/s, in_qsize 7, out_qsize 0\n",
      "2020-09-28 06:08:32,368 : INFO : EPOCH 3 - PROGRESS: at 3.69% examples, 69063 words/s, in_qsize 7, out_qsize 0\n",
      "2020-09-28 06:08:33,430 : INFO : EPOCH 3 - PROGRESS: at 4.57% examples, 68996 words/s, in_qsize 7, out_qsize 0\n",
      "2020-09-28 06:08:34,481 : INFO : EPOCH 3 - PROGRESS: at 5.67% examples, 70883 words/s, in_qsize 7, out_qsize 0\n",
      "2020-09-28 06:08:35,552 : INFO : EPOCH 3 - PROGRESS: at 6.62% examples, 70707 words/s, in_qsize 8, out_qsize 0\n",
      "2020-09-28 06:08:36,787 : INFO : EPOCH 3 - PROGRESS: at 7.67% examples, 70199 words/s, in_qsize 7, out_qsize 0\n",
      "2020-09-28 06:08:37,809 : INFO : EPOCH 3 - PROGRESS: at 8.67% examples, 70514 words/s, in_qsize 7, out_qsize 0\n",
      "2020-09-28 06:08:38,855 : INFO : EPOCH 3 - PROGRESS: at 9.65% examples, 70569 words/s, in_qsize 7, out_qsize 0\n",
      "2020-09-28 06:08:39,941 : INFO : EPOCH 3 - PROGRESS: at 10.65% examples, 71094 words/s, in_qsize 7, out_qsize 0\n",
      "2020-09-28 06:08:41,101 : INFO : EPOCH 3 - PROGRESS: at 11.69% examples, 71083 words/s, in_qsize 7, out_qsize 0\n",
      "2020-09-28 06:08:42,159 : INFO : EPOCH 3 - PROGRESS: at 12.61% examples, 71001 words/s, in_qsize 7, out_qsize 0\n",
      "2020-09-28 06:08:43,171 : INFO : EPOCH 3 - PROGRESS: at 13.51% examples, 71152 words/s, in_qsize 7, out_qsize 0\n",
      "2020-09-28 06:08:44,202 : INFO : EPOCH 3 - PROGRESS: at 14.47% examples, 71220 words/s, in_qsize 7, out_qsize 0\n",
      "2020-09-28 06:08:45,236 : INFO : EPOCH 3 - PROGRESS: at 15.34% examples, 71281 words/s, in_qsize 7, out_qsize 0\n",
      "2020-09-28 06:08:46,298 : INFO : EPOCH 3 - PROGRESS: at 16.25% examples, 71168 words/s, in_qsize 7, out_qsize 0\n",
      "2020-09-28 06:08:47,309 : INFO : EPOCH 3 - PROGRESS: at 17.16% examples, 71302 words/s, in_qsize 7, out_qsize 0\n",
      "2020-09-28 06:08:48,560 : INFO : EPOCH 3 - PROGRESS: at 18.18% examples, 71033 words/s, in_qsize 7, out_qsize 0\n",
      "2020-09-28 06:08:49,563 : INFO : EPOCH 3 - PROGRESS: at 19.13% examples, 71178 words/s, in_qsize 7, out_qsize 0\n",
      "2020-09-28 06:08:50,617 : INFO : EPOCH 3 - PROGRESS: at 20.19% examples, 71569 words/s, in_qsize 7, out_qsize 0\n",
      "2020-09-28 06:08:51,803 : INFO : EPOCH 3 - PROGRESS: at 21.26% examples, 71505 words/s, in_qsize 7, out_qsize 0\n",
      "2020-09-28 06:08:52,826 : INFO : EPOCH 3 - PROGRESS: at 22.27% examples, 71938 words/s, in_qsize 7, out_qsize 0\n",
      "2020-09-28 06:08:53,839 : INFO : EPOCH 3 - PROGRESS: at 22.98% examples, 71631 words/s, in_qsize 7, out_qsize 0\n",
      "2020-09-28 06:08:54,865 : INFO : EPOCH 3 - PROGRESS: at 23.92% examples, 71640 words/s, in_qsize 7, out_qsize 0\n",
      "2020-09-28 06:08:55,961 : INFO : EPOCH 3 - PROGRESS: at 24.96% examples, 71783 words/s, in_qsize 7, out_qsize 0\n",
      "2020-09-28 06:08:57,092 : INFO : EPOCH 3 - PROGRESS: at 25.86% examples, 71745 words/s, in_qsize 8, out_qsize 0\n",
      "2020-09-28 06:08:58,306 : INFO : EPOCH 3 - PROGRESS: at 27.04% examples, 71797 words/s, in_qsize 7, out_qsize 0\n",
      "2020-09-28 06:08:59,374 : INFO : EPOCH 3 - PROGRESS: at 27.96% examples, 71717 words/s, in_qsize 7, out_qsize 0\n",
      "2020-09-28 06:09:00,478 : INFO : EPOCH 3 - PROGRESS: at 28.97% examples, 71862 words/s, in_qsize 7, out_qsize 0\n",
      "2020-09-28 06:09:01,490 : INFO : EPOCH 3 - PROGRESS: at 30.12% examples, 72455 words/s, in_qsize 7, out_qsize 0\n",
      "2020-09-28 06:09:02,509 : INFO : EPOCH 3 - PROGRESS: at 30.95% examples, 72224 words/s, in_qsize 8, out_qsize 1\n",
      "2020-09-28 06:09:03,509 : INFO : EPOCH 3 - PROGRESS: at 31.88% examples, 72267 words/s, in_qsize 7, out_qsize 0\n",
      "2020-09-28 06:09:04,587 : INFO : EPOCH 3 - PROGRESS: at 32.87% examples, 72421 words/s, in_qsize 7, out_qsize 0\n",
      "2020-09-28 06:09:05,594 : INFO : EPOCH 3 - PROGRESS: at 33.82% examples, 72446 words/s, in_qsize 7, out_qsize 0\n",
      "2020-09-28 06:09:06,634 : INFO : EPOCH 3 - PROGRESS: at 34.71% examples, 72435 words/s, in_qsize 7, out_qsize 0\n",
      "2020-09-28 06:09:07,654 : INFO : EPOCH 3 - PROGRESS: at 35.66% examples, 72438 words/s, in_qsize 7, out_qsize 0\n",
      "2020-09-28 06:09:08,656 : INFO : EPOCH 3 - PROGRESS: at 36.48% examples, 72459 words/s, in_qsize 7, out_qsize 0\n",
      "2020-09-28 06:09:09,689 : INFO : EPOCH 3 - PROGRESS: at 37.40% examples, 72430 words/s, in_qsize 7, out_qsize 0\n",
      "2020-09-28 06:09:10,710 : INFO : EPOCH 3 - PROGRESS: at 38.31% examples, 72447 words/s, in_qsize 7, out_qsize 0\n",
      "2020-09-28 06:09:11,720 : INFO : EPOCH 3 - PROGRESS: at 39.19% examples, 72465 words/s, in_qsize 7, out_qsize 0\n",
      "2020-09-28 06:09:12,912 : INFO : EPOCH 3 - PROGRESS: at 40.11% examples, 72395 words/s, in_qsize 7, out_qsize 0\n",
      "2020-09-28 06:09:13,912 : INFO : EPOCH 3 - PROGRESS: at 41.24% examples, 72627 words/s, in_qsize 7, out_qsize 0\n",
      "2020-09-28 06:09:14,913 : INFO : EPOCH 3 - PROGRESS: at 42.01% examples, 72465 words/s, in_qsize 7, out_qsize 0\n",
      "2020-09-28 06:09:15,919 : INFO : EPOCH 3 - PROGRESS: at 42.89% examples, 72502 words/s, in_qsize 6, out_qsize 1\n",
      "2020-09-28 06:09:16,973 : INFO : EPOCH 3 - PROGRESS: at 43.89% examples, 72609 words/s, in_qsize 6, out_qsize 1\n",
      "2020-09-28 06:09:18,032 : INFO : EPOCH 3 - PROGRESS: at 44.74% examples, 72588 words/s, in_qsize 7, out_qsize 0\n",
      "2020-09-28 06:09:19,079 : INFO : EPOCH 3 - PROGRESS: at 45.71% examples, 72705 words/s, in_qsize 7, out_qsize 0\n",
      "2020-09-28 06:09:20,105 : INFO : EPOCH 3 - PROGRESS: at 46.72% examples, 72866 words/s, in_qsize 7, out_qsize 0\n",
      "2020-09-28 06:09:21,145 : INFO : EPOCH 3 - PROGRESS: at 47.58% examples, 72854 words/s, in_qsize 7, out_qsize 0\n",
      "2020-09-28 06:09:22,176 : INFO : EPOCH 3 - PROGRESS: at 48.34% examples, 72659 words/s, in_qsize 7, out_qsize 0\n",
      "2020-09-28 06:09:23,206 : INFO : EPOCH 3 - PROGRESS: at 49.48% examples, 72989 words/s, in_qsize 7, out_qsize 0\n",
      "2020-09-28 06:09:24,576 : INFO : EPOCH 3 - PROGRESS: at 50.52% examples, 72699 words/s, in_qsize 7, out_qsize 0\n",
      "2020-09-28 06:09:25,603 : INFO : EPOCH 3 - PROGRESS: at 51.36% examples, 72700 words/s, in_qsize 7, out_qsize 0\n",
      "2020-09-28 06:09:26,637 : INFO : EPOCH 3 - PROGRESS: at 52.24% examples, 72685 words/s, in_qsize 7, out_qsize 0\n",
      "2020-09-28 06:09:27,679 : INFO : EPOCH 3 - PROGRESS: at 53.24% examples, 72791 words/s, in_qsize 7, out_qsize 0\n",
      "2020-09-28 06:09:28,693 : INFO : EPOCH 3 - PROGRESS: at 54.10% examples, 72794 words/s, in_qsize 7, out_qsize 0\n",
      "2020-09-28 06:09:29,729 : INFO : EPOCH 3 - PROGRESS: at 55.08% examples, 72930 words/s, in_qsize 7, out_qsize 0\n",
      "2020-09-28 06:09:30,734 : INFO : EPOCH 3 - PROGRESS: at 55.97% examples, 72942 words/s, in_qsize 7, out_qsize 0\n",
      "2020-09-28 06:09:31,751 : INFO : EPOCH 3 - PROGRESS: at 56.84% examples, 72946 words/s, in_qsize 8, out_qsize 0\n",
      "2020-09-28 06:09:32,974 : INFO : EPOCH 3 - PROGRESS: at 57.89% examples, 72851 words/s, in_qsize 7, out_qsize 0\n",
      "2020-09-28 06:09:34,111 : INFO : EPOCH 3 - PROGRESS: at 58.95% examples, 72865 words/s, in_qsize 7, out_qsize 0\n",
      "2020-09-28 06:09:35,130 : INFO : EPOCH 3 - PROGRESS: at 59.82% examples, 72863 words/s, in_qsize 7, out_qsize 0\n",
      "2020-09-28 06:09:36,131 : INFO : EPOCH 3 - PROGRESS: at 60.71% examples, 72876 words/s, in_qsize 7, out_qsize 0\n",
      "2020-09-28 06:09:37,157 : INFO : EPOCH 3 - PROGRESS: at 61.81% examples, 73011 words/s, in_qsize 7, out_qsize 0\n",
      "2020-09-28 06:09:38,163 : INFO : EPOCH 3 - PROGRESS: at 62.57% examples, 72891 words/s, in_qsize 8, out_qsize 0\n",
      "2020-09-28 06:09:39,177 : INFO : EPOCH 3 - PROGRESS: at 63.57% examples, 73019 words/s, in_qsize 7, out_qsize 0\n",
      "2020-09-28 06:09:40,211 : INFO : EPOCH 3 - PROGRESS: at 64.62% examples, 73128 words/s, in_qsize 7, out_qsize 0\n",
      "2020-09-28 06:09:41,423 : INFO : EPOCH 3 - PROGRESS: at 65.54% examples, 73049 words/s, in_qsize 7, out_qsize 0\n",
      "2020-09-28 06:09:42,476 : INFO : EPOCH 3 - PROGRESS: at 66.45% examples, 73011 words/s, in_qsize 7, out_qsize 0\n",
      "2020-09-28 06:09:43,534 : INFO : EPOCH 3 - PROGRESS: at 67.49% examples, 73094 words/s, in_qsize 7, out_qsize 0\n",
      "2020-09-28 06:09:44,542 : INFO : EPOCH 3 - PROGRESS: at 68.39% examples, 73104 words/s, in_qsize 7, out_qsize 0\n",
      "2020-09-28 06:09:45,630 : INFO : EPOCH 3 - PROGRESS: at 69.43% examples, 73153 words/s, in_qsize 7, out_qsize 0\n",
      "2020-09-28 06:09:46,782 : INFO : EPOCH 3 - PROGRESS: at 70.40% examples, 73136 words/s, in_qsize 7, out_qsize 0\n",
      "2020-09-28 06:09:47,794 : INFO : EPOCH 3 - PROGRESS: at 71.31% examples, 73112 words/s, in_qsize 7, out_qsize 0\n",
      "2020-09-28 06:09:48,861 : INFO : EPOCH 3 - PROGRESS: at 72.29% examples, 73182 words/s, in_qsize 7, out_qsize 0\n",
      "2020-09-28 06:09:50,054 : INFO : EPOCH 3 - PROGRESS: at 73.34% examples, 73136 words/s, in_qsize 7, out_qsize 0\n",
      "2020-09-28 06:09:51,060 : INFO : EPOCH 3 - PROGRESS: at 74.24% examples, 73149 words/s, in_qsize 7, out_qsize 0\n",
      "2020-09-28 06:09:52,191 : INFO : EPOCH 3 - PROGRESS: at 75.21% examples, 73161 words/s, in_qsize 7, out_qsize 0\n",
      "2020-09-28 06:09:53,223 : INFO : EPOCH 3 - PROGRESS: at 76.18% examples, 73161 words/s, in_qsize 7, out_qsize 0\n",
      "2020-09-28 06:09:54,278 : INFO : EPOCH 3 - PROGRESS: at 77.16% examples, 73228 words/s, in_qsize 7, out_qsize 0\n",
      "2020-09-28 06:09:55,290 : INFO : EPOCH 3 - PROGRESS: at 78.06% examples, 73231 words/s, in_qsize 7, out_qsize 0\n",
      "2020-09-28 06:09:56,303 : INFO : EPOCH 3 - PROGRESS: at 78.99% examples, 73230 words/s, in_qsize 7, out_qsize 0\n",
      "2020-09-28 06:09:57,317 : INFO : EPOCH 3 - PROGRESS: at 79.88% examples, 73229 words/s, in_qsize 8, out_qsize 1\n",
      "2020-09-28 06:09:58,378 : INFO : EPOCH 3 - PROGRESS: at 80.96% examples, 73297 words/s, in_qsize 7, out_qsize 0\n",
      "2020-09-28 06:09:59,397 : INFO : EPOCH 3 - PROGRESS: at 81.89% examples, 73290 words/s, in_qsize 7, out_qsize 0\n",
      "2020-09-28 06:10:00,406 : INFO : EPOCH 3 - PROGRESS: at 82.77% examples, 73300 words/s, in_qsize 7, out_qsize 0\n",
      "2020-09-28 06:10:01,555 : INFO : EPOCH 3 - PROGRESS: at 83.79% examples, 73289 words/s, in_qsize 7, out_qsize 0\n",
      "2020-09-28 06:10:02,572 : INFO : EPOCH 3 - PROGRESS: at 84.77% examples, 73376 words/s, in_qsize 8, out_qsize 0\n",
      "2020-09-28 06:10:03,590 : INFO : EPOCH 3 - PROGRESS: at 85.65% examples, 73356 words/s, in_qsize 7, out_qsize 0\n",
      "2020-09-28 06:10:04,627 : INFO : EPOCH 3 - PROGRESS: at 86.54% examples, 73338 words/s, in_qsize 7, out_qsize 0\n",
      "2020-09-28 06:10:05,856 : INFO : EPOCH 3 - PROGRESS: at 87.65% examples, 73274 words/s, in_qsize 6, out_qsize 1\n",
      "2020-09-28 06:10:06,861 : INFO : EPOCH 3 - PROGRESS: at 88.52% examples, 73266 words/s, in_qsize 7, out_qsize 0\n",
      "2020-09-28 06:10:07,875 : INFO : EPOCH 3 - PROGRESS: at 89.35% examples, 73260 words/s, in_qsize 7, out_qsize 0\n",
      "2020-09-28 06:10:09,005 : INFO : EPOCH 3 - PROGRESS: at 90.38% examples, 73257 words/s, in_qsize 7, out_qsize 0\n",
      "2020-09-28 06:10:10,047 : INFO : EPOCH 3 - PROGRESS: at 91.33% examples, 73239 words/s, in_qsize 7, out_qsize 0\n",
      "2020-09-28 06:10:11,178 : INFO : EPOCH 3 - PROGRESS: at 92.52% examples, 73333 words/s, in_qsize 7, out_qsize 0\n",
      "2020-09-28 06:10:12,242 : INFO : EPOCH 3 - PROGRESS: at 93.58% examples, 73393 words/s, in_qsize 7, out_qsize 0\n",
      "2020-09-28 06:10:13,365 : INFO : EPOCH 3 - PROGRESS: at 94.58% examples, 73408 words/s, in_qsize 7, out_qsize 0\n",
      "2020-09-28 06:10:14,390 : INFO : EPOCH 3 - PROGRESS: at 95.46% examples, 73412 words/s, in_qsize 7, out_qsize 0\n",
      "2020-09-28 06:10:15,401 : INFO : EPOCH 3 - PROGRESS: at 96.52% examples, 73491 words/s, in_qsize 7, out_qsize 0\n",
      "2020-09-28 06:10:16,429 : INFO : EPOCH 3 - PROGRESS: at 97.40% examples, 73486 words/s, in_qsize 7, out_qsize 0\n",
      "2020-09-28 06:10:17,851 : INFO : EPOCH 3 - PROGRESS: at 98.43% examples, 73290 words/s, in_qsize 8, out_qsize 1\n",
      "2020-09-28 06:10:18,856 : INFO : EPOCH 3 - PROGRESS: at 99.29% examples, 73293 words/s, in_qsize 6, out_qsize 0\n",
      "2020-09-28 06:10:18,993 : INFO : worker thread finished; awaiting finish of 3 more threads\n",
      "2020-09-28 06:10:19,175 : INFO : worker thread finished; awaiting finish of 2 more threads\n",
      "2020-09-28 06:10:19,260 : INFO : worker thread finished; awaiting finish of 1 more threads\n",
      "2020-09-28 06:10:19,272 : INFO : worker thread finished; awaiting finish of 0 more threads\n",
      "2020-09-28 06:10:19,273 : INFO : EPOCH - 3 : training on 8639353 raw words (8166619 effective words) took 111.1s, 73515 effective words/s\n",
      "2020-09-28 06:10:20,339 : INFO : EPOCH 4 - PROGRESS: at 0.86% examples, 61881 words/s, in_qsize 7, out_qsize 0\n",
      "2020-09-28 06:10:21,362 : INFO : EPOCH 4 - PROGRESS: at 1.92% examples, 71633 words/s, in_qsize 7, out_qsize 0\n",
      "2020-09-28 06:10:22,691 : INFO : EPOCH 4 - PROGRESS: at 2.99% examples, 68249 words/s, in_qsize 7, out_qsize 0\n",
      "2020-09-28 06:10:23,730 : INFO : EPOCH 4 - PROGRESS: at 4.02% examples, 70836 words/s, in_qsize 8, out_qsize 0\n",
      "2020-09-28 06:10:24,740 : INFO : EPOCH 4 - PROGRESS: at 4.93% examples, 71471 words/s, in_qsize 7, out_qsize 0\n",
      "2020-09-28 06:10:25,787 : INFO : EPOCH 4 - PROGRESS: at 6.05% examples, 72879 words/s, in_qsize 7, out_qsize 0\n",
      "2020-09-28 06:10:26,893 : INFO : EPOCH 4 - PROGRESS: at 7.08% examples, 73273 words/s, in_qsize 7, out_qsize 0\n",
      "2020-09-28 06:10:28,093 : INFO : EPOCH 4 - PROGRESS: at 8.19% examples, 72875 words/s, in_qsize 7, out_qsize 0\n",
      "2020-09-28 06:10:29,161 : INFO : EPOCH 4 - PROGRESS: at 9.23% examples, 73372 words/s, in_qsize 7, out_qsize 0\n",
      "2020-09-28 06:10:30,188 : INFO : EPOCH 4 - PROGRESS: at 10.15% examples, 73096 words/s, in_qsize 8, out_qsize 0\n",
      "2020-09-28 06:10:31,268 : INFO : EPOCH 4 - PROGRESS: at 11.36% examples, 74293 words/s, in_qsize 7, out_qsize 0\n",
      "2020-09-28 06:10:32,602 : INFO : EPOCH 4 - PROGRESS: at 12.37% examples, 73122 words/s, in_qsize 7, out_qsize 0\n",
      "2020-09-28 06:10:33,658 : INFO : EPOCH 4 - PROGRESS: at 13.40% examples, 73604 words/s, in_qsize 7, out_qsize 0\n",
      "2020-09-28 06:10:34,658 : INFO : EPOCH 4 - PROGRESS: at 14.36% examples, 73588 words/s, in_qsize 7, out_qsize 0\n",
      "2020-09-28 06:10:35,665 : INFO : EPOCH 4 - PROGRESS: at 15.25% examples, 73616 words/s, in_qsize 7, out_qsize 0\n",
      "2020-09-28 06:10:36,717 : INFO : EPOCH 4 - PROGRESS: at 16.25% examples, 73940 words/s, in_qsize 7, out_qsize 0\n",
      "2020-09-28 06:10:37,953 : INFO : EPOCH 4 - PROGRESS: at 17.36% examples, 74085 words/s, in_qsize 7, out_qsize 0\n",
      "2020-09-28 06:10:39,215 : INFO : EPOCH 4 - PROGRESS: at 18.43% examples, 73548 words/s, in_qsize 7, out_qsize 0\n",
      "2020-09-28 06:10:40,231 : INFO : EPOCH 4 - PROGRESS: at 19.46% examples, 73980 words/s, in_qsize 8, out_qsize 0\n",
      "2020-09-28 06:10:41,232 : INFO : EPOCH 4 - PROGRESS: at 20.30% examples, 73573 words/s, in_qsize 6, out_qsize 1\n",
      "2020-09-28 06:10:42,363 : INFO : EPOCH 4 - PROGRESS: at 21.37% examples, 73582 words/s, in_qsize 7, out_qsize 0\n",
      "2020-09-28 06:10:43,489 : INFO : EPOCH 4 - PROGRESS: at 22.33% examples, 73624 words/s, in_qsize 7, out_qsize 0\n",
      "2020-09-28 06:10:44,542 : INFO : EPOCH 4 - PROGRESS: at 23.34% examples, 73825 words/s, in_qsize 7, out_qsize 0\n",
      "2020-09-28 06:10:45,555 : INFO : EPOCH 4 - PROGRESS: at 24.40% examples, 74188 words/s, in_qsize 7, out_qsize 0\n",
      "2020-09-28 06:10:46,576 : INFO : EPOCH 4 - PROGRESS: at 25.31% examples, 74242 words/s, in_qsize 7, out_qsize 0\n",
      "2020-09-28 06:10:47,918 : INFO : EPOCH 4 - PROGRESS: at 26.34% examples, 73690 words/s, in_qsize 8, out_qsize 1\n",
      "2020-09-28 06:10:48,987 : INFO : EPOCH 4 - PROGRESS: at 27.41% examples, 73746 words/s, in_qsize 7, out_qsize 0\n",
      "2020-09-28 06:10:50,115 : INFO : EPOCH 4 - PROGRESS: at 28.51% examples, 74060 words/s, in_qsize 7, out_qsize 0\n",
      "2020-09-28 06:10:51,131 : INFO : EPOCH 4 - PROGRESS: at 29.55% examples, 74329 words/s, in_qsize 7, out_qsize 0\n",
      "2020-09-28 06:10:52,146 : INFO : EPOCH 4 - PROGRESS: at 30.46% examples, 74283 words/s, in_qsize 7, out_qsize 0\n",
      "2020-09-28 06:10:53,152 : INFO : EPOCH 4 - PROGRESS: at 31.43% examples, 74279 words/s, in_qsize 7, out_qsize 0\n",
      "2020-09-28 06:10:54,162 : INFO : EPOCH 4 - PROGRESS: at 32.32% examples, 74252 words/s, in_qsize 7, out_qsize 0\n",
      "2020-09-28 06:10:55,332 : INFO : EPOCH 4 - PROGRESS: at 33.33% examples, 74169 words/s, in_qsize 7, out_qsize 0\n",
      "2020-09-28 06:10:56,337 : INFO : EPOCH 4 - PROGRESS: at 34.23% examples, 74151 words/s, in_qsize 7, out_qsize 0\n",
      "2020-09-28 06:10:57,408 : INFO : EPOCH 4 - PROGRESS: at 35.26% examples, 74257 words/s, in_qsize 7, out_qsize 0\n",
      "2020-09-28 06:10:58,585 : INFO : EPOCH 4 - PROGRESS: at 36.29% examples, 74138 words/s, in_qsize 7, out_qsize 0\n",
      "2020-09-28 06:10:59,601 : INFO : EPOCH 4 - PROGRESS: at 37.28% examples, 74326 words/s, in_qsize 7, out_qsize 0\n",
      "2020-09-28 06:11:00,672 : INFO : EPOCH 4 - PROGRESS: at 38.22% examples, 74209 words/s, in_qsize 7, out_qsize 0\n",
      "2020-09-28 06:11:01,684 : INFO : EPOCH 4 - PROGRESS: at 39.08% examples, 74185 words/s, in_qsize 7, out_qsize 0\n",
      "2020-09-28 06:11:02,694 : INFO : EPOCH 4 - PROGRESS: at 39.93% examples, 74158 words/s, in_qsize 7, out_qsize 0\n",
      "2020-09-28 06:11:03,815 : INFO : EPOCH 4 - PROGRESS: at 40.97% examples, 74158 words/s, in_qsize 7, out_qsize 0\n",
      "2020-09-28 06:11:04,976 : INFO : EPOCH 4 - PROGRESS: at 42.02% examples, 74103 words/s, in_qsize 7, out_qsize 0\n",
      "2020-09-28 06:11:05,976 : INFO : EPOCH 4 - PROGRESS: at 42.89% examples, 74116 words/s, in_qsize 7, out_qsize 0\n",
      "2020-09-28 06:11:07,067 : INFO : EPOCH 4 - PROGRESS: at 43.85% examples, 74135 words/s, in_qsize 7, out_qsize 0\n",
      "2020-09-28 06:11:08,077 : INFO : EPOCH 4 - PROGRESS: at 44.74% examples, 74133 words/s, in_qsize 7, out_qsize 0\n",
      "2020-09-28 06:11:09,079 : INFO : EPOCH 4 - PROGRESS: at 45.62% examples, 74130 words/s, in_qsize 7, out_qsize 0\n",
      "2020-09-28 06:11:10,132 : INFO : EPOCH 4 - PROGRESS: at 46.61% examples, 74219 words/s, in_qsize 7, out_qsize 0\n",
      "2020-09-28 06:11:11,133 : INFO : EPOCH 4 - PROGRESS: at 47.47% examples, 74216 words/s, in_qsize 7, out_qsize 0\n",
      "2020-09-28 06:11:12,147 : INFO : EPOCH 4 - PROGRESS: at 48.22% examples, 74032 words/s, in_qsize 8, out_qsize 1\n",
      "2020-09-28 06:11:13,172 : INFO : EPOCH 4 - PROGRESS: at 49.13% examples, 74001 words/s, in_qsize 7, out_qsize 0\n",
      "2020-09-28 06:11:14,221 : INFO : EPOCH 4 - PROGRESS: at 50.17% examples, 74118 words/s, in_qsize 7, out_qsize 0\n",
      "2020-09-28 06:11:15,335 : INFO : EPOCH 4 - PROGRESS: at 51.05% examples, 73970 words/s, in_qsize 7, out_qsize 0\n",
      "2020-09-28 06:11:16,335 : INFO : EPOCH 4 - PROGRESS: at 51.91% examples, 73979 words/s, in_qsize 7, out_qsize 0\n",
      "2020-09-28 06:11:17,337 : INFO : EPOCH 4 - PROGRESS: at 52.93% examples, 74128 words/s, in_qsize 7, out_qsize 0\n",
      "2020-09-28 06:11:18,351 : INFO : EPOCH 4 - PROGRESS: at 53.78% examples, 74097 words/s, in_qsize 7, out_qsize 0\n",
      "2020-09-28 06:11:19,375 : INFO : EPOCH 4 - PROGRESS: at 54.64% examples, 74079 words/s, in_qsize 7, out_qsize 0\n",
      "2020-09-28 06:11:20,390 : INFO : EPOCH 4 - PROGRESS: at 55.49% examples, 74061 words/s, in_qsize 7, out_qsize 0\n",
      "2020-09-28 06:11:21,409 : INFO : EPOCH 4 - PROGRESS: at 56.44% examples, 74046 words/s, in_qsize 7, out_qsize 0\n",
      "2020-09-28 06:11:22,546 : INFO : EPOCH 4 - PROGRESS: at 57.44% examples, 74019 words/s, in_qsize 7, out_qsize 0\n",
      "2020-09-28 06:11:23,552 : INFO : EPOCH 4 - PROGRESS: at 58.36% examples, 74017 words/s, in_qsize 8, out_qsize 0\n",
      "2020-09-28 06:11:24,629 : INFO : EPOCH 4 - PROGRESS: at 59.42% examples, 74084 words/s, in_qsize 7, out_qsize 0\n",
      "2020-09-28 06:11:25,665 : INFO : EPOCH 4 - PROGRESS: at 60.25% examples, 74037 words/s, in_qsize 7, out_qsize 0\n",
      "2020-09-28 06:11:26,794 : INFO : EPOCH 4 - PROGRESS: at 61.33% examples, 74038 words/s, in_qsize 7, out_qsize 0\n",
      "2020-09-28 06:11:27,846 : INFO : EPOCH 4 - PROGRESS: at 62.26% examples, 73996 words/s, in_qsize 7, out_qsize 0\n",
      "2020-09-28 06:11:28,851 : INFO : EPOCH 4 - PROGRESS: at 63.12% examples, 73995 words/s, in_qsize 7, out_qsize 0\n",
      "2020-09-28 06:11:29,862 : INFO : EPOCH 4 - PROGRESS: at 64.04% examples, 73964 words/s, in_qsize 7, out_qsize 0\n",
      "2020-09-28 06:11:30,872 : INFO : EPOCH 4 - PROGRESS: at 64.93% examples, 73969 words/s, in_qsize 7, out_qsize 0\n",
      "2020-09-28 06:11:31,881 : INFO : EPOCH 4 - PROGRESS: at 65.75% examples, 73949 words/s, in_qsize 7, out_qsize 0\n",
      "2020-09-28 06:11:32,952 : INFO : EPOCH 4 - PROGRESS: at 66.77% examples, 74000 words/s, in_qsize 7, out_qsize 0\n",
      "2020-09-28 06:11:33,979 : INFO : EPOCH 4 - PROGRESS: at 67.85% examples, 74109 words/s, in_qsize 7, out_qsize 0\n",
      "2020-09-28 06:11:35,069 : INFO : EPOCH 4 - PROGRESS: at 68.86% examples, 74152 words/s, in_qsize 7, out_qsize 0\n",
      "2020-09-28 06:11:36,173 : INFO : EPOCH 4 - PROGRESS: at 69.76% examples, 74044 words/s, in_qsize 7, out_qsize 0\n",
      "2020-09-28 06:11:37,218 : INFO : EPOCH 4 - PROGRESS: at 70.73% examples, 74087 words/s, in_qsize 7, out_qsize 0\n",
      "2020-09-28 06:11:38,253 : INFO : EPOCH 4 - PROGRESS: at 71.60% examples, 74052 words/s, in_qsize 7, out_qsize 0\n",
      "2020-09-28 06:11:39,507 : INFO : EPOCH 4 - PROGRESS: at 72.64% examples, 73944 words/s, in_qsize 8, out_qsize 0\n",
      "2020-09-28 06:11:40,536 : INFO : EPOCH 4 - PROGRESS: at 73.70% examples, 74035 words/s, in_qsize 7, out_qsize 0\n",
      "2020-09-28 06:11:41,616 : INFO : EPOCH 4 - PROGRESS: at 74.57% examples, 73969 words/s, in_qsize 7, out_qsize 0\n",
      "2020-09-28 06:11:42,670 : INFO : EPOCH 4 - PROGRESS: at 75.55% examples, 74037 words/s, in_qsize 7, out_qsize 0\n",
      "2020-09-28 06:11:43,753 : INFO : EPOCH 4 - PROGRESS: at 76.44% examples, 73973 words/s, in_qsize 7, out_qsize 0\n",
      "2020-09-28 06:11:44,775 : INFO : EPOCH 4 - PROGRESS: at 77.37% examples, 73962 words/s, in_qsize 7, out_qsize 0\n",
      "2020-09-28 06:11:45,787 : INFO : EPOCH 4 - PROGRESS: at 78.40% examples, 74058 words/s, in_qsize 7, out_qsize 0\n",
      "2020-09-28 06:11:46,941 : INFO : EPOCH 4 - PROGRESS: at 79.43% examples, 74032 words/s, in_qsize 7, out_qsize 0\n",
      "2020-09-28 06:11:47,984 : INFO : EPOCH 4 - PROGRESS: at 80.50% examples, 74109 words/s, in_qsize 7, out_qsize 0\n",
      "2020-09-28 06:11:49,076 : INFO : EPOCH 4 - PROGRESS: at 81.44% examples, 74033 words/s, in_qsize 7, out_qsize 0\n",
      "2020-09-28 06:11:50,141 : INFO : EPOCH 4 - PROGRESS: at 82.34% examples, 73983 words/s, in_qsize 7, out_qsize 0\n",
      "2020-09-28 06:11:51,174 : INFO : EPOCH 4 - PROGRESS: at 83.24% examples, 73963 words/s, in_qsize 7, out_qsize 0\n",
      "2020-09-28 06:11:52,330 : INFO : EPOCH 4 - PROGRESS: at 84.22% examples, 73942 words/s, in_qsize 7, out_qsize 0\n",
      "2020-09-28 06:11:53,331 : INFO : EPOCH 4 - PROGRESS: at 85.09% examples, 73922 words/s, in_qsize 7, out_qsize 0\n",
      "2020-09-28 06:11:54,337 : INFO : EPOCH 4 - PROGRESS: at 86.00% examples, 73916 words/s, in_qsize 7, out_qsize 0\n",
      "2020-09-28 06:11:55,345 : INFO : EPOCH 4 - PROGRESS: at 86.87% examples, 73919 words/s, in_qsize 7, out_qsize 0\n",
      "2020-09-28 06:11:56,361 : INFO : EPOCH 4 - PROGRESS: at 87.83% examples, 73909 words/s, in_qsize 7, out_qsize 0\n",
      "2020-09-28 06:11:57,399 : INFO : EPOCH 4 - PROGRESS: at 88.85% examples, 73958 words/s, in_qsize 7, out_qsize 0\n",
      "2020-09-28 06:11:58,418 : INFO : EPOCH 4 - PROGRESS: at 89.85% examples, 74040 words/s, in_qsize 7, out_qsize 0\n",
      "2020-09-28 06:11:59,425 : INFO : EPOCH 4 - PROGRESS: at 90.73% examples, 74028 words/s, in_qsize 8, out_qsize 0\n",
      "2020-09-28 06:12:00,463 : INFO : EPOCH 4 - PROGRESS: at 91.79% examples, 74098 words/s, in_qsize 7, out_qsize 0\n",
      "2020-09-28 06:12:01,726 : INFO : EPOCH 4 - PROGRESS: at 92.87% examples, 73998 words/s, in_qsize 7, out_qsize 0\n",
      "2020-09-28 06:12:02,770 : INFO : EPOCH 4 - PROGRESS: at 93.79% examples, 73975 words/s, in_qsize 7, out_qsize 0\n",
      "2020-09-28 06:12:03,823 : INFO : EPOCH 4 - PROGRESS: at 94.69% examples, 73941 words/s, in_qsize 7, out_qsize 0\n",
      "2020-09-28 06:12:04,879 : INFO : EPOCH 4 - PROGRESS: at 95.68% examples, 73998 words/s, in_qsize 6, out_qsize 1\n",
      "2020-09-28 06:12:06,015 : INFO : EPOCH 4 - PROGRESS: at 96.85% examples, 74083 words/s, in_qsize 7, out_qsize 0\n",
      "2020-09-28 06:12:07,380 : INFO : EPOCH 4 - PROGRESS: at 97.87% examples, 73923 words/s, in_qsize 7, out_qsize 0\n",
      "2020-09-28 06:12:08,396 : INFO : EPOCH 4 - PROGRESS: at 98.86% examples, 73997 words/s, in_qsize 7, out_qsize 0\n",
      "2020-09-28 06:12:09,298 : INFO : worker thread finished; awaiting finish of 3 more threads\n",
      "2020-09-28 06:12:09,340 : INFO : worker thread finished; awaiting finish of 2 more threads\n",
      "2020-09-28 06:12:09,363 : INFO : worker thread finished; awaiting finish of 1 more threads\n",
      "2020-09-28 06:12:09,380 : INFO : worker thread finished; awaiting finish of 0 more threads\n",
      "2020-09-28 06:12:09,381 : INFO : EPOCH - 4 : training on 8639353 raw words (8166590 effective words) took 110.1s, 74173 effective words/s\n",
      "2020-09-28 06:12:10,438 : INFO : EPOCH 5 - PROGRESS: at 0.86% examples, 62493 words/s, in_qsize 7, out_qsize 0\n",
      "2020-09-28 06:12:11,780 : INFO : EPOCH 5 - PROGRESS: at 2.02% examples, 66705 words/s, in_qsize 7, out_qsize 0\n",
      "2020-09-28 06:12:12,767 : INFO : EPOCH 5 - PROGRESS: at 2.98% examples, 68962 words/s, in_qsize 7, out_qsize 0\n",
      "2020-09-28 06:12:13,785 : INFO : EPOCH 5 - PROGRESS: at 4.02% examples, 71685 words/s, in_qsize 7, out_qsize 0\n",
      "2020-09-28 06:12:14,823 : INFO : EPOCH 5 - PROGRESS: at 4.93% examples, 71798 words/s, in_qsize 7, out_qsize 0\n",
      "2020-09-28 06:12:15,868 : INFO : EPOCH 5 - PROGRESS: at 6.05% examples, 73154 words/s, in_qsize 8, out_qsize 0\n",
      "2020-09-28 06:12:16,870 : INFO : EPOCH 5 - PROGRESS: at 6.96% examples, 73304 words/s, in_qsize 7, out_qsize 0\n",
      "2020-09-28 06:12:17,976 : INFO : EPOCH 5 - PROGRESS: at 8.05% examples, 73560 words/s, in_qsize 7, out_qsize 0\n",
      "2020-09-28 06:12:18,991 : INFO : EPOCH 5 - PROGRESS: at 9.02% examples, 73579 words/s, in_qsize 7, out_qsize 0\n",
      "2020-09-28 06:12:20,194 : INFO : EPOCH 5 - PROGRESS: at 10.05% examples, 72921 words/s, in_qsize 7, out_qsize 0\n",
      "2020-09-28 06:12:21,272 : INFO : EPOCH 5 - PROGRESS: at 11.15% examples, 73358 words/s, in_qsize 7, out_qsize 0\n",
      "2020-09-28 06:12:22,302 : INFO : EPOCH 5 - PROGRESS: at 12.02% examples, 73240 words/s, in_qsize 7, out_qsize 0\n",
      "2020-09-28 06:12:23,302 : INFO : EPOCH 5 - PROGRESS: at 13.10% examples, 73990 words/s, in_qsize 8, out_qsize 0\n",
      "2020-09-28 06:12:24,429 : INFO : EPOCH 5 - PROGRESS: at 14.13% examples, 73992 words/s, in_qsize 7, out_qsize 0\n",
      "2020-09-28 06:12:25,453 : INFO : EPOCH 5 - PROGRESS: at 15.03% examples, 73920 words/s, in_qsize 7, out_qsize 0\n",
      "2020-09-28 06:12:26,657 : INFO : EPOCH 5 - PROGRESS: at 16.01% examples, 73637 words/s, in_qsize 7, out_qsize 0\n",
      "2020-09-28 06:12:27,757 : INFO : EPOCH 5 - PROGRESS: at 17.04% examples, 73747 words/s, in_qsize 7, out_qsize 0\n",
      "2020-09-28 06:12:28,772 : INFO : EPOCH 5 - PROGRESS: at 17.94% examples, 73721 words/s, in_qsize 7, out_qsize 0\n",
      "2020-09-28 06:12:29,837 : INFO : EPOCH 5 - PROGRESS: at 19.02% examples, 73992 words/s, in_qsize 7, out_qsize 0\n",
      "2020-09-28 06:12:31,010 : INFO : EPOCH 5 - PROGRESS: at 20.06% examples, 73850 words/s, in_qsize 7, out_qsize 0\n",
      "2020-09-28 06:12:32,136 : INFO : EPOCH 5 - PROGRESS: at 21.15% examples, 73854 words/s, in_qsize 7, out_qsize 0\n",
      "2020-09-28 06:12:33,244 : INFO : EPOCH 5 - PROGRESS: at 22.04% examples, 73536 words/s, in_qsize 7, out_qsize 0\n",
      "2020-09-28 06:12:34,258 : INFO : EPOCH 5 - PROGRESS: at 22.86% examples, 73521 words/s, in_qsize 6, out_qsize 1\n",
      "2020-09-28 06:12:35,343 : INFO : EPOCH 5 - PROGRESS: at 23.92% examples, 73650 words/s, in_qsize 8, out_qsize 0\n",
      "2020-09-28 06:12:36,467 : INFO : EPOCH 5 - PROGRESS: at 24.96% examples, 73642 words/s, in_qsize 7, out_qsize 0\n",
      "2020-09-28 06:12:37,562 : INFO : EPOCH 5 - PROGRESS: at 25.86% examples, 73592 words/s, in_qsize 7, out_qsize 0\n",
      "2020-09-28 06:12:38,568 : INFO : EPOCH 5 - PROGRESS: at 26.96% examples, 73812 words/s, in_qsize 8, out_qsize 0\n",
      "2020-09-28 06:12:39,582 : INFO : EPOCH 5 - PROGRESS: at 27.84% examples, 73790 words/s, in_qsize 7, out_qsize 0\n",
      "2020-09-28 06:12:40,779 : INFO : EPOCH 5 - PROGRESS: at 28.86% examples, 73682 words/s, in_qsize 7, out_qsize 0\n",
      "2020-09-28 06:12:41,773 : INFO : EPOCH 5 - PROGRESS: at 29.78% examples, 73666 words/s, in_qsize 7, out_qsize 0\n",
      "2020-09-28 06:12:42,778 : INFO : EPOCH 5 - PROGRESS: at 30.82% examples, 73950 words/s, in_qsize 7, out_qsize 0\n",
      "2020-09-28 06:12:43,792 : INFO : EPOCH 5 - PROGRESS: at 31.75% examples, 73944 words/s, in_qsize 8, out_qsize 0\n",
      "2020-09-28 06:12:44,812 : INFO : EPOCH 5 - PROGRESS: at 32.64% examples, 73914 words/s, in_qsize 7, out_qsize 0\n",
      "2020-09-28 06:12:45,851 : INFO : EPOCH 5 - PROGRESS: at 33.70% examples, 74080 words/s, in_qsize 7, out_qsize 0\n",
      "2020-09-28 06:12:47,183 : INFO : EPOCH 5 - PROGRESS: at 34.71% examples, 73709 words/s, in_qsize 7, out_qsize 0\n",
      "2020-09-28 06:12:48,211 : INFO : EPOCH 5 - PROGRESS: at 35.77% examples, 73888 words/s, in_qsize 7, out_qsize 0\n",
      "2020-09-28 06:12:49,211 : INFO : EPOCH 5 - PROGRESS: at 36.51% examples, 73630 words/s, in_qsize 6, out_qsize 1\n",
      "2020-09-28 06:12:50,214 : INFO : EPOCH 5 - PROGRESS: at 37.40% examples, 73637 words/s, in_qsize 7, out_qsize 0\n",
      "2020-09-28 06:12:51,227 : INFO : EPOCH 5 - PROGRESS: at 38.31% examples, 73638 words/s, in_qsize 7, out_qsize 0\n",
      "2020-09-28 06:12:52,283 : INFO : EPOCH 5 - PROGRESS: at 39.28% examples, 73765 words/s, in_qsize 7, out_qsize 0\n",
      "2020-09-28 06:12:53,287 : INFO : EPOCH 5 - PROGRESS: at 40.13% examples, 73759 words/s, in_qsize 7, out_qsize 0\n",
      "2020-09-28 06:12:54,308 : INFO : EPOCH 5 - PROGRESS: at 41.09% examples, 73730 words/s, in_qsize 7, out_qsize 0\n",
      "2020-09-28 06:12:55,355 : INFO : EPOCH 5 - PROGRESS: at 42.13% examples, 73872 words/s, in_qsize 7, out_qsize 0\n",
      "2020-09-28 06:12:56,366 : INFO : EPOCH 5 - PROGRESS: at 43.12% examples, 74032 words/s, in_qsize 7, out_qsize 0\n",
      "2020-09-28 06:12:57,384 : INFO : EPOCH 5 - PROGRESS: at 43.96% examples, 74008 words/s, in_qsize 7, out_qsize 0\n",
      "2020-09-28 06:12:58,409 : INFO : EPOCH 5 - PROGRESS: at 44.85% examples, 73984 words/s, in_qsize 7, out_qsize 0\n",
      "2020-09-28 06:12:59,589 : INFO : EPOCH 5 - PROGRESS: at 45.82% examples, 73896 words/s, in_qsize 7, out_qsize 0\n",
      "2020-09-28 06:13:00,685 : INFO : EPOCH 5 - PROGRESS: at 46.82% examples, 73932 words/s, in_qsize 7, out_qsize 0\n",
      "2020-09-28 06:13:01,695 : INFO : EPOCH 5 - PROGRESS: at 47.71% examples, 73927 words/s, in_qsize 7, out_qsize 0\n",
      "2020-09-28 06:13:02,724 : INFO : EPOCH 5 - PROGRESS: at 48.60% examples, 73903 words/s, in_qsize 7, out_qsize 0\n",
      "2020-09-28 06:13:03,877 : INFO : EPOCH 5 - PROGRESS: at 49.58% examples, 73890 words/s, in_qsize 7, out_qsize 0\n",
      "2020-09-28 06:13:04,924 : INFO : EPOCH 5 - PROGRESS: at 50.63% examples, 73985 words/s, in_qsize 7, out_qsize 0\n",
      "2020-09-28 06:13:05,941 : INFO : EPOCH 5 - PROGRESS: at 51.36% examples, 73813 words/s, in_qsize 8, out_qsize 0\n",
      "2020-09-28 06:13:06,986 : INFO : EPOCH 5 - PROGRESS: at 52.36% examples, 73907 words/s, in_qsize 7, out_qsize 0\n",
      "2020-09-28 06:13:07,988 : INFO : EPOCH 5 - PROGRESS: at 53.22% examples, 73903 words/s, in_qsize 7, out_qsize 0\n",
      "2020-09-28 06:13:09,095 : INFO : EPOCH 5 - PROGRESS: at 54.08% examples, 73789 words/s, in_qsize 7, out_qsize 0\n",
      "2020-09-28 06:13:10,099 : INFO : EPOCH 5 - PROGRESS: at 54.99% examples, 73792 words/s, in_qsize 7, out_qsize 0\n",
      "2020-09-28 06:13:11,091 : INFO : EPOCH 5 - PROGRESS: at 55.85% examples, 73789 words/s, in_qsize 7, out_qsize 0\n",
      "2020-09-28 06:13:12,264 : INFO : EPOCH 5 - PROGRESS: at 56.84% examples, 73763 words/s, in_qsize 7, out_qsize 0\n",
      "2020-09-28 06:13:13,257 : INFO : EPOCH 5 - PROGRESS: at 57.89% examples, 73901 words/s, in_qsize 7, out_qsize 0\n",
      "2020-09-28 06:13:14,310 : INFO : EPOCH 5 - PROGRESS: at 58.95% examples, 73995 words/s, in_qsize 7, out_qsize 0\n",
      "2020-09-28 06:13:15,320 : INFO : EPOCH 5 - PROGRESS: at 59.82% examples, 73985 words/s, in_qsize 7, out_qsize 0\n",
      "2020-09-28 06:13:16,370 : INFO : EPOCH 5 - PROGRESS: at 60.71% examples, 73927 words/s, in_qsize 7, out_qsize 0\n",
      "2020-09-28 06:13:17,603 : INFO : EPOCH 5 - PROGRESS: at 61.81% examples, 73823 words/s, in_qsize 7, out_qsize 0\n",
      "2020-09-28 06:13:18,759 : INFO : EPOCH 5 - PROGRESS: at 62.80% examples, 73799 words/s, in_qsize 8, out_qsize 0\n",
      "2020-09-28 06:13:19,768 : INFO : EPOCH 5 - PROGRESS: at 63.82% examples, 73914 words/s, in_qsize 8, out_qsize 0\n",
      "2020-09-28 06:13:20,775 : INFO : EPOCH 5 - PROGRESS: at 64.62% examples, 73781 words/s, in_qsize 7, out_qsize 0\n",
      "2020-09-28 06:13:21,822 : INFO : EPOCH 5 - PROGRESS: at 65.54% examples, 73860 words/s, in_qsize 7, out_qsize 0\n",
      "2020-09-28 06:13:22,825 : INFO : EPOCH 5 - PROGRESS: at 66.57% examples, 73984 words/s, in_qsize 7, out_qsize 0\n",
      "2020-09-28 06:13:23,842 : INFO : EPOCH 5 - PROGRESS: at 67.49% examples, 73972 words/s, in_qsize 7, out_qsize 0\n",
      "2020-09-28 06:13:24,851 : INFO : EPOCH 5 - PROGRESS: at 68.39% examples, 73970 words/s, in_qsize 8, out_qsize 0\n",
      "2020-09-28 06:13:25,857 : INFO : EPOCH 5 - PROGRESS: at 69.43% examples, 74086 words/s, in_qsize 7, out_qsize 0\n",
      "2020-09-28 06:13:26,976 : INFO : EPOCH 5 - PROGRESS: at 70.06% examples, 73730 words/s, in_qsize 7, out_qsize 2\n",
      "2020-09-28 06:13:27,997 : INFO : EPOCH 5 - PROGRESS: at 71.19% examples, 73922 words/s, in_qsize 7, out_qsize 0\n",
      "2020-09-28 06:13:29,001 : INFO : EPOCH 5 - PROGRESS: at 72.06% examples, 73924 words/s, in_qsize 7, out_qsize 0\n",
      "2020-09-28 06:13:30,020 : INFO : EPOCH 5 - PROGRESS: at 73.07% examples, 74028 words/s, in_qsize 7, out_qsize 0\n",
      "2020-09-28 06:13:31,386 : INFO : EPOCH 5 - PROGRESS: at 74.13% examples, 73817 words/s, in_qsize 7, out_qsize 0\n",
      "2020-09-28 06:13:32,421 : INFO : EPOCH 5 - PROGRESS: at 75.01% examples, 73791 words/s, in_qsize 7, out_qsize 0\n",
      "2020-09-28 06:13:33,423 : INFO : EPOCH 5 - PROGRESS: at 75.92% examples, 73797 words/s, in_qsize 8, out_qsize 1\n",
      "2020-09-28 06:13:34,463 : INFO : EPOCH 5 - PROGRESS: at 76.79% examples, 73773 words/s, in_qsize 7, out_qsize 0\n",
      "2020-09-28 06:13:35,475 : INFO : EPOCH 5 - PROGRESS: at 77.95% examples, 73986 words/s, in_qsize 8, out_qsize 0\n",
      "2020-09-28 06:13:36,489 : INFO : EPOCH 5 - PROGRESS: at 78.86% examples, 73978 words/s, in_qsize 7, out_qsize 0\n",
      "2020-09-28 06:13:37,518 : INFO : EPOCH 5 - PROGRESS: at 79.76% examples, 73951 words/s, in_qsize 7, out_qsize 0\n",
      "2020-09-28 06:13:38,518 : INFO : EPOCH 5 - PROGRESS: at 80.72% examples, 73961 words/s, in_qsize 7, out_qsize 0\n",
      "2020-09-28 06:13:39,609 : INFO : EPOCH 5 - PROGRESS: at 81.76% examples, 73990 words/s, in_qsize 7, out_qsize 0\n",
      "2020-09-28 06:13:40,795 : INFO : EPOCH 5 - PROGRESS: at 82.77% examples, 73949 words/s, in_qsize 7, out_qsize 0\n",
      "2020-09-28 06:13:42,014 : INFO : EPOCH 5 - PROGRESS: at 83.79% examples, 73874 words/s, in_qsize 7, out_qsize 0\n",
      "2020-09-28 06:13:43,080 : INFO : EPOCH 5 - PROGRESS: at 84.77% examples, 73917 words/s, in_qsize 7, out_qsize 0\n",
      "2020-09-28 06:13:44,116 : INFO : EPOCH 5 - PROGRESS: at 85.65% examples, 73877 words/s, in_qsize 8, out_qsize 0\n",
      "2020-09-28 06:13:45,143 : INFO : EPOCH 5 - PROGRESS: at 86.65% examples, 73959 words/s, in_qsize 7, out_qsize 0\n",
      "2020-09-28 06:13:46,299 : INFO : EPOCH 5 - PROGRESS: at 87.74% examples, 73934 words/s, in_qsize 7, out_qsize 0\n",
      "2020-09-28 06:13:47,418 : INFO : EPOCH 5 - PROGRESS: at 88.73% examples, 73933 words/s, in_qsize 7, out_qsize 0\n",
      "2020-09-28 06:13:48,471 : INFO : EPOCH 5 - PROGRESS: at 89.58% examples, 73895 words/s, in_qsize 7, out_qsize 0\n",
      "2020-09-28 06:13:49,514 : INFO : EPOCH 5 - PROGRESS: at 90.62% examples, 73947 words/s, in_qsize 7, out_qsize 0\n",
      "2020-09-28 06:13:50,568 : INFO : EPOCH 5 - PROGRESS: at 91.56% examples, 73914 words/s, in_qsize 7, out_qsize 0\n",
      "2020-09-28 06:13:51,601 : INFO : EPOCH 5 - PROGRESS: at 92.64% examples, 73981 words/s, in_qsize 7, out_qsize 0\n",
      "2020-09-28 06:13:52,627 : INFO : EPOCH 5 - PROGRESS: at 93.71% examples, 74062 words/s, in_qsize 7, out_qsize 0\n",
      "2020-09-28 06:13:54,067 : INFO : EPOCH 5 - PROGRESS: at 94.68% examples, 73844 words/s, in_qsize 7, out_qsize 0\n",
      "2020-09-28 06:13:55,153 : INFO : EPOCH 5 - PROGRESS: at 95.23% examples, 73525 words/s, in_qsize 8, out_qsize 0\n",
      "2020-09-28 06:13:56,155 : INFO : EPOCH 5 - PROGRESS: at 95.90% examples, 73361 words/s, in_qsize 7, out_qsize 0\n",
      "2020-09-28 06:13:57,775 : INFO : EPOCH 5 - PROGRESS: at 96.52% examples, 72693 words/s, in_qsize 7, out_qsize 0\n",
      "2020-09-28 06:13:58,851 : INFO : EPOCH 5 - PROGRESS: at 97.06% examples, 72406 words/s, in_qsize 7, out_qsize 0\n",
      "2020-09-28 06:14:00,344 : INFO : EPOCH 5 - PROGRESS: at 97.85% examples, 72026 words/s, in_qsize 7, out_qsize 0\n",
      "2020-09-28 06:14:01,352 : INFO : EPOCH 5 - PROGRESS: at 98.84% examples, 72111 words/s, in_qsize 7, out_qsize 0\n",
      "2020-09-28 06:14:02,306 : INFO : worker thread finished; awaiting finish of 3 more threads\n",
      "2020-09-28 06:14:02,337 : INFO : worker thread finished; awaiting finish of 2 more threads\n",
      "2020-09-28 06:14:02,370 : INFO : EPOCH 5 - PROGRESS: at 99.90% examples, 72202 words/s, in_qsize 1, out_qsize 1\n",
      "2020-09-28 06:14:02,376 : INFO : worker thread finished; awaiting finish of 1 more threads\n",
      "2020-09-28 06:14:02,396 : INFO : worker thread finished; awaiting finish of 0 more threads\n",
      "2020-09-28 06:14:02,397 : INFO : EPOCH - 5 : training on 8639353 raw words (8166224 effective words) took 113.0s, 72261 effective words/s\n",
      "2020-09-28 06:14:02,398 : INFO : training on a 43196765 raw words (40832592 effective words) took 561.9s, 72672 effective words/s\n"
     ]
    },
    {
     "name": "stdout",
     "output_type": "stream",
     "text": [
      "CPU times: user 18min 20s, sys: 2.34 s, total: 18min 22s\n",
      "Wall time: 9min 30s\n"
     ]
    }
   ],
   "source": [
    "%%time\n",
    "\n",
    "# build word2vec model\n",
    "w2v_num_features = 300\n",
    "w2v_model = gensim.models.Word2Vec(tokenized_train, size=w2v_num_features, window=150,\n",
    "                                   min_count=10, workers=4, iter=5)"
   ]
  },
  {
   "cell_type": "code",
   "execution_count": 32,
   "metadata": {
    "id": "jf6dd5gRfQUd"
   },
   "outputs": [],
   "source": [
    "def averaged_word2vec_vectorizer(corpus, model, num_features):\n",
    "    vocabulary = set(model.wv.index2word)\n",
    "    \n",
    "    def average_word_vectors(words, model, vocabulary, num_features):\n",
    "        feature_vector = np.zeros((num_features,), dtype=\"float64\")\n",
    "        nwords = 0.\n",
    "        \n",
    "        for word in words:\n",
    "            if word in vocabulary: \n",
    "                nwords = nwords + 1.\n",
    "                feature_vector = np.add(feature_vector, model.wv[word])\n",
    "        if nwords:\n",
    "            feature_vector = np.divide(feature_vector, nwords)\n",
    "\n",
    "        return feature_vector\n",
    "\n",
    "    features = [average_word_vectors(tokenized_sentence, model, vocabulary, num_features)\n",
    "                    for tokenized_sentence in corpus]\n",
    "    return np.array(features)"
   ]
  },
  {
   "cell_type": "code",
   "execution_count": 33,
   "metadata": {
    "id": "SVeti7oKfYj1"
   },
   "outputs": [],
   "source": [
    "# generate averaged word vector features from word2vec model\n",
    "avg_wv_train_features = averaged_word2vec_vectorizer(corpus=tokenized_train, model=w2v_model,\n",
    "                                                     num_features=w2v_num_features)\n",
    "avg_wv_test_features = averaged_word2vec_vectorizer(corpus=tokenized_test, model=w2v_model,\n",
    "                                                    num_features=w2v_num_features)"
   ]
  },
  {
   "cell_type": "code",
   "execution_count": 34,
   "metadata": {
    "colab": {
     "base_uri": "https://localhost:8080/",
     "height": 34
    },
    "id": "53GuXEkIft8J",
    "outputId": "15c3af2d-ec10-42ef-f4e4-6f38cd471612"
   },
   "outputs": [
    {
     "name": "stdout",
     "output_type": "stream",
     "text": [
      "Word2Vec model:> Train features shape: (35413, 300)  Test features shape: (8854, 300)\n"
     ]
    }
   ],
   "source": [
    "print('Word2Vec model:> Train features shape:', avg_wv_train_features.shape, ' Test features shape:', avg_wv_test_features.shape)\n"
   ]
  },
  {
   "cell_type": "markdown",
   "metadata": {
    "id": "lTIWgHksf2bJ"
   },
   "source": [
    "**Modeling with Deep Neural Networks**"
   ]
  },
  {
   "cell_type": "markdown",
   "metadata": {
    "id": "HRLNGvJzf9bh"
   },
   "source": [
    "**Building Deep neural network architecture**"
   ]
  },
  {
   "cell_type": "code",
   "execution_count": 35,
   "metadata": {
    "id": "xoduhBR0f7WJ"
   },
   "outputs": [],
   "source": [
    "def construct_deepnn_architecture(num_input_features):\n",
    "    dnn_model = Sequential()\n",
    "    dnn_model.add(Dense(512, input_shape=(num_input_features,)))\n",
    "    dnn_model.add(Activation('relu'))\n",
    "    dnn_model.add(Dropout(0.2))\n",
    "    \n",
    "    dnn_model.add(Dense(256))\n",
    "    dnn_model.add(Activation('relu'))\n",
    "    dnn_model.add(Dropout(0.2))\n",
    "    \n",
    "    dnn_model.add(Dense(256))\n",
    "    dnn_model.add(Activation('relu'))\n",
    "    dnn_model.add(Dropout(0.2))\n",
    "    \n",
    "    dnn_model.add(Dense(1))\n",
    "    dnn_model.add(Activation('sigmoid'))\n",
    "\n",
    "    dnn_model.compile(loss='binary_crossentropy', optimizer='adam',                 \n",
    "                      metrics=['accuracy'])\n",
    "    return dnn_model"
   ]
  },
  {
   "cell_type": "code",
   "execution_count": 36,
   "metadata": {
    "id": "dhnKdn7ugGRM"
   },
   "outputs": [],
   "source": [
    "w2v_dnn = construct_deepnn_architecture(num_input_features=w2v_num_features)"
   ]
  },
  {
   "cell_type": "code",
   "execution_count": 37,
   "metadata": {
    "colab": {
     "base_uri": "https://localhost:8080/",
     "height": 527
    },
    "id": "O6F3i1WsgOO9",
    "outputId": "bfe4f942-9f88-42be-d7a3-910e3c8c29e5"
   },
   "outputs": [
    {
     "name": "stdout",
     "output_type": "stream",
     "text": [
      "Model: \"sequential\"\n",
      "_________________________________________________________________\n",
      "Layer (type)                 Output Shape              Param #   \n",
      "=================================================================\n",
      "dense (Dense)                (None, 512)               154112    \n",
      "_________________________________________________________________\n",
      "activation (Activation)      (None, 512)               0         \n",
      "_________________________________________________________________\n",
      "dropout (Dropout)            (None, 512)               0         \n",
      "_________________________________________________________________\n",
      "dense_1 (Dense)              (None, 256)               131328    \n",
      "_________________________________________________________________\n",
      "activation_1 (Activation)    (None, 256)               0         \n",
      "_________________________________________________________________\n",
      "dropout_1 (Dropout)          (None, 256)               0         \n",
      "_________________________________________________________________\n",
      "dense_2 (Dense)              (None, 256)               65792     \n",
      "_________________________________________________________________\n",
      "activation_2 (Activation)    (None, 256)               0         \n",
      "_________________________________________________________________\n",
      "dropout_2 (Dropout)          (None, 256)               0         \n",
      "_________________________________________________________________\n",
      "dense_3 (Dense)              (None, 1)                 257       \n",
      "_________________________________________________________________\n",
      "activation_3 (Activation)    (None, 1)                 0         \n",
      "=================================================================\n",
      "Total params: 351,489\n",
      "Trainable params: 351,489\n",
      "Non-trainable params: 0\n",
      "_________________________________________________________________\n"
     ]
    }
   ],
   "source": [
    "w2v_dnn.summary()"
   ]
  },
  {
   "cell_type": "markdown",
   "metadata": {
    "id": "d0Cw3i2ighvP"
   },
   "source": [
    "**Model Training, Prediction, and Performance Evaluation**"
   ]
  },
  {
   "cell_type": "code",
   "execution_count": 38,
   "metadata": {
    "colab": {
     "base_uri": "https://localhost:8080/",
     "height": 374
    },
    "id": "_lBPoLEhgozb",
    "outputId": "f75eba4d-63e3-4f66-b59d-5c396c9cc1be"
   },
   "outputs": [
    {
     "name": "stdout",
     "output_type": "stream",
     "text": [
      "Epoch 1/10\n",
      "319/319 [==============================] - 3s 9ms/step - loss: 0.0442 - accuracy: 0.9853 - val_loss: 0.0338 - val_accuracy: 0.9893\n",
      "Epoch 2/10\n",
      "319/319 [==============================] - 3s 9ms/step - loss: 0.0200 - accuracy: 0.9939 - val_loss: 0.0208 - val_accuracy: 0.9927\n",
      "Epoch 3/10\n",
      "319/319 [==============================] - 3s 9ms/step - loss: 0.0155 - accuracy: 0.9949 - val_loss: 0.0209 - val_accuracy: 0.9938\n",
      "Epoch 4/10\n",
      "319/319 [==============================] - 3s 9ms/step - loss: 0.0113 - accuracy: 0.9965 - val_loss: 0.0305 - val_accuracy: 0.9893\n",
      "Epoch 5/10\n",
      "319/319 [==============================] - 3s 9ms/step - loss: 0.0095 - accuracy: 0.9970 - val_loss: 0.0236 - val_accuracy: 0.9946\n",
      "Epoch 6/10\n",
      "319/319 [==============================] - 3s 9ms/step - loss: 0.0074 - accuracy: 0.9976 - val_loss: 0.0323 - val_accuracy: 0.9927\n",
      "Epoch 7/10\n",
      "319/319 [==============================] - 3s 9ms/step - loss: 0.0072 - accuracy: 0.9977 - val_loss: 0.0211 - val_accuracy: 0.9949\n",
      "Epoch 8/10\n",
      "319/319 [==============================] - 3s 9ms/step - loss: 0.0055 - accuracy: 0.9982 - val_loss: 0.0239 - val_accuracy: 0.9949\n",
      "Epoch 9/10\n",
      "319/319 [==============================] - 3s 9ms/step - loss: 0.0050 - accuracy: 0.9982 - val_loss: 0.0248 - val_accuracy: 0.9941\n",
      "Epoch 10/10\n",
      "319/319 [==============================] - 3s 9ms/step - loss: 0.0032 - accuracy: 0.9987 - val_loss: 0.0304 - val_accuracy: 0.9952\n"
     ]
    },
    {
     "data": {
      "text/plain": [
       "<tensorflow.python.keras.callbacks.History at 0x7f85d9268550>"
      ]
     },
     "execution_count": 38,
     "metadata": {
      "tags": []
     },
     "output_type": "execute_result"
    }
   ],
   "source": [
    "batch_size = 100\n",
    "w2v_dnn.fit(avg_wv_train_features, y_train, epochs=10, batch_size=batch_size, \n",
    "            shuffle=True, validation_split=0.1, verbose=1)"
   ]
  },
  {
   "cell_type": "code",
   "execution_count": 39,
   "metadata": {
    "colab": {
     "base_uri": "https://localhost:8080/",
     "height": 173
    },
    "id": "ptfCAYnVg92z",
    "outputId": "de9c5a60-5b58-4da0-be8a-f79352e92709"
   },
   "outputs": [
    {
     "name": "stdout",
     "output_type": "stream",
     "text": [
      "WARNING:tensorflow:From <ipython-input-39-829a073cbe31>:1: Sequential.predict_classes (from tensorflow.python.keras.engine.sequential) is deprecated and will be removed after 2021-01-01.\n",
      "Instructions for updating:\n",
      "Please use instead:* `np.argmax(model.predict(x), axis=-1)`,   if your model does multi-class classification   (e.g. if it uses a `softmax` last-layer activation).* `(model.predict(x) > 0.5).astype(\"int32\")`,   if your model does binary classification   (e.g. if it uses a `sigmoid` last-layer activation).\n"
     ]
    },
    {
     "name": "stderr",
     "output_type": "stream",
     "text": [
      "2020-09-28 06:19:19,279 : WARNING : From <ipython-input-39-829a073cbe31>:1: Sequential.predict_classes (from tensorflow.python.keras.engine.sequential) is deprecated and will be removed after 2021-01-01.\n",
      "Instructions for updating:\n",
      "Please use instead:* `np.argmax(model.predict(x), axis=-1)`,   if your model does multi-class classification   (e.g. if it uses a `softmax` last-layer activation).* `(model.predict(x) > 0.5).astype(\"int32\")`,   if your model does binary classification   (e.g. if it uses a `sigmoid` last-layer activation).\n",
      "/usr/local/lib/python3.6/dist-packages/sklearn/preprocessing/_label.py:289: DataConversionWarning: A column-vector y was passed when a 1d array was expected. Please change the shape of y to (n_samples, ), for example using ravel().\n",
      "  y = column_or_1d(y, warn=True)\n"
     ]
    }
   ],
   "source": [
    "y_pred = w2v_dnn.predict_classes(avg_wv_test_features)\n",
    "predictions = le.inverse_transform(y_pred)\n"
   ]
  },
  {
   "cell_type": "code",
   "execution_count": 40,
   "metadata": {
    "colab": {
     "base_uri": "https://localhost:8080/",
     "height": 264
    },
    "id": "bFr26BHUhTQm",
    "outputId": "d0c8350e-a59c-48f6-993b-636d7b6f56d6"
   },
   "outputs": [
    {
     "name": "stdout",
     "output_type": "stream",
     "text": [
      "              precision    recall  f1-score   support\n",
      "\n",
      "           0       1.00      1.00      1.00      4335\n",
      "           1       1.00      1.00      1.00      4519\n",
      "\n",
      "    accuracy                           1.00      8854\n",
      "   macro avg       1.00      1.00      1.00      8854\n",
      "weighted avg       1.00      1.00      1.00      8854\n",
      "\n"
     ]
    },
    {
     "data": {
      "text/html": [
       "<div>\n",
       "<style scoped>\n",
       "    .dataframe tbody tr th:only-of-type {\n",
       "        vertical-align: middle;\n",
       "    }\n",
       "\n",
       "    .dataframe tbody tr th {\n",
       "        vertical-align: top;\n",
       "    }\n",
       "\n",
       "    .dataframe thead th {\n",
       "        text-align: right;\n",
       "    }\n",
       "</style>\n",
       "<table border=\"1\" class=\"dataframe\">\n",
       "  <thead>\n",
       "    <tr style=\"text-align: right;\">\n",
       "      <th></th>\n",
       "      <th>real</th>\n",
       "      <th>fake</th>\n",
       "    </tr>\n",
       "  </thead>\n",
       "  <tbody>\n",
       "    <tr>\n",
       "      <th>real</th>\n",
       "      <td>4323</td>\n",
       "      <td>12</td>\n",
       "    </tr>\n",
       "    <tr>\n",
       "      <th>fake</th>\n",
       "      <td>12</td>\n",
       "      <td>4507</td>\n",
       "    </tr>\n",
       "  </tbody>\n",
       "</table>\n",
       "</div>"
      ],
      "text/plain": [
       "      real  fake\n",
       "real  4323    12\n",
       "fake    12  4507"
      ]
     },
     "execution_count": 40,
     "metadata": {
      "tags": []
     },
     "output_type": "execute_result"
    }
   ],
   "source": [
    "from sklearn.metrics import confusion_matrix, classification_report\n",
    "\n",
    "labels = ['real', 'fake']\n",
    "print(classification_report(y_test_realfake, predictions))\n",
    "pd.DataFrame(confusion_matrix(y_test_realfake, predictions), index=labels, columns=labels)"
   ]
  }
 ],
 "metadata": {
  "colab": {
   "authorship_tag": "ABX9TyPVpJaj1iSc3NR9wle9nZOq",
   "include_colab_link": true,
   "mount_file_id": "1gHOv9UbcBpfeCwXJVKVLdnm5DTLPT_aE",
   "name": "NLP Fake vs Real News (Modeling with Basic Deep Neural Networks).ipynb",
   "provenance": []
  },
  "kernelspec": {
   "display_name": "Python 3",
   "language": "python",
   "name": "python3"
  },
  "language_info": {
   "codemirror_mode": {
    "name": "ipython",
    "version": 3
   },
   "file_extension": ".py",
   "mimetype": "text/x-python",
   "name": "python",
   "nbconvert_exporter": "python",
   "pygments_lexer": "ipython3",
   "version": "3.7.4"
  }
 },
 "nbformat": 4,
 "nbformat_minor": 1
}
