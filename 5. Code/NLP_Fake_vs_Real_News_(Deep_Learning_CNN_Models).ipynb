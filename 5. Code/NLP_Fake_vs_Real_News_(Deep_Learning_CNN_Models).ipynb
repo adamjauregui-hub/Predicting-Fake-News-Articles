{
 "cells": [
  {
   "cell_type": "markdown",
   "metadata": {
    "colab_type": "text",
    "id": "view-in-github"
   },
   "source": [
    "<a href=\"https://colab.research.google.com/github/sweet-addy/Fake-True-News-NLP-Models/blob/master/NLP_Fake_vs_Real_News_(Deep_Learning_CNN_Models).ipynb\" target=\"_parent\"><img src=\"https://colab.research.google.com/assets/colab-badge.svg\" alt=\"Open In Colab\"/></a>"
   ]
  },
  {
   "cell_type": "code",
   "execution_count": 21,
   "metadata": {
    "colab": {
<<<<<<< HEAD
     "base_uri": "https://localhost:8080/",
     "height": 51
    },
    "id": "bLKQ7xJWNsSc",
    "outputId": "cdc3d884-2bde-4a54-a68c-b354db02e2fd"
   },
   "outputs": [
    {
     "name": "stdout",
     "output_type": "stream",
     "text": [
      "[nltk_data] Downloading package punkt to /root/nltk_data...\n",
      "[nltk_data]   Package punkt is already up-to-date!\n"
     ]
=======
      "name": "NLP Fake vs Real News (Deep Learning CNN Models).ipynb",
      "provenance": [],
      "authorship_tag": "ABX9TyOLTrbQ+2Z+s9HSWBRQd0jN",
      "include_colab_link": true
    },
    "kernelspec": {
      "name": "python3",
      "display_name": "Python 3"
>>>>>>> 2b29e72b44ef7a4d7ca257837e4750ceb9e6ccd7
    }
   ],
   "source": [
    "import spacy\n",
    "import pandas as pd\n",
    "import numpy as np\n",
    "import nltk\n",
    "nltk.download('punkt')\n",
    "from nltk.tokenize.toktok import ToktokTokenizer\n",
    "import re\n",
    "from bs4 import BeautifulSoup\n",
    "import unicodedata\n",
    "import en_core_web_sm\n",
    "import os\n",
    "import matplotlib.pyplot as plt\n",
    "import seaborn as sns\n",
    "import statsmodels.api as sm\n",
    "from sklearn.feature_extraction.text import CountVectorizer, TfidfVectorizer\n",
    "from sklearn.model_selection import train_test_split\n",
    "from sklearn import linear_model\n",
    "from sklearn.linear_model import Ridge\n",
    "from sklearn.linear_model import LinearRegression\n",
    "from sklearn import svm\n",
    "from time import process_time, time\n",
    "from sklearn import metrics\n",
    "from sklearn.svm import SVR\n",
    "from sklearn.tree import DecisionTreeRegressor\n",
    "from sklearn.ensemble import RandomForestRegressor\n",
    "from sklearn.ensemble import GradientBoostingRegressor\n",
    "from tensorflow.keras.models import Sequential\n",
    "from tensorflow.keras.layers import Dense\n",
    "from tensorflow.keras.layers import Flatten\n",
    "from tensorflow.keras.layers import Conv1D\n",
    "from tensorflow.keras.layers import MaxPooling1D\n",
    "from tensorflow.keras.layers import Embedding\n",
    "from tensorflow.keras.preprocessing.text import Tokenizer\n",
    "from tensorflow.keras.preprocessing import sequence\n",
    "from sklearn.preprocessing import LabelEncoder\n",
    "import tensorflow as tf\n",
    "\n",
    "# fix random seed for reproducibility\n",
    "seed = 27\n",
    "np.random.seed(seed)"
   ]
  },
<<<<<<< HEAD
  {
   "cell_type": "code",
   "execution_count": 3,
   "metadata": {
    "colab": {
     "base_uri": "https://localhost:8080/",
     "height": 72,
     "resources": {
      "http://localhost:8080/nbextensions/google.colab/files.js": {
       "data": "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",
       "headers": [
        [
         "content-type",
         "application/javascript"
        ]
       ],
       "ok": true,
       "status": 200,
       "status_text": ""
      }
     }
    },
    "id": "tw5LgYXsNxwT",
    "outputId": "3969c517-fcfd-4009-f8fb-02f5cb22d656"
   },
   "outputs": [
    {
     "data": {
      "text/html": [
       "\n",
       "     <input type=\"file\" id=\"files-801e765a-f289-404d-bd05-67eb91c9fd7b\" name=\"files[]\" multiple disabled\n",
       "        style=\"border:none\" />\n",
       "     <output id=\"result-801e765a-f289-404d-bd05-67eb91c9fd7b\">\n",
       "      Upload widget is only available when the cell has been executed in the\n",
       "      current browser session. Please rerun this cell to enable.\n",
       "      </output>\n",
       "      <script src=\"/nbextensions/google.colab/files.js\"></script> "
      ],
      "text/plain": [
       "<IPython.core.display.HTML object>"
=======
  "cells": [
    {
      "cell_type": "markdown",
      "metadata": {
        "id": "view-in-github",
        "colab_type": "text"
      },
      "source": [
        "<a href=\"https://colab.research.google.com/github/sweet-addy/Fake-True-News-NLP-Models/blob/master/NLP_Fake_vs_Real_News_(Deep_Learning_CNN_Models).ipynb\" target=\"_parent\"><img src=\"https://colab.research.google.com/assets/colab-badge.svg\" alt=\"Open In Colab\"/></a>"
      ]
    },
    {
      "cell_type": "code",
      "metadata": {
        "id": "bLKQ7xJWNsSc",
        "outputId": "cdc3d884-2bde-4a54-a68c-b354db02e2fd",
        "colab": {
          "base_uri": "https://localhost:8080/",
          "height": 51
        }
      },
      "source": [
        "import spacy\n",
        "import pandas as pd\n",
        "import numpy as np\n",
        "import nltk\n",
        "nltk.download('punkt')\n",
        "from nltk.tokenize.toktok import ToktokTokenizer\n",
        "import re\n",
        "from bs4 import BeautifulSoup\n",
        "import unicodedata\n",
        "import en_core_web_sm\n",
        "import os\n",
        "import matplotlib.pyplot as plt\n",
        "import seaborn as sns\n",
        "import statsmodels.api as sm\n",
        "from sklearn.feature_extraction.text import CountVectorizer, TfidfVectorizer\n",
        "from sklearn.model_selection import train_test_split\n",
        "from sklearn import linear_model\n",
        "from sklearn.linear_model import Ridge\n",
        "from sklearn.linear_model import LinearRegression\n",
        "from sklearn import svm\n",
        "from time import process_time, time\n",
        "from sklearn import metrics\n",
        "from sklearn.svm import SVR\n",
        "from sklearn.tree import DecisionTreeRegressor\n",
        "from sklearn.ensemble import RandomForestRegressor\n",
        "from sklearn.ensemble import GradientBoostingRegressor\n",
        "from tensorflow.keras.models import Sequential\n",
        "from tensorflow.keras.layers import Dense\n",
        "from tensorflow.keras.layers import Flatten\n",
        "from tensorflow.keras.layers import Conv1D\n",
        "from tensorflow.keras.layers import MaxPooling1D\n",
        "from tensorflow.keras.layers import Embedding\n",
        "from tensorflow.keras.preprocessing.text import Tokenizer\n",
        "from tensorflow.keras.preprocessing import sequence\n",
        "from sklearn.preprocessing import LabelEncoder\n",
        "import tensorflow as tf\n",
        "\n",
        "# fix random seed for reproducibility\n",
        "seed = 27\n",
        "np.random.seed(seed)"
      ],
      "execution_count": null,
      "outputs": [
        {
          "output_type": "stream",
          "text": [
            "[nltk_data] Downloading package punkt to /root/nltk_data...\n",
            "[nltk_data]   Package punkt is already up-to-date!\n"
          ],
          "name": "stdout"
        }
      ]
    },
    {
      "cell_type": "code",
      "metadata": {
        "id": "tw5LgYXsNxwT",
        "outputId": "3969c517-fcfd-4009-f8fb-02f5cb22d656",
        "colab": {
          "resources": {
            "http://localhost:8080/nbextensions/google.colab/files.js": {
              "data": "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",
              "ok": true,
              "headers": [
                [
                  "content-type",
                  "application/javascript"
                ]
              ],
              "status": 200,
              "status_text": ""
            }
          },
          "base_uri": "https://localhost:8080/",
          "height": 72
        }
      },
      "source": [
        "from google.colab import files\n",
        "uploaded = files.upload()"
      ],
      "execution_count": null,
      "outputs": [
        {
          "output_type": "display_data",
          "data": {
            "text/html": [
              "\n",
              "     <input type=\"file\" id=\"files-801e765a-f289-404d-bd05-67eb91c9fd7b\" name=\"files[]\" multiple disabled\n",
              "        style=\"border:none\" />\n",
              "     <output id=\"result-801e765a-f289-404d-bd05-67eb91c9fd7b\">\n",
              "      Upload widget is only available when the cell has been executed in the\n",
              "      current browser session. Please rerun this cell to enable.\n",
              "      </output>\n",
              "      <script src=\"/nbextensions/google.colab/files.js\"></script> "
            ],
            "text/plain": [
              "<IPython.core.display.HTML object>"
            ]
          },
          "metadata": {
            "tags": []
          }
        },
        {
          "output_type": "stream",
          "text": [
            "Saving Fake_True_news_shuffled.csv to Fake_True_news_shuffled.csv\n"
          ],
          "name": "stdout"
        }
      ]
    },
    {
      "cell_type": "code",
      "metadata": {
        "id": "RXPq5Epsdrop",
        "outputId": "26907212-cdab-4673-f418-60f587eff252",
        "colab": {
          "base_uri": "https://localhost:8080/",
          "height": 51
        }
      },
      "source": [
        "%%time\n",
        "import io\n",
        "Fake_True_news = pd.read_csv(io.BytesIO(uploaded['Fake_True_news_shuffled.csv']))\n",
        "# Dataset is now stored in a Pandas Dataframe"
      ],
      "execution_count": null,
      "outputs": [
        {
          "output_type": "stream",
          "text": [
            "CPU times: user 2.18 s, sys: 33.8 ms, total: 2.22 s\n",
            "Wall time: 2.24 s\n"
          ],
          "name": "stdout"
        }
      ]
    },
    {
      "cell_type": "code",
      "metadata": {
        "id": "K6LlGtq8d3fe",
        "outputId": "4a7e94fd-a9bb-45db-cb24-cdb44ae608d6",
        "colab": {
          "base_uri": "https://localhost:8080/",
          "height": 255
        }
      },
      "source": [
        "#didn't notice that during pre-processing some rows in 'text_nlp' got deleted. Drop the rows that contain a NaN in that column.\n",
        "Fake_True_news = Fake_True_news.dropna(axis=0, subset=['text_nlp'])\n",
        "Fake_True_news.info()"
      ],
      "execution_count": null,
      "outputs": [
        {
          "output_type": "stream",
          "text": [
            "<class 'pandas.core.frame.DataFrame'>\n",
            "Int64Index: 44267 entries, 0 to 44897\n",
            "Data columns (total 7 columns):\n",
            " #   Column     Non-Null Count  Dtype \n",
            "---  ------     --------------  ----- \n",
            " 0   title      44267 non-null  object\n",
            " 1   text       44267 non-null  object\n",
            " 2   subject    44267 non-null  object\n",
            " 3   date       44267 non-null  object\n",
            " 4   real/fake  44267 non-null  int64 \n",
            " 5   title_nlp  44267 non-null  object\n",
            " 6   text_nlp   44267 non-null  object\n",
            "dtypes: int64(1), object(6)\n",
            "memory usage: 2.7+ MB\n"
          ],
          "name": "stdout"
        }
      ]
    },
    {
      "cell_type": "markdown",
      "metadata": {
        "id": "Sm4SRihznHyO"
      },
      "source": [
        "**Prepare Train Test Split**"
      ]
    },
    {
      "cell_type": "code",
      "metadata": {
        "id": "hJLes5Q1nQwf",
        "outputId": "8a520481-9c12-4fdc-ac05-83ae21c40ead",
        "colab": {
          "base_uri": "https://localhost:8080/",
          "height": 51
        }
      },
      "source": [
        "%%time\n",
        "\n",
        "#create feature data frame and isolate target variable\n",
        "\n",
        "#feature dataframe\n",
        "X_text = Fake_True_news['text_nlp'] # load the dataset as a pandas data frame\n",
        "\n",
        "#target variable\n",
        "y_realfake = Fake_True_news['real/fake']\n",
        "\n",
        "# create training and testing vars\n",
        "X_train_text, X_test_text, y_train_realfake, y_test_realfake = train_test_split(X_text, y_realfake, test_size=0.2,random_state=27)"
      ],
      "execution_count": null,
      "outputs": [
        {
          "output_type": "stream",
          "text": [
            "CPU times: user 85.6 ms, sys: 22 ms, total: 108 ms\n",
            "Wall time: 108 ms\n"
          ],
          "name": "stdout"
        }
      ]
    },
    {
      "cell_type": "markdown",
      "metadata": {
        "id": "nLDj1qP-ltpe"
      },
      "source": [
        "**Preprocessing**\n",
        "\n",
        "To prepare text data for our deep learning model, we transform each article into a sequence. Every word in the article is mapped to an integer index and thus the sentence turns into a sequence of numbers.\n",
        "\n",
        "To perform this transformation, keras provides the Tokenizer"
      ]
    },
    {
      "cell_type": "code",
      "metadata": {
        "id": "7zWCLNJEl643"
      },
      "source": [
        "t = Tokenizer(oov_token='<UNK>')\n",
        "# fit the tokenizer on the documents\n",
        "t.fit_on_texts(X_train_text)\n",
        "t.word_index['<PAD>'] = 0"
      ],
      "execution_count": null,
      "outputs": []
    },
    {
      "cell_type": "code",
      "metadata": {
        "id": "sCA6SjiFpFMm",
        "outputId": "e0276233-130c-47f2-f1f1-b029639a1b7c",
        "colab": {
          "base_uri": "https://localhost:8080/",
          "height": 34
        }
      },
      "source": [
        "max([(k, v) for k, v in t.word_index.items()], key = lambda x:x[1]), min([(k, v) for k, v in t.word_index.items()], key = lambda x:x[1]), t.word_index['<UNK>']"
      ],
      "execution_count": null,
      "outputs": [
        {
          "output_type": "execute_result",
          "data": {
            "text/plain": [
              "(('hagertys', 107317), ('<PAD>', 0), 1)"
            ]
          },
          "metadata": {
            "tags": []
          },
          "execution_count": 8
        }
      ]
    },
    {
      "cell_type": "code",
      "metadata": {
        "id": "hUmeJDmZpHcl"
      },
      "source": [
        "train_sequences = t.texts_to_sequences(X_train_text)\n"
      ],
      "execution_count": null,
      "outputs": []
    },
    {
      "cell_type": "code",
      "metadata": {
        "id": "_l5MJFGRpOTX"
      },
      "source": [
        "test_sequences = t.texts_to_sequences(X_test_text)\n"
      ],
      "execution_count": null,
      "outputs": []
    },
    {
      "cell_type": "code",
      "metadata": {
        "id": "Tw80t21vpVeH",
        "outputId": "9e21cc87-0ba2-4141-d085-a2825dbfbaad",
        "colab": {
          "base_uri": "https://localhost:8080/",
          "height": 51
        }
      },
      "source": [
        "print(\"Vocabulary size={}\".format(len(t.word_index)))\n",
        "print(\"Number of Documents={}\".format(t.document_count))"
      ],
      "execution_count": null,
      "outputs": [
        {
          "output_type": "stream",
          "text": [
            "Vocabulary size=107318\n",
            "Number of Documents=35413\n"
          ],
          "name": "stdout"
        }
      ]
    },
    {
      "cell_type": "code",
      "metadata": {
        "id": "DbBAY4A4pkEM",
        "outputId": "7ab82e63-57bb-40f0-af63-8e4e638c6357",
        "colab": {
          "base_uri": "https://localhost:8080/",
          "height": 377
        }
      },
      "source": [
        "import matplotlib.pyplot as plt\n",
        "%matplotlib inline\n",
        "\n",
        "train_lens = [len(s) for s in train_sequences]\n",
        "test_lens = [len(s) for s in test_sequences]\n",
        "\n",
        "fig, ax = plt.subplots(1,2, figsize=(12, 6))\n",
        "h1 = ax[0].hist(train_lens,bins=30)\n",
        "h2 = ax[1].hist(test_lens,bins=30)"
      ],
      "execution_count": null,
      "outputs": [
        {
          "output_type": "display_data",
          "data": {
            "image/png": "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\n",
            "text/plain": [
              "<Figure size 864x432 with 2 Axes>"
            ]
          },
          "metadata": {
            "tags": [],
            "needs_background": "light"
          }
        }
      ]
    },
    {
      "cell_type": "markdown",
      "metadata": {
        "id": "dThYOuUuuZy6"
      },
      "source": [
        "**Sequence Normalization**"
      ]
    },
    {
      "cell_type": "markdown",
      "metadata": {
        "id": "Uo6bG1BVuct3"
      },
      "source": [
        "Not all articles are of same length. To handle this difference in length of articles, we define a maximum length. For articles which are smaller than this length, we pad them with zeros which longer ones are truncated\n",
        "\n"
      ]
    },
    {
      "cell_type": "code",
      "metadata": {
        "id": "xX_iDY2Sp1i_"
      },
      "source": [
        "MAX_SEQUENCE_LENGTH = 1000\n"
      ],
      "execution_count": null,
      "outputs": []
    },
    {
      "cell_type": "code",
      "metadata": {
        "id": "c_o0u-uwuk7-",
        "outputId": "6f4eeb71-b87d-4177-ac97-37ebef74c5a3",
        "colab": {
          "base_uri": "https://localhost:8080/",
          "height": 34
        }
      },
      "source": [
        "# pad dataset to a maximum review length in words\n",
        "X_train = sequence.pad_sequences(train_sequences, maxlen=MAX_SEQUENCE_LENGTH)\n",
        "X_test = sequence.pad_sequences(test_sequences, maxlen=MAX_SEQUENCE_LENGTH)\n",
        "X_train.shape, X_test.shape"
      ],
      "execution_count": null,
      "outputs": [
        {
          "output_type": "execute_result",
          "data": {
            "text/plain": [
              "((35413, 1000), (8854, 1000))"
            ]
          },
          "metadata": {
            "tags": []
          },
          "execution_count": 14
        }
      ]
    },
    {
      "cell_type": "markdown",
      "metadata": {
        "id": "y4q3A8Cpu0fH"
      },
      "source": [
        "**Encoding Labels**\n",
        "\n",
        "The dataset contains labels of the form positive/negative. The following step encodes the labels using sklearn's LabelEncoder"
      ]
    },
    {
      "cell_type": "code",
      "metadata": {
        "id": "g4iKqft_xbjK"
      },
      "source": [
        "le= LabelEncoder()\n",
        "num_classes=2 # fake -> 1, real -> 0"
      ],
      "execution_count": null,
      "outputs": []
    },
    {
      "cell_type": "code",
      "metadata": {
        "id": "vu7t9vZOxdyB"
      },
      "source": [
        "y_train = le.fit_transform(y_train_realfake)\n",
        "y_test = le.transform(y_test_realfake)"
      ],
      "execution_count": null,
      "outputs": []
    },
    {
      "cell_type": "code",
      "metadata": {
        "id": "RgPh0VOexrv2"
      },
      "source": [
        "VOCAB_SIZE = len(t.word_index)\n"
      ],
      "execution_count": null,
      "outputs": []
    },
    {
      "cell_type": "markdown",
      "metadata": {
        "id": "btwXtzVqxthP"
      },
      "source": [
        "**Prepare the Model**\n",
        "\n",
        "Since textual data is a sequence of words, we utilize 1D convolutions to scan through the sentences. The model first transforms each word into lower dimensional embedding/vector space followed by 1d convolutions and then passing the data through dense layers before the final layer for .\n",
        "\n",
        "**Embeddings**\n",
        "\n",
        "The Embedding layer helps us generate the word embeddings from scratch. This layer is also initialized with some weights and is updated based on our optimizer, similar to weights on the neuron units in other layers when the network tries to minimize the loss in each epoch. Thus, the embedding layer tries to optimize its weights such that we get the best word embeddings that will generate minimum error in the model and capture \"real/fake\" similarity and relationships among words."
      ]
    },
    {
      "cell_type": "code",
      "metadata": {
        "id": "uKmp9CfKyRpr"
      },
      "source": [
        "EMBED_SIZE = 300\n",
        "EPOCHS=10\n",
        "BATCH_SIZE=128"
      ],
      "execution_count": null,
      "outputs": []
    },
    {
      "cell_type": "code",
      "metadata": {
        "id": "hs9e_IW9yVKo",
        "outputId": "0cd1672d-78b3-49b2-85ef-b166549ccfa8",
        "colab": {
          "base_uri": "https://localhost:8080/",
          "height": 493
        }
      },
      "source": [
        "#create the model\n",
        "model = Sequential()\n",
        "model.add(Embedding(VOCAB_SIZE, EMBED_SIZE, input_length=MAX_SEQUENCE_LENGTH))\n",
        "model.add(Conv1D(filters=128, kernel_size=4, padding='same', activation='relu'))\n",
        "model.add(MaxPooling1D(pool_size=2))\n",
        "model.add(Conv1D(filters=64, kernel_size=4, padding='same', activation='relu'))\n",
        "model.add(MaxPooling1D(pool_size=2))\n",
        "model.add(Conv1D(filters=32, kernel_size=4, padding='same', activation='relu'))\n",
        "model.add(MaxPooling1D(pool_size=2))\n",
        "model.add(Flatten())\n",
        "model.add(Dense(256, activation='relu'))\n",
        "model.add(Dense(1, activation='sigmoid'))\n",
        "model.compile(loss='binary_crossentropy', optimizer='adam', metrics=['accuracy'])\n",
        "model.summary()"
      ],
      "execution_count": null,
      "outputs": [
        {
          "output_type": "stream",
          "text": [
            "Model: \"sequential\"\n",
            "_________________________________________________________________\n",
            "Layer (type)                 Output Shape              Param #   \n",
            "=================================================================\n",
            "embedding (Embedding)        (None, 1000, 300)         32195400  \n",
            "_________________________________________________________________\n",
            "conv1d (Conv1D)              (None, 1000, 128)         153728    \n",
            "_________________________________________________________________\n",
            "max_pooling1d (MaxPooling1D) (None, 500, 128)          0         \n",
            "_________________________________________________________________\n",
            "conv1d_1 (Conv1D)            (None, 500, 64)           32832     \n",
            "_________________________________________________________________\n",
            "max_pooling1d_1 (MaxPooling1 (None, 250, 64)           0         \n",
            "_________________________________________________________________\n",
            "conv1d_2 (Conv1D)            (None, 250, 32)           8224      \n",
            "_________________________________________________________________\n",
            "max_pooling1d_2 (MaxPooling1 (None, 125, 32)           0         \n",
            "_________________________________________________________________\n",
            "flatten (Flatten)            (None, 4000)              0         \n",
            "_________________________________________________________________\n",
            "dense (Dense)                (None, 256)               1024256   \n",
            "_________________________________________________________________\n",
            "dense_1 (Dense)              (None, 1)                 257       \n",
            "=================================================================\n",
            "Total params: 33,414,697\n",
            "Trainable params: 33,414,697\n",
            "Non-trainable params: 0\n",
            "_________________________________________________________________\n"
          ],
          "name": "stdout"
        }
      ]
    },
    {
      "cell_type": "markdown",
      "metadata": {
        "id": "XVRQESFFyeSM"
      },
      "source": [
        "**Model Training**"
      ]
    },
    {
      "cell_type": "code",
      "metadata": {
        "id": "jBaUQA3OyY6u",
        "outputId": "82273247-849b-4ffd-e7ba-a66825316551",
        "colab": {
          "base_uri": "https://localhost:8080/",
          "height": 170
        }
      },
      "source": [
        "# callbacks\n",
        "es = tf.keras.callbacks.EarlyStopping(monitor='val_loss', \n",
        "                                      patience=2,\n",
        "                                      restore_best_weights=True,\n",
        "                                      verbose=1)\n",
        "\n",
        "# Fit the model\n",
        "model.fit(X_train, y_train, \n",
        "          validation_split=0.1,\n",
        "          epochs=EPOCHS, \n",
        "          batch_size=BATCH_SIZE,\n",
        "          callbacks=[es], \n",
        "          verbose=1)"
      ],
      "execution_count": null,
      "outputs": [
        {
          "output_type": "stream",
          "text": [
            "Epoch 1/10\n",
            "249/249 [==============================] - 882s 4s/step - loss: 8.3419e-06 - accuracy: 1.0000 - val_loss: 0.0019 - val_accuracy: 0.9989\n",
            "Epoch 2/10\n",
            "249/249 [==============================] - 876s 4s/step - loss: 3.1067e-06 - accuracy: 1.0000 - val_loss: 0.0022 - val_accuracy: 0.9989\n",
            "Epoch 3/10\n",
            "249/249 [==============================] - ETA: 0s - loss: 1.8418e-06 - accuracy: 1.0000Restoring model weights from the end of the best epoch.\n",
            "249/249 [==============================] - 880s 4s/step - loss: 1.8418e-06 - accuracy: 1.0000 - val_loss: 0.0025 - val_accuracy: 0.9992\n",
            "Epoch 00003: early stopping\n"
          ],
          "name": "stdout"
        },
        {
          "output_type": "execute_result",
          "data": {
            "text/plain": [
              "<tensorflow.python.keras.callbacks.History at 0x7f6aceab2358>"
            ]
          },
          "metadata": {
            "tags": []
          },
          "execution_count": 25
        }
>>>>>>> 2b29e72b44ef7a4d7ca257837e4750ceb9e6ccd7
      ]
     },
     "metadata": {
      "tags": []
     },
     "output_type": "display_data"
    },
    {
     "name": "stdout",
     "output_type": "stream",
     "text": [
      "Saving Fake_True_news_shuffled.csv to Fake_True_news_shuffled.csv\n"
     ]
    }
   ],
   "source": [
    "from google.colab import files\n",
    "uploaded = files.upload()"
   ]
  },
  {
   "cell_type": "code",
   "execution_count": 22,
   "metadata": {
    "colab": {
     "base_uri": "https://localhost:8080/",
     "height": 51
    },
    "id": "RXPq5Epsdrop",
    "outputId": "26907212-cdab-4673-f418-60f587eff252"
   },
   "outputs": [
    {
     "name": "stdout",
     "output_type": "stream",
     "text": [
      "CPU times: user 2.18 s, sys: 33.8 ms, total: 2.22 s\n",
      "Wall time: 2.24 s\n"
     ]
    }
   ],
   "source": [
    "%%time\n",
    "import io\n",
    "Fake_True_news = pd.read_csv(io.BytesIO(uploaded['Fake_True_news_shuffled.csv']))\n",
    "# Dataset is now stored in a Pandas Dataframe"
   ]
  },
  {
   "cell_type": "code",
   "execution_count": 23,
   "metadata": {
    "colab": {
     "base_uri": "https://localhost:8080/",
     "height": 255
    },
    "id": "K6LlGtq8d3fe",
    "outputId": "4a7e94fd-a9bb-45db-cb24-cdb44ae608d6"
   },
   "outputs": [
    {
     "name": "stdout",
     "output_type": "stream",
     "text": [
      "<class 'pandas.core.frame.DataFrame'>\n",
      "Int64Index: 44267 entries, 0 to 44897\n",
      "Data columns (total 7 columns):\n",
      " #   Column     Non-Null Count  Dtype \n",
      "---  ------     --------------  ----- \n",
      " 0   title      44267 non-null  object\n",
      " 1   text       44267 non-null  object\n",
      " 2   subject    44267 non-null  object\n",
      " 3   date       44267 non-null  object\n",
      " 4   real/fake  44267 non-null  int64 \n",
      " 5   title_nlp  44267 non-null  object\n",
      " 6   text_nlp   44267 non-null  object\n",
      "dtypes: int64(1), object(6)\n",
      "memory usage: 2.7+ MB\n"
     ]
    }
   ],
   "source": [
    "#didn't notice that during pre-processing some rows in 'text_nlp' got deleted. Drop the rows that contain a NaN in that column.\n",
    "Fake_True_news = Fake_True_news.dropna(axis=0, subset=['text_nlp'])\n",
    "Fake_True_news.info()"
   ]
  },
  {
   "cell_type": "markdown",
   "metadata": {
    "id": "Sm4SRihznHyO"
   },
   "source": [
    "**Prepare Train Test Split**"
   ]
  },
  {
   "cell_type": "code",
   "execution_count": 24,
   "metadata": {
    "colab": {
     "base_uri": "https://localhost:8080/",
     "height": 51
    },
    "id": "hJLes5Q1nQwf",
    "outputId": "8a520481-9c12-4fdc-ac05-83ae21c40ead"
   },
   "outputs": [
    {
     "name": "stdout",
     "output_type": "stream",
     "text": [
      "CPU times: user 85.6 ms, sys: 22 ms, total: 108 ms\n",
      "Wall time: 108 ms\n"
     ]
    }
   ],
   "source": [
    "%%time\n",
    "\n",
    "#create feature data frame and isolate target variable\n",
    "\n",
    "#feature dataframe\n",
    "X_text = Fake_True_news['text_nlp'] # load the dataset as a pandas data frame\n",
    "\n",
    "#target variable\n",
    "y_realfake = Fake_True_news['real/fake']\n",
    "\n",
    "# create training and testing vars\n",
    "X_train_text, X_test_text, y_train_realfake, y_test_realfake = train_test_split(X_text, y_realfake, test_size=0.2,random_state=27)"
   ]
  },
  {
   "cell_type": "markdown",
   "metadata": {
    "id": "nLDj1qP-ltpe"
   },
   "source": [
    "**Preprocessing**\n",
    "\n",
    "To prepare text data for our deep learning model, we transform each article into a sequence. Every word in the article is mapped to an integer index and thus the sentence turns into a sequence of numbers.\n",
    "\n",
    "To perform this transformation, keras provides the Tokenizer"
   ]
  },
  {
   "cell_type": "code",
   "execution_count": 7,
   "metadata": {
    "id": "7zWCLNJEl643"
   },
   "outputs": [],
   "source": [
    "t = Tokenizer(oov_token='<UNK>')\n",
    "# fit the tokenizer on the documents\n",
    "t.fit_on_texts(X_train_text)\n",
    "t.word_index['<PAD>'] = 0"
   ]
  },
  {
   "cell_type": "code",
   "execution_count": 8,
   "metadata": {
    "colab": {
     "base_uri": "https://localhost:8080/",
     "height": 34
    },
    "id": "sCA6SjiFpFMm",
    "outputId": "e0276233-130c-47f2-f1f1-b029639a1b7c"
   },
   "outputs": [
    {
     "data": {
      "text/plain": [
       "(('hagertys', 107317), ('<PAD>', 0), 1)"
      ]
<<<<<<< HEAD
     },
     "execution_count": 8,
     "metadata": {
      "tags": []
     },
     "output_type": "execute_result"
    }
   ],
   "source": [
    "max([(k, v) for k, v in t.word_index.items()], key = lambda x:x[1]), min([(k, v) for k, v in t.word_index.items()], key = lambda x:x[1]), t.word_index['<UNK>']"
   ]
  },
  {
   "cell_type": "code",
   "execution_count": 9,
   "metadata": {
    "id": "hUmeJDmZpHcl"
   },
   "outputs": [],
   "source": [
    "train_sequences = t.texts_to_sequences(X_train_text)\n"
   ]
  },
  {
   "cell_type": "code",
   "execution_count": 10,
   "metadata": {
    "id": "_l5MJFGRpOTX"
   },
   "outputs": [],
   "source": [
    "test_sequences = t.texts_to_sequences(X_test_text)\n"
   ]
  },
  {
   "cell_type": "code",
   "execution_count": 11,
   "metadata": {
    "colab": {
     "base_uri": "https://localhost:8080/",
     "height": 51
    },
    "id": "Tw80t21vpVeH",
    "outputId": "9e21cc87-0ba2-4141-d085-a2825dbfbaad"
   },
   "outputs": [
    {
     "name": "stdout",
     "output_type": "stream",
     "text": [
      "Vocabulary size=107318\n",
      "Number of Documents=35413\n"
     ]
    }
   ],
   "source": [
    "print(\"Vocabulary size={}\".format(len(t.word_index)))\n",
    "print(\"Number of Documents={}\".format(t.document_count))"
   ]
  },
  {
   "cell_type": "code",
   "execution_count": 12,
   "metadata": {
    "colab": {
     "base_uri": "https://localhost:8080/",
     "height": 377
    },
    "id": "DbBAY4A4pkEM",
    "outputId": "7ab82e63-57bb-40f0-af63-8e4e638c6357"
   },
   "outputs": [
    {
     "data": {
      "image/png": "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\n",
      "text/plain": [
       "<Figure size 864x432 with 2 Axes>"
=======
    },
    {
      "cell_type": "code",
      "metadata": {
        "id": "fxc4rtvTyroy",
        "outputId": "bb975534-a6f4-494d-dac8-d9f89fc1697f",
        "colab": {
          "base_uri": "https://localhost:8080/",
          "height": 51
        }
      },
      "source": [
        "# Final evaluation of the model\n",
        "scores = model.evaluate(X_test, y_test, verbose=1)\n",
        "print(\"Accuracy: %.2f%%\" % (scores[1]*100))"
      ],
      "execution_count": null,
      "outputs": [
        {
          "output_type": "stream",
          "text": [
            "277/277 [==============================] - 65s 234ms/step - loss: 0.0025 - accuracy: 0.9994\n",
            "Accuracy: 99.94%\n"
          ],
          "name": "stdout"
        }
>>>>>>> 2b29e72b44ef7a4d7ca257837e4750ceb9e6ccd7
      ]
     },
     "metadata": {
      "needs_background": "light",
      "tags": []
     },
     "output_type": "display_data"
    }
   ],
   "source": [
    "import matplotlib.pyplot as plt\n",
    "%matplotlib inline\n",
    "\n",
    "train_lens = [len(s) for s in train_sequences]\n",
    "test_lens = [len(s) for s in test_sequences]\n",
    "\n",
    "fig, ax = plt.subplots(1,2, figsize=(12, 6))\n",
    "h1 = ax[0].hist(train_lens,bins=30)\n",
    "h2 = ax[1].hist(test_lens,bins=30)"
   ]
  },
  {
   "cell_type": "markdown",
   "metadata": {
    "id": "dThYOuUuuZy6"
   },
   "source": [
    "**Sequence Normalization**"
   ]
  },
  {
   "cell_type": "markdown",
   "metadata": {
    "id": "Uo6bG1BVuct3"
   },
   "source": [
    "Not all articles are of same length. To handle this difference in length of articles, we define a maximum length. For articles which are smaller than this length, we pad them with zeros which longer ones are truncated\n",
    "\n"
   ]
  },
  {
   "cell_type": "code",
   "execution_count": 13,
   "metadata": {
    "id": "xX_iDY2Sp1i_"
   },
   "outputs": [],
   "source": [
    "MAX_SEQUENCE_LENGTH = 1000\n"
   ]
  },
  {
   "cell_type": "code",
   "execution_count": 14,
   "metadata": {
    "colab": {
     "base_uri": "https://localhost:8080/",
     "height": 34
    },
    "id": "c_o0u-uwuk7-",
    "outputId": "6f4eeb71-b87d-4177-ac97-37ebef74c5a3"
   },
   "outputs": [
    {
<<<<<<< HEAD
     "data": {
      "text/plain": [
       "((35413, 1000), (8854, 1000))"
      ]
     },
     "execution_count": 14,
     "metadata": {
      "tags": []
     },
     "output_type": "execute_result"
    }
   ],
   "source": [
    "# pad dataset to a maximum review length in words\n",
    "X_train = sequence.pad_sequences(train_sequences, maxlen=MAX_SEQUENCE_LENGTH)\n",
    "X_test = sequence.pad_sequences(test_sequences, maxlen=MAX_SEQUENCE_LENGTH)\n",
    "X_train.shape, X_test.shape"
   ]
  },
  {
   "cell_type": "markdown",
   "metadata": {
    "id": "y4q3A8Cpu0fH"
   },
   "source": [
    "**Encoding Labels**\n",
    "\n",
    "The dataset contains labels of the form positive/negative. The following step encodes the labels using sklearn's LabelEncoder"
   ]
  },
  {
   "cell_type": "code",
   "execution_count": 15,
   "metadata": {
    "id": "g4iKqft_xbjK"
   },
   "outputs": [],
   "source": [
    "le= LabelEncoder()\n",
    "num_classes=2 # positive -> 1, negative -> 0"
   ]
  },
  {
   "cell_type": "code",
   "execution_count": 16,
   "metadata": {
    "id": "vu7t9vZOxdyB"
   },
   "outputs": [],
   "source": [
    "y_train = le.fit_transform(y_train_realfake)\n",
    "y_test = le.transform(y_test_realfake)"
   ]
  },
  {
   "cell_type": "code",
   "execution_count": 17,
   "metadata": {
    "id": "RgPh0VOexrv2"
   },
   "outputs": [],
   "source": [
    "VOCAB_SIZE = len(t.word_index)\n"
   ]
  },
  {
   "cell_type": "markdown",
   "metadata": {
    "id": "btwXtzVqxthP"
   },
   "source": [
    "**Prepare the Model**\n",
    "\n",
    "Since textual data is a sequence of words, we utilize 1D convolutions to scan through the sentences. The model first transforms each word into lower dimensional embedding/vector space followed by 1d convolutions and then passing the data through dense layers before the final layer for .\n",
    "\n",
    "**Embeddings**\n",
    "\n",
    "The Embedding layer helps us generate the word embeddings from scratch. This layer is also initialized with some weights and is updated based on our optimizer, similar to weights on the neuron units in other layers when the network tries to minimize the loss in each epoch. Thus, the embedding layer tries to optimize its weights such that we get the best word embeddings that will generate minimum error in the model and capture \"real/fake\" similarity and relationships among words."
   ]
  },
  {
   "cell_type": "code",
   "execution_count": 18,
   "metadata": {
    "id": "uKmp9CfKyRpr"
   },
   "outputs": [],
   "source": [
    "EMBED_SIZE = 300\n",
    "EPOCHS=10\n",
    "BATCH_SIZE=128"
   ]
  },
  {
   "cell_type": "code",
   "execution_count": 19,
   "metadata": {
    "colab": {
     "base_uri": "https://localhost:8080/",
     "height": 493
    },
    "id": "hs9e_IW9yVKo",
    "outputId": "0cd1672d-78b3-49b2-85ef-b166549ccfa8"
   },
   "outputs": [
    {
     "name": "stdout",
     "output_type": "stream",
     "text": [
      "Model: \"sequential\"\n",
      "_________________________________________________________________\n",
      "Layer (type)                 Output Shape              Param #   \n",
      "=================================================================\n",
      "embedding (Embedding)        (None, 1000, 300)         32195400  \n",
      "_________________________________________________________________\n",
      "conv1d (Conv1D)              (None, 1000, 128)         153728    \n",
      "_________________________________________________________________\n",
      "max_pooling1d (MaxPooling1D) (None, 500, 128)          0         \n",
      "_________________________________________________________________\n",
      "conv1d_1 (Conv1D)            (None, 500, 64)           32832     \n",
      "_________________________________________________________________\n",
      "max_pooling1d_1 (MaxPooling1 (None, 250, 64)           0         \n",
      "_________________________________________________________________\n",
      "conv1d_2 (Conv1D)            (None, 250, 32)           8224      \n",
      "_________________________________________________________________\n",
      "max_pooling1d_2 (MaxPooling1 (None, 125, 32)           0         \n",
      "_________________________________________________________________\n",
      "flatten (Flatten)            (None, 4000)              0         \n",
      "_________________________________________________________________\n",
      "dense (Dense)                (None, 256)               1024256   \n",
      "_________________________________________________________________\n",
      "dense_1 (Dense)              (None, 1)                 257       \n",
      "=================================================================\n",
      "Total params: 33,414,697\n",
      "Trainable params: 33,414,697\n",
      "Non-trainable params: 0\n",
      "_________________________________________________________________\n"
     ]
    }
   ],
   "source": [
    "#create the model\n",
    "model = Sequential()\n",
    "model.add(Embedding(VOCAB_SIZE, EMBED_SIZE, input_length=MAX_SEQUENCE_LENGTH))\n",
    "model.add(Conv1D(filters=128, kernel_size=4, padding='same', activation='relu'))\n",
    "model.add(MaxPooling1D(pool_size=2))\n",
    "model.add(Conv1D(filters=64, kernel_size=4, padding='same', activation='relu'))\n",
    "model.add(MaxPooling1D(pool_size=2))\n",
    "model.add(Conv1D(filters=32, kernel_size=4, padding='same', activation='relu'))\n",
    "model.add(MaxPooling1D(pool_size=2))\n",
    "model.add(Flatten())\n",
    "model.add(Dense(256, activation='relu'))\n",
    "model.add(Dense(1, activation='sigmoid'))\n",
    "model.compile(loss='binary_crossentropy', optimizer='adam', metrics=['accuracy'])\n",
    "model.summary()"
   ]
  },
  {
   "cell_type": "markdown",
   "metadata": {
    "id": "XVRQESFFyeSM"
   },
   "source": [
    "**Model Training**"
   ]
  },
  {
   "cell_type": "code",
   "execution_count": 25,
   "metadata": {
    "colab": {
     "base_uri": "https://localhost:8080/",
     "height": 170
    },
    "id": "jBaUQA3OyY6u",
    "outputId": "82273247-849b-4ffd-e7ba-a66825316551"
   },
   "outputs": [
    {
     "name": "stdout",
     "output_type": "stream",
     "text": [
      "Epoch 1/10\n",
      "249/249 [==============================] - 882s 4s/step - loss: 8.3419e-06 - accuracy: 1.0000 - val_loss: 0.0019 - val_accuracy: 0.9989\n",
      "Epoch 2/10\n",
      "249/249 [==============================] - 876s 4s/step - loss: 3.1067e-06 - accuracy: 1.0000 - val_loss: 0.0022 - val_accuracy: 0.9989\n",
      "Epoch 3/10\n",
      "249/249 [==============================] - ETA: 0s - loss: 1.8418e-06 - accuracy: 1.0000Restoring model weights from the end of the best epoch.\n",
      "249/249 [==============================] - 880s 4s/step - loss: 1.8418e-06 - accuracy: 1.0000 - val_loss: 0.0025 - val_accuracy: 0.9992\n",
      "Epoch 00003: early stopping\n"
     ]
    },
    {
     "data": {
      "text/plain": [
       "<tensorflow.python.keras.callbacks.History at 0x7f6aceab2358>"
      ]
     },
     "execution_count": 25,
     "metadata": {
      "tags": []
     },
     "output_type": "execute_result"
    }
   ],
   "source": [
    "# callbacks\n",
    "es = tf.keras.callbacks.EarlyStopping(monitor='val_loss', \n",
    "                                      patience=2,\n",
    "                                      restore_best_weights=True,\n",
    "                                      verbose=1)\n",
    "\n",
    "# Fit the model\n",
    "model.fit(X_train, y_train, \n",
    "          validation_split=0.1,\n",
    "          epochs=EPOCHS, \n",
    "          batch_size=BATCH_SIZE,\n",
    "          callbacks=[es], \n",
    "          verbose=1)"
   ]
  },
  {
   "cell_type": "markdown",
   "metadata": {
    "id": "m-zT6Kjmyo7U"
   },
   "source": [
    "**Model Evaluation**"
   ]
  },
  {
   "cell_type": "code",
   "execution_count": 26,
   "metadata": {
    "colab": {
     "base_uri": "https://localhost:8080/",
     "height": 51
    },
    "id": "fxc4rtvTyroy",
    "outputId": "bb975534-a6f4-494d-dac8-d9f89fc1697f"
   },
   "outputs": [
    {
     "name": "stdout",
     "output_type": "stream",
     "text": [
      "277/277 [==============================] - 65s 234ms/step - loss: 0.0025 - accuracy: 0.9994\n",
      "Accuracy: 99.94%\n"
     ]
    }
   ],
   "source": [
    "# Final evaluation of the model\n",
    "scores = model.evaluate(X_test, y_test, verbose=1)\n",
    "print(\"Accuracy: %.2f%%\" % (scores[1]*100))"
   ]
  },
  {
   "cell_type": "code",
   "execution_count": 27,
   "metadata": {
    "colab": {
     "base_uri": "https://localhost:8080/",
     "height": 122
    },
    "id": "laJsx_1Mywp8",
    "outputId": "44b79573-8a61-4145-c94c-0315f280b33a"
   },
   "outputs": [
    {
     "name": "stdout",
     "output_type": "stream",
     "text": [
      "WARNING:tensorflow:From <timed exec>:2: Sequential.predict_classes (from tensorflow.python.keras.engine.sequential) is deprecated and will be removed after 2021-01-01.\n",
      "Instructions for updating:\n",
      "Please use instead:* `np.argmax(model.predict(x), axis=-1)`,   if your model does multi-class classification   (e.g. if it uses a `softmax` last-layer activation).* `(model.predict(x) > 0.5).astype(\"int32\")`,   if your model does binary classification   (e.g. if it uses a `sigmoid` last-layer activation).\n",
      "CPU times: user 1min 50s, sys: 1.05 s, total: 1min 51s\n",
      "Wall time: 57.9 s\n"
     ]
    }
   ],
   "source": [
    "%%time\n",
    "\n",
    "predictions = model.predict_classes(X_test).ravel()\n",
    "predictions[:10]\n"
   ]
  },
  {
   "cell_type": "code",
   "execution_count": null,
   "metadata": {
    "colab": {
     "base_uri": "https://localhost:8080/",
     "height": 51
    },
    "id": "fUJ-6bv-y08y",
    "outputId": "9281cf52-955f-4235-a25b-fb1ac6a14c77"
   },
   "outputs": [
    {
     "name": "stdout",
     "output_type": "stream",
     "text": [
      "CPU times: user 26.2 ms, sys: 0 ns, total: 26.2 ms\n",
      "Wall time: 26.8 ms\n"
     ]
    }
   ],
   "source": [
    "%%time \n",
    "\n",
    "predictions.lab = ['positive' if item == 1 else 'negative' for item in predictions]\n",
    "predictions[:10]\n"
   ]
  },
  {
   "cell_type": "code",
   "execution_count": 28,
   "metadata": {
    "colab": {
     "base_uri": "https://localhost:8080/",
     "height": 34
    },
    "id": "1UXvYOGyM7Tx",
    "outputId": "24edfd6f-80e8-4bad-8dc4-70b6837aa497"
   },
   "outputs": [
    {
     "data": {
      "text/plain": [
       "array([0, 1, 1, 1, 0, 0, 0, 1, 0, 1], dtype=int32)"
=======
      "cell_type": "code",
      "metadata": {
        "id": "laJsx_1Mywp8",
        "outputId": "44b79573-8a61-4145-c94c-0315f280b33a",
        "colab": {
          "base_uri": "https://localhost:8080/",
          "height": 122
        }
      },
      "source": [
        "%%time\n",
        "\n",
        "predictions = model.predict_classes(X_test).ravel()\n",
        "predictions[:10]\n"
      ],
      "execution_count": null,
      "outputs": [
        {
          "output_type": "stream",
          "text": [
            "WARNING:tensorflow:From <timed exec>:2: Sequential.predict_classes (from tensorflow.python.keras.engine.sequential) is deprecated and will be removed after 2021-01-01.\n",
            "Instructions for updating:\n",
            "Please use instead:* `np.argmax(model.predict(x), axis=-1)`,   if your model does multi-class classification   (e.g. if it uses a `softmax` last-layer activation).* `(model.predict(x) > 0.5).astype(\"int32\")`,   if your model does binary classification   (e.g. if it uses a `sigmoid` last-layer activation).\n",
            "CPU times: user 1min 50s, sys: 1.05 s, total: 1min 51s\n",
            "Wall time: 57.9 s\n"
          ],
          "name": "stdout"
        }
      ]
    },
    {
      "cell_type": "code",
      "metadata": {
        "id": "1UXvYOGyM7Tx",
        "outputId": "24edfd6f-80e8-4bad-8dc4-70b6837aa497",
        "colab": {
          "base_uri": "https://localhost:8080/",
          "height": 34
        }
      },
      "source": [
        "predictions[:10]"
      ],
      "execution_count": null,
      "outputs": [
        {
          "output_type": "execute_result",
          "data": {
            "text/plain": [
              "array([0, 1, 1, 1, 0, 0, 0, 1, 0, 1], dtype=int32)"
            ]
          },
          "metadata": {
            "tags": []
          },
          "execution_count": 28
        }
>>>>>>> 2b29e72b44ef7a4d7ca257837e4750ceb9e6ccd7
      ]
     },
     "execution_count": 28,
     "metadata": {
      "tags": []
     },
     "output_type": "execute_result"
    }
   ],
   "source": [
    "predictions[:10]"
   ]
  },
  {
   "cell_type": "code",
   "execution_count": 30,
   "metadata": {
    "colab": {
     "base_uri": "https://localhost:8080/",
     "height": 264
    },
    "id": "c-QljKBTzCdH",
    "outputId": "c4ef668f-4542-492b-ac0c-627eac853f2a"
   },
   "outputs": [
    {
     "name": "stdout",
     "output_type": "stream",
     "text": [
      "              precision    recall  f1-score   support\n",
      "\n",
      "           0       1.00      1.00      1.00      4335\n",
      "           1       1.00      1.00      1.00      4519\n",
      "\n",
      "    accuracy                           1.00      8854\n",
      "   macro avg       1.00      1.00      1.00      8854\n",
      "weighted avg       1.00      1.00      1.00      8854\n",
      "\n"
     ]
    },
    {
     "data": {
      "text/html": [
       "<div>\n",
       "<style scoped>\n",
       "    .dataframe tbody tr th:only-of-type {\n",
       "        vertical-align: middle;\n",
       "    }\n",
       "\n",
       "    .dataframe tbody tr th {\n",
       "        vertical-align: top;\n",
       "    }\n",
       "\n",
       "    .dataframe thead th {\n",
       "        text-align: right;\n",
       "    }\n",
       "</style>\n",
       "<table border=\"1\" class=\"dataframe\">\n",
       "  <thead>\n",
       "    <tr style=\"text-align: right;\">\n",
       "      <th></th>\n",
       "      <th>real</th>\n",
       "      <th>fake</th>\n",
       "    </tr>\n",
       "  </thead>\n",
       "  <tbody>\n",
       "    <tr>\n",
       "      <th>real</th>\n",
       "      <td>4332</td>\n",
       "      <td>3</td>\n",
       "    </tr>\n",
       "    <tr>\n",
       "      <th>fake</th>\n",
       "      <td>2</td>\n",
       "      <td>4517</td>\n",
       "    </tr>\n",
       "  </tbody>\n",
       "</table>\n",
       "</div>"
      ],
<<<<<<< HEAD
      "text/plain": [
       "      real  fake\n",
       "real  4332     3\n",
       "fake     2  4517"
=======
      "execution_count": null,
      "outputs": [
        {
          "output_type": "stream",
          "text": [
            "              precision    recall  f1-score   support\n",
            "\n",
            "           0       1.00      1.00      1.00      4335\n",
            "           1       1.00      1.00      1.00      4519\n",
            "\n",
            "    accuracy                           1.00      8854\n",
            "   macro avg       1.00      1.00      1.00      8854\n",
            "weighted avg       1.00      1.00      1.00      8854\n",
            "\n"
          ],
          "name": "stdout"
        },
        {
          "output_type": "execute_result",
          "data": {
            "text/html": [
              "<div>\n",
              "<style scoped>\n",
              "    .dataframe tbody tr th:only-of-type {\n",
              "        vertical-align: middle;\n",
              "    }\n",
              "\n",
              "    .dataframe tbody tr th {\n",
              "        vertical-align: top;\n",
              "    }\n",
              "\n",
              "    .dataframe thead th {\n",
              "        text-align: right;\n",
              "    }\n",
              "</style>\n",
              "<table border=\"1\" class=\"dataframe\">\n",
              "  <thead>\n",
              "    <tr style=\"text-align: right;\">\n",
              "      <th></th>\n",
              "      <th>real</th>\n",
              "      <th>fake</th>\n",
              "    </tr>\n",
              "  </thead>\n",
              "  <tbody>\n",
              "    <tr>\n",
              "      <th>real</th>\n",
              "      <td>4332</td>\n",
              "      <td>3</td>\n",
              "    </tr>\n",
              "    <tr>\n",
              "      <th>fake</th>\n",
              "      <td>2</td>\n",
              "      <td>4517</td>\n",
              "    </tr>\n",
              "  </tbody>\n",
              "</table>\n",
              "</div>"
            ],
            "text/plain": [
              "      real  fake\n",
              "real  4332     3\n",
              "fake     2  4517"
            ]
          },
          "metadata": {
            "tags": []
          },
          "execution_count": 30
        }
>>>>>>> 2b29e72b44ef7a4d7ca257837e4750ceb9e6ccd7
      ]
     },
     "execution_count": 30,
     "metadata": {
      "tags": []
     },
     "output_type": "execute_result"
    }
   ],
   "source": [
    "from sklearn.metrics import confusion_matrix, classification_report\n",
    "\n",
    "labels = ['real', 'fake']\n",
    "print(classification_report(y_test_realfake, predictions))\n",
    "pd.DataFrame(confusion_matrix(y_test_realfake, predictions), index=labels, columns=labels)"
   ]
  }
 ],
 "metadata": {
  "colab": {
   "authorship_tag": "ABX9TyNVu1En0T3xc8BFLavAlIHY",
   "include_colab_link": true,
   "name": "NLP Fake vs Real News (Deep Learning CNN Models).ipynb",
   "provenance": []
  },
  "kernelspec": {
   "display_name": "Python 3",
   "language": "python",
   "name": "python3"
  },
  "language_info": {
   "codemirror_mode": {
    "name": "ipython",
    "version": 3
   },
   "file_extension": ".py",
   "mimetype": "text/x-python",
   "name": "python",
   "nbconvert_exporter": "python",
   "pygments_lexer": "ipython3",
   "version": "3.7.4"
  }
 },
 "nbformat": 4,
 "nbformat_minor": 1
}
