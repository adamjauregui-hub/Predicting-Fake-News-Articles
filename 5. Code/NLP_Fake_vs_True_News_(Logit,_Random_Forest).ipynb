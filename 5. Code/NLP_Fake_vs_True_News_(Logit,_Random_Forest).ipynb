{
 "cells": [
  {
   "cell_type": "code",
   "execution_count": 2,
   "metadata": {},
   "outputs": [],
   "source": [
    "import spacy\n",
    "import pandas as pd\n",
    "import numpy as np\n",
    "import nltk\n",
    "from nltk.tokenize.toktok import ToktokTokenizer\n",
    "import re\n",
    "from bs4 import BeautifulSoup\n",
    "import unicodedata\n",
    "import en_core_web_sm\n",
    "import os\n",
    "import matplotlib.pyplot as plt\n",
    "import seaborn as sns\n",
    "import statsmodels.api as sm\n",
    "from sklearn.feature_extraction.text import CountVectorizer, TfidfVectorizer\n",
    "from sklearn.model_selection import train_test_split\n",
    "from sklearn import linear_model\n",
    "from sklearn.linear_model import Ridge\n",
    "from sklearn.linear_model import LinearRegression\n",
    "from sklearn import svm\n",
    "from time import process_time, time\n",
    "from sklearn import metrics\n",
    "from sklearn.svm import SVR\n",
    "from sklearn.tree import DecisionTreeRegressor\n",
    "from sklearn.ensemble import RandomForestRegressor\n",
    "from sklearn.ensemble import GradientBoostingRegressor\n"
   ]
  },
  {
   "cell_type": "code",
   "execution_count": 3,
   "metadata": {},
   "outputs": [],
   "source": [
    "os.chdir('C:/Users/adamj/Documents/Github/Fake News NLP Project')"
   ]
  },
  {
   "cell_type": "code",
   "execution_count": 5,
   "metadata": {},
   "outputs": [],
   "source": [
    "Fake_True_news=open('Fake_True_news_shuffled.csv','r',encoding='utf8')\n",
    "Fake_True_news_csv=pd.read_csv(Fake_True_news)"
   ]
  },
  {
   "cell_type": "markdown",
   "metadata": {},
   "source": [
    "### Inspect"
   ]
  },
  {
   "cell_type": "code",
   "execution_count": 6,
   "metadata": {},
   "outputs": [
    {
     "data": {
      "text/html": [
       "<div>\n",
       "<style scoped>\n",
       "    .dataframe tbody tr th:only-of-type {\n",
       "        vertical-align: middle;\n",
       "    }\n",
       "\n",
       "    .dataframe tbody tr th {\n",
       "        vertical-align: top;\n",
       "    }\n",
       "\n",
       "    .dataframe thead th {\n",
       "        text-align: right;\n",
       "    }\n",
       "</style>\n",
       "<table border=\"1\" class=\"dataframe\">\n",
       "  <thead>\n",
       "    <tr style=\"text-align: right;\">\n",
       "      <th></th>\n",
       "      <th>title</th>\n",
       "      <th>text</th>\n",
       "      <th>subject</th>\n",
       "      <th>date</th>\n",
       "      <th>real/fake</th>\n",
       "      <th>title_nlp</th>\n",
       "      <th>text_nlp</th>\n",
       "    </tr>\n",
       "  </thead>\n",
       "  <tbody>\n",
       "    <tr>\n",
       "      <td>0</td>\n",
       "      <td>WHOA! 8 ACTUAL QUOTES FROM HILLARY That Prove ...</td>\n",
       "      <td>Hillary came out with a heavily edited TV ad y...</td>\n",
       "      <td>left-news</td>\n",
       "      <td>2017-12-31</td>\n",
       "      <td>1</td>\n",
       "      <td>WHOA ACTUAL QUOTES FROM HILLARY prove shes unf...</td>\n",
       "      <td>hillary came heavily edited TV ad yesterday ca...</td>\n",
       "    </tr>\n",
       "    <tr>\n",
       "      <td>1</td>\n",
       "      <td>PULITZER PRIZE WINNING AUTHOR TONI MORRISON: “...</td>\n",
       "      <td>The recipient of the Presidential Medal of Fre...</td>\n",
       "      <td>left-news</td>\n",
       "      <td>2017-12-31</td>\n",
       "      <td>1</td>\n",
       "      <td>PULITZER PRIZE WINNING AUTHOR TONI MORRISON I ...</td>\n",
       "      <td>recipient presidential medal freedom barack ob...</td>\n",
       "    </tr>\n",
       "    <tr>\n",
       "      <td>2</td>\n",
       "      <td>Prosecutors will not pursue Bridgegate charges...</td>\n",
       "      <td>(Reuters) - New Jersey prosecutors on Friday s...</td>\n",
       "      <td>politicsNews</td>\n",
       "      <td>2017-12-31</td>\n",
       "      <td>0</td>\n",
       "      <td>prosecutors not pursue bridgegate charges new ...</td>\n",
       "      <td>reuters new jersey prosecutors friday said wou...</td>\n",
       "    </tr>\n",
       "    <tr>\n",
       "      <td>3</td>\n",
       "      <td>Pope to meet head of Myanmar army, Rohingya re...</td>\n",
       "      <td>VATICAN CITY (Reuters) - Pope Francis will mee...</td>\n",
       "      <td>worldnews</td>\n",
       "      <td>2017-12-31</td>\n",
       "      <td>0</td>\n",
       "      <td>pope meet head myanmar army rohingya refugees ...</td>\n",
       "      <td>VATICAN CITY reuters pope francis meet head my...</td>\n",
       "    </tr>\n",
       "    <tr>\n",
       "      <td>4</td>\n",
       "      <td>U.S. aerospace industry urges Trump to help Ex...</td>\n",
       "      <td>WASHINGTON (Reuters) - The chief executive of ...</td>\n",
       "      <td>politicsNews</td>\n",
       "      <td>2017-12-31</td>\n",
       "      <td>0</td>\n",
       "      <td>U S aerospace industry urges trump help ex im ...</td>\n",
       "      <td>WASHINGTON reuters chief executive U S aerospa...</td>\n",
       "    </tr>\n",
       "    <tr>\n",
       "      <td>5</td>\n",
       "      <td>DEMOCRATS CAUGHT Paying Halfway House Patients...</td>\n",
       "      <td>A lawless party whose end always justifies the...</td>\n",
       "      <td>politics</td>\n",
       "      <td>2017-12-31</td>\n",
       "      <td>1</td>\n",
       "      <td>DEMOCRATS CAUGHT paying halfway house patients...</td>\n",
       "      <td>A lawless party whose end always justifies mea...</td>\n",
       "    </tr>\n",
       "    <tr>\n",
       "      <td>6</td>\n",
       "      <td>U.S. defense elite rally behind Trump's unusua...</td>\n",
       "      <td>SIMI VALLEY, California (Reuters) - Often fier...</td>\n",
       "      <td>politicsNews</td>\n",
       "      <td>2017-12-31</td>\n",
       "      <td>0</td>\n",
       "      <td>U S defense elite rally behind trumps unusual ...</td>\n",
       "      <td>SIMI VALLEY california reuters often fiercely ...</td>\n",
       "    </tr>\n",
       "    <tr>\n",
       "      <td>7</td>\n",
       "      <td>Vatican prepared in case of Barcelona-style at...</td>\n",
       "      <td>VATICAN CITY (Reuters) - It is perhaps  only a...</td>\n",
       "      <td>worldnews</td>\n",
       "      <td>2017-12-31</td>\n",
       "      <td>0</td>\n",
       "      <td>vatican prepared case barcelona style attack s...</td>\n",
       "      <td>VATICAN CITY reuters perhaps matter time rome ...</td>\n",
       "    </tr>\n",
       "    <tr>\n",
       "      <td>8</td>\n",
       "      <td>BENGHAZI SPOKESLIAR SUSAN RICE TELLS CNN: ‘We ...</td>\n",
       "      <td>Tell us Susan what s worse, Iran with a nuclea...</td>\n",
       "      <td>left-news</td>\n",
       "      <td>2017-12-31</td>\n",
       "      <td>1</td>\n",
       "      <td>BENGHAZI SPOKESLIAR SUSAN RICE TELLS CNN expec...</td>\n",
       "      <td>tell us susan worse iran nuclear weapon billio...</td>\n",
       "    </tr>\n",
       "    <tr>\n",
       "      <td>9</td>\n",
       "      <td>Trump disbands business councils after CEOs qu...</td>\n",
       "      <td>WASHINGTON/NEW YORK (Reuters) - President Dona...</td>\n",
       "      <td>politicsNews</td>\n",
       "      <td>2017-12-31</td>\n",
       "      <td>0</td>\n",
       "      <td>trump disbands business councils ceos quit pro...</td>\n",
       "      <td>WASHINGTON NEW YORK reuters president donald t...</td>\n",
       "    </tr>\n",
       "  </tbody>\n",
       "</table>\n",
       "</div>"
      ],
      "text/plain": [
       "                                               title  \\\n",
       "0  WHOA! 8 ACTUAL QUOTES FROM HILLARY That Prove ...   \n",
       "1  PULITZER PRIZE WINNING AUTHOR TONI MORRISON: “...   \n",
       "2  Prosecutors will not pursue Bridgegate charges...   \n",
       "3  Pope to meet head of Myanmar army, Rohingya re...   \n",
       "4  U.S. aerospace industry urges Trump to help Ex...   \n",
       "5  DEMOCRATS CAUGHT Paying Halfway House Patients...   \n",
       "6  U.S. defense elite rally behind Trump's unusua...   \n",
       "7  Vatican prepared in case of Barcelona-style at...   \n",
       "8  BENGHAZI SPOKESLIAR SUSAN RICE TELLS CNN: ‘We ...   \n",
       "9  Trump disbands business councils after CEOs qu...   \n",
       "\n",
       "                                                text       subject  \\\n",
       "0  Hillary came out with a heavily edited TV ad y...     left-news   \n",
       "1  The recipient of the Presidential Medal of Fre...     left-news   \n",
       "2  (Reuters) - New Jersey prosecutors on Friday s...  politicsNews   \n",
       "3  VATICAN CITY (Reuters) - Pope Francis will mee...     worldnews   \n",
       "4  WASHINGTON (Reuters) - The chief executive of ...  politicsNews   \n",
       "5  A lawless party whose end always justifies the...      politics   \n",
       "6  SIMI VALLEY, California (Reuters) - Often fier...  politicsNews   \n",
       "7  VATICAN CITY (Reuters) - It is perhaps  only a...     worldnews   \n",
       "8  Tell us Susan what s worse, Iran with a nuclea...     left-news   \n",
       "9  WASHINGTON/NEW YORK (Reuters) - President Dona...  politicsNews   \n",
       "\n",
       "         date  real/fake                                          title_nlp  \\\n",
       "0  2017-12-31          1  WHOA ACTUAL QUOTES FROM HILLARY prove shes unf...   \n",
       "1  2017-12-31          1  PULITZER PRIZE WINNING AUTHOR TONI MORRISON I ...   \n",
       "2  2017-12-31          0  prosecutors not pursue bridgegate charges new ...   \n",
       "3  2017-12-31          0  pope meet head myanmar army rohingya refugees ...   \n",
       "4  2017-12-31          0  U S aerospace industry urges trump help ex im ...   \n",
       "5  2017-12-31          1  DEMOCRATS CAUGHT paying halfway house patients...   \n",
       "6  2017-12-31          0  U S defense elite rally behind trumps unusual ...   \n",
       "7  2017-12-31          0  vatican prepared case barcelona style attack s...   \n",
       "8  2017-12-31          1  BENGHAZI SPOKESLIAR SUSAN RICE TELLS CNN expec...   \n",
       "9  2017-12-31          0  trump disbands business councils ceos quit pro...   \n",
       "\n",
       "                                            text_nlp  \n",
       "0  hillary came heavily edited TV ad yesterday ca...  \n",
       "1  recipient presidential medal freedom barack ob...  \n",
       "2  reuters new jersey prosecutors friday said wou...  \n",
       "3  VATICAN CITY reuters pope francis meet head my...  \n",
       "4  WASHINGTON reuters chief executive U S aerospa...  \n",
       "5  A lawless party whose end always justifies mea...  \n",
       "6  SIMI VALLEY california reuters often fiercely ...  \n",
       "7  VATICAN CITY reuters perhaps matter time rome ...  \n",
       "8  tell us susan worse iran nuclear weapon billio...  \n",
       "9  WASHINGTON NEW YORK reuters president donald t...  "
      ]
     },
     "execution_count": 6,
     "metadata": {},
     "output_type": "execute_result"
    }
   ],
   "source": [
    "Fake_True_news_csv.head(10)"
   ]
  },
  {
   "cell_type": "code",
   "execution_count": 7,
   "metadata": {},
   "outputs": [
    {
     "name": "stdout",
     "output_type": "stream",
     "text": [
      "<class 'pandas.core.frame.DataFrame'>\n",
      "RangeIndex: 44898 entries, 0 to 44897\n",
      "Data columns (total 7 columns):\n",
      "title        44898 non-null object\n",
      "text         44898 non-null object\n",
      "subject      44898 non-null object\n",
      "date         44898 non-null object\n",
      "real/fake    44898 non-null int64\n",
      "title_nlp    44898 non-null object\n",
      "text_nlp     44267 non-null object\n",
      "dtypes: int64(1), object(6)\n",
      "memory usage: 2.4+ MB\n"
     ]
    }
   ],
   "source": [
    "Fake_True_news_csv.info()"
   ]
  },
  {
   "cell_type": "code",
   "execution_count": 9,
   "metadata": {},
   "outputs": [],
   "source": [
    "#for some reason we lost rows in 'text_nlp' during the pre-processing. Let's drop them\n",
    "Fake_True_news_csv = Fake_True_news_csv.dropna(axis=0, subset=['text_nlp'])\n"
   ]
  },
  {
   "cell_type": "code",
   "execution_count": 10,
   "metadata": {},
   "outputs": [
    {
     "name": "stdout",
     "output_type": "stream",
     "text": [
      "<class 'pandas.core.frame.DataFrame'>\n",
      "Int64Index: 44267 entries, 0 to 44897\n",
      "Data columns (total 7 columns):\n",
      "title        44267 non-null object\n",
      "text         44267 non-null object\n",
      "subject      44267 non-null object\n",
      "date         44267 non-null object\n",
      "real/fake    44267 non-null int64\n",
      "title_nlp    44267 non-null object\n",
      "text_nlp     44267 non-null object\n",
      "dtypes: int64(1), object(6)\n",
      "memory usage: 2.7+ MB\n"
     ]
    }
   ],
   "source": [
    "Fake_True_news_csv.info()"
   ]
  },
  {
   "cell_type": "markdown",
   "metadata": {},
   "source": [
    "### Build training and testing datasets"
   ]
  },
  {
   "cell_type": "code",
   "execution_count": 11,
   "metadata": {},
   "outputs": [],
   "source": [
    "#create feature data frame and isolate target variable\n",
    "\n",
    "#feature dataframe\n",
    "X = Fake_True_news_csv['text_nlp'] # load the dataset as a pandas data frame\n",
    "\n",
    "#target variable\n",
    "y = Fake_True_news_csv['real/fake']\n",
    "\n",
    "# create training and testing vars\n",
    "X_train, X_test, y_train, y_test = train_test_split(X, y, test_size=0.2,random_state=27)"
   ]
  },
  {
   "cell_type": "markdown",
   "metadata": {},
   "source": [
    "### Feature engineering"
   ]
  },
  {
   "cell_type": "code",
   "execution_count": 12,
   "metadata": {},
   "outputs": [
    {
     "name": "stdout",
     "output_type": "stream",
     "text": [
      "Wall time: 1min 7s\n"
     ]
    }
   ],
   "source": [
    "%%time\n",
    "\n",
    "# build BOW features on train news\n",
    "cv = CountVectorizer(binary=False, min_df=5, max_df=1.0, ngram_range=(1,2))\n",
    "cv_train_features = cv.fit_transform(X_train)\n",
    "\n",
    "\n",
    "# build TFIDF features on train news\n",
    "tv = TfidfVectorizer(use_idf=True, min_df=5, max_df=1.0, ngram_range=(1,2),\n",
    "                     sublinear_tf=True)\n",
    "tv_train_features = tv.fit_transform(X_train)"
   ]
  },
  {
   "cell_type": "code",
   "execution_count": 13,
   "metadata": {},
   "outputs": [],
   "source": [
    "#transform test news into features\n",
    "cv_test_features = cv.transform(X_test)\n",
    "tv_test_features = tv.transform(X_test)"
   ]
  },
  {
   "cell_type": "code",
   "execution_count": 14,
   "metadata": {},
   "outputs": [
    {
     "name": "stdout",
     "output_type": "stream",
     "text": [
      "BOW model:> Train features shape: (35413, 273556)  Test features shape: (8854, 273556)\n",
      "TFIDF model:> Train features shape: (35413, 273556)  Test features shape: (8854, 273556)\n"
     ]
    }
   ],
   "source": [
    "print('BOW model:> Train features shape:', cv_train_features.shape, ' Test features shape:', cv_test_features.shape)\n",
    "print('TFIDF model:> Train features shape:', tv_train_features.shape, ' Test features shape:', tv_test_features.shape)"
   ]
  },
  {
   "cell_type": "markdown",
   "metadata": {},
   "source": [
    "## Model Training, Prediction and Performance Evaluation\n",
    "### Try out Logistic Regression¶"
   ]
  },
  {
   "cell_type": "code",
   "execution_count": 15,
   "metadata": {},
   "outputs": [
    {
     "name": "stderr",
     "output_type": "stream",
     "text": [
      "C:\\Users\\adamj\\Anaconda3\\lib\\site-packages\\sklearn\\linear_model\\logistic.py:432: FutureWarning: Default solver will be changed to 'lbfgs' in 0.22. Specify a solver to silence this warning.\n",
      "  FutureWarning)\n"
     ]
    },
    {
     "name": "stdout",
     "output_type": "stream",
     "text": [
      "Wall time: 10.7 s\n"
     ]
    }
   ],
   "source": [
    "%%time\n",
    "\n",
    "\n",
    "# Logistic Regression model on BOW features\n",
    "from sklearn.linear_model import LogisticRegression\n",
    "\n",
    "# instantiate model\n",
    "#(the following LogisticRegression parameters are all defaults)\n",
    "lr = LogisticRegression(max_iter=500, random_state=27)\n",
    "\n",
    "# train model\n",
    "lr.fit(cv_train_features, y_train)\n",
    "\n",
    "# predict on test data\n",
    "lr_bow_predictions = lr.predict(cv_test_features)"
   ]
  },
  {
   "cell_type": "code",
   "execution_count": 16,
   "metadata": {},
   "outputs": [
    {
     "name": "stdout",
     "output_type": "stream",
     "text": [
      "              precision    recall  f1-score   support\n",
      "\n",
      "           0       1.00      1.00      1.00      4335\n",
      "           1       1.00      1.00      1.00      4519\n",
      "\n",
      "    accuracy                           1.00      8854\n",
      "   macro avg       1.00      1.00      1.00      8854\n",
      "weighted avg       1.00      1.00      1.00      8854\n",
      "\n"
     ]
    },
    {
     "data": {
      "text/html": [
       "<div>\n",
       "<style scoped>\n",
       "    .dataframe tbody tr th:only-of-type {\n",
       "        vertical-align: middle;\n",
       "    }\n",
       "\n",
       "    .dataframe tbody tr th {\n",
       "        vertical-align: top;\n",
       "    }\n",
       "\n",
       "    .dataframe thead th {\n",
       "        text-align: right;\n",
       "    }\n",
       "</style>\n",
       "<table border=\"1\" class=\"dataframe\">\n",
       "  <thead>\n",
       "    <tr style=\"text-align: right;\">\n",
       "      <th></th>\n",
       "      <th>real</th>\n",
       "      <th>fake</th>\n",
       "    </tr>\n",
       "  </thead>\n",
       "  <tbody>\n",
       "    <tr>\n",
       "      <td>real</td>\n",
       "      <td>4327</td>\n",
       "      <td>8</td>\n",
       "    </tr>\n",
       "    <tr>\n",
       "      <td>fake</td>\n",
       "      <td>11</td>\n",
       "      <td>4508</td>\n",
       "    </tr>\n",
       "  </tbody>\n",
       "</table>\n",
       "</div>"
      ],
      "text/plain": [
       "      real  fake\n",
       "real  4327     8\n",
       "fake    11  4508"
      ]
     },
     "execution_count": 16,
     "metadata": {},
     "output_type": "execute_result"
    }
   ],
   "source": [
    "from sklearn.metrics import confusion_matrix, classification_report\n",
    "\n",
    "labels = ['real', 'fake']\n",
    "print(classification_report(y_test, lr_bow_predictions))\n",
    "pd.DataFrame(confusion_matrix(y_test, lr_bow_predictions), index=labels, columns=labels)"
   ]
  },
  {
   "cell_type": "code",
   "execution_count": 17,
   "metadata": {},
   "outputs": [
    {
     "name": "stdout",
     "output_type": "stream",
     "text": [
      "Wall time: 1.73 s\n"
     ]
    }
   ],
   "source": [
    "%%time\n",
    "\n",
    "# Logistic Regression model on TF-IDF features\n",
    "\n",
    "# train model\n",
    "lr.fit(tv_train_features, y_train)\n",
    "\n",
    "# predict on test data\n",
    "lr_tfidf_predictions = lr.predict(tv_test_features)"
   ]
  },
  {
   "cell_type": "code",
   "execution_count": 18,
   "metadata": {},
   "outputs": [
    {
     "name": "stdout",
     "output_type": "stream",
     "text": [
      "              precision    recall  f1-score   support\n",
      "\n",
      "           0       0.99      1.00      0.99      4335\n",
      "           1       1.00      0.99      0.99      4519\n",
      "\n",
      "    accuracy                           0.99      8854\n",
      "   macro avg       0.99      0.99      0.99      8854\n",
      "weighted avg       0.99      0.99      0.99      8854\n",
      "\n"
     ]
    },
    {
     "data": {
      "text/html": [
       "<div>\n",
       "<style scoped>\n",
       "    .dataframe tbody tr th:only-of-type {\n",
       "        vertical-align: middle;\n",
       "    }\n",
       "\n",
       "    .dataframe tbody tr th {\n",
       "        vertical-align: top;\n",
       "    }\n",
       "\n",
       "    .dataframe thead th {\n",
       "        text-align: right;\n",
       "    }\n",
       "</style>\n",
       "<table border=\"1\" class=\"dataframe\">\n",
       "  <thead>\n",
       "    <tr style=\"text-align: right;\">\n",
       "      <th></th>\n",
       "      <th>real</th>\n",
       "      <th>fake</th>\n",
       "    </tr>\n",
       "  </thead>\n",
       "  <tbody>\n",
       "    <tr>\n",
       "      <td>real</td>\n",
       "      <td>4321</td>\n",
       "      <td>14</td>\n",
       "    </tr>\n",
       "    <tr>\n",
       "      <td>fake</td>\n",
       "      <td>39</td>\n",
       "      <td>4480</td>\n",
       "    </tr>\n",
       "  </tbody>\n",
       "</table>\n",
       "</div>"
      ],
      "text/plain": [
       "      real  fake\n",
       "real  4321    14\n",
       "fake    39  4480"
      ]
     },
     "execution_count": 18,
     "metadata": {},
     "output_type": "execute_result"
    }
   ],
   "source": [
    "labels = ['real', 'fake']\n",
    "print(classification_report(y_test, lr_tfidf_predictions))\n",
    "pd.DataFrame(confusion_matrix(y_test, lr_tfidf_predictions), index=labels, columns=labels)"
   ]
  },
  {
   "cell_type": "markdown",
   "metadata": {},
   "source": [
    "### Try out Random Forest"
   ]
  },
  {
   "cell_type": "code",
   "execution_count": 19,
   "metadata": {},
   "outputs": [
    {
     "name": "stdout",
     "output_type": "stream",
     "text": [
      "Wall time: 33.4 s\n"
     ]
    }
   ],
   "source": [
    "%%time \n",
    "\n",
    "# Random Forest model on BOW features\n",
    "from sklearn.ensemble import RandomForestClassifier\n",
    "\n",
    "# instantiate model\n",
    "rf = RandomForestClassifier(n_estimators=100, n_jobs=-1, random_state=27)\n",
    "\n",
    "# train model\n",
    "rf.fit(cv_train_features, y_train)\n",
    "\n",
    "# predict on test data\n",
    "rf_bow_predictions = rf.predict(cv_test_features)"
   ]
  },
  {
   "cell_type": "code",
   "execution_count": 20,
   "metadata": {},
   "outputs": [
    {
     "name": "stdout",
     "output_type": "stream",
     "text": [
      "              precision    recall  f1-score   support\n",
      "\n",
      "           0       0.99      1.00      0.99      4335\n",
      "           1       1.00      0.99      0.99      4519\n",
      "\n",
      "    accuracy                           0.99      8854\n",
      "   macro avg       0.99      0.99      0.99      8854\n",
      "weighted avg       0.99      0.99      0.99      8854\n",
      "\n"
     ]
    },
    {
     "data": {
      "text/html": [
       "<div>\n",
       "<style scoped>\n",
       "    .dataframe tbody tr th:only-of-type {\n",
       "        vertical-align: middle;\n",
       "    }\n",
       "\n",
       "    .dataframe tbody tr th {\n",
       "        vertical-align: top;\n",
       "    }\n",
       "\n",
       "    .dataframe thead th {\n",
       "        text-align: right;\n",
       "    }\n",
       "</style>\n",
       "<table border=\"1\" class=\"dataframe\">\n",
       "  <thead>\n",
       "    <tr style=\"text-align: right;\">\n",
       "      <th></th>\n",
       "      <th>real</th>\n",
       "      <th>fake</th>\n",
       "    </tr>\n",
       "  </thead>\n",
       "  <tbody>\n",
       "    <tr>\n",
       "      <td>real</td>\n",
       "      <td>4325</td>\n",
       "      <td>10</td>\n",
       "    </tr>\n",
       "    <tr>\n",
       "      <td>fake</td>\n",
       "      <td>42</td>\n",
       "      <td>4477</td>\n",
       "    </tr>\n",
       "  </tbody>\n",
       "</table>\n",
       "</div>"
      ],
      "text/plain": [
       "      real  fake\n",
       "real  4325    10\n",
       "fake    42  4477"
      ]
     },
     "execution_count": 20,
     "metadata": {},
     "output_type": "execute_result"
    }
   ],
   "source": [
    "labels = ['real', 'fake']\n",
    "print(classification_report(y_test, rf_bow_predictions))\n",
    "pd.DataFrame(confusion_matrix(y_test, rf_bow_predictions), index=labels, columns=labels)"
   ]
  },
  {
   "cell_type": "code",
   "execution_count": 21,
   "metadata": {},
   "outputs": [
    {
     "name": "stdout",
     "output_type": "stream",
     "text": [
      "Wall time: 33.1 s\n"
     ]
    }
   ],
   "source": [
    "%%time\n",
    "\n",
    "# Random Forest model on TF-IDF features\n",
    "\n",
    "# train model\n",
    "rf.fit(tv_train_features, y_train)\n",
    "\n",
    "# predict on test data\n",
    "rf_tfidf_predictions = rf.predict(tv_test_features)"
   ]
  },
  {
   "cell_type": "code",
   "execution_count": 23,
   "metadata": {},
   "outputs": [
    {
     "name": "stdout",
     "output_type": "stream",
     "text": [
      "              precision    recall  f1-score   support\n",
      "\n",
      "           0       0.99      1.00      1.00      4335\n",
      "           1       1.00      0.99      1.00      4519\n",
      "\n",
      "    accuracy                           1.00      8854\n",
      "   macro avg       1.00      1.00      1.00      8854\n",
      "weighted avg       1.00      1.00      1.00      8854\n",
      "\n"
     ]
    },
    {
     "data": {
      "text/html": [
       "<div>\n",
       "<style scoped>\n",
       "    .dataframe tbody tr th:only-of-type {\n",
       "        vertical-align: middle;\n",
       "    }\n",
       "\n",
       "    .dataframe tbody tr th {\n",
       "        vertical-align: top;\n",
       "    }\n",
       "\n",
       "    .dataframe thead th {\n",
       "        text-align: right;\n",
       "    }\n",
       "</style>\n",
       "<table border=\"1\" class=\"dataframe\">\n",
       "  <thead>\n",
       "    <tr style=\"text-align: right;\">\n",
       "      <th></th>\n",
       "      <th>real</th>\n",
       "      <th>fake</th>\n",
       "    </tr>\n",
       "  </thead>\n",
       "  <tbody>\n",
       "    <tr>\n",
       "      <td>real</td>\n",
       "      <td>4324</td>\n",
       "      <td>11</td>\n",
       "    </tr>\n",
       "    <tr>\n",
       "      <td>fake</td>\n",
       "      <td>30</td>\n",
       "      <td>4489</td>\n",
       "    </tr>\n",
       "  </tbody>\n",
       "</table>\n",
       "</div>"
      ],
      "text/plain": [
       "      real  fake\n",
       "real  4324    11\n",
       "fake    30  4489"
      ]
     },
     "execution_count": 23,
     "metadata": {},
     "output_type": "execute_result"
    }
   ],
   "source": [
    "labels = ['real', 'fake']\n",
    "print(classification_report(y_test, rf_tfidf_predictions))\n",
    "pd.DataFrame(confusion_matrix(y_test, rf_tfidf_predictions), index=labels, columns=labels)"
   ]
  }
 ],
 "metadata": {
  "kernelspec": {
   "display_name": "Python 3",
   "language": "python",
   "name": "python3"
  },
  "language_info": {
   "codemirror_mode": {
    "name": "ipython",
    "version": 3
   },
   "file_extension": ".py",
   "mimetype": "text/x-python",
   "name": "python",
   "nbconvert_exporter": "python",
   "pygments_lexer": "ipython3",
   "version": "3.7.4"
  }
 },
 "nbformat": 4,
 "nbformat_minor": 2
}
