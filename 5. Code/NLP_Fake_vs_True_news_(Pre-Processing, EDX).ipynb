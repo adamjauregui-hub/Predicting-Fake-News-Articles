{
 "cells": [
  {
   "cell_type": "code",
   "execution_count": 40,
   "metadata": {},
   "outputs": [],
   "source": [
    "import spacy\n",
    "import pandas as pd\n",
    "import numpy as np\n",
    "import nltk\n",
    "from nltk.tokenize.toktok import ToktokTokenizer\n",
    "import re\n",
    "from bs4 import BeautifulSoup\n",
    "import unicodedata\n",
    "import en_core_web_sm\n",
    "import os\n",
    "import matplotlib.pyplot as plt\n",
    "import seaborn as sns\n",
    "import statsmodels.api as sm\n",
    "from PIL import Image\n",
    "from wordcloud import WordCloud, STOPWORDS, ImageColorGenerator"
   ]
  },
  {
   "cell_type": "code",
   "execution_count": 41,
   "metadata": {},
   "outputs": [],
   "source": [
    "#not a standard Python module. Taken from DJ's Github repository\n",
    "#must load from same directory as code or else will not work\n",
    "from contractions import CONTRACTION_MAP\n"
   ]
  },
  {
   "cell_type": "code",
   "execution_count": 42,
   "metadata": {},
   "outputs": [
    {
     "data": {
      "text/plain": [
       "'C:\\\\Users\\\\adamj\\\\Documents\\\\Github\\\\Springboard\\\\NLP Projects\\\\CSV Files'"
      ]
     },
     "execution_count": 42,
     "metadata": {},
     "output_type": "execute_result"
    }
   ],
   "source": [
    "pwd"
   ]
  },
  {
   "cell_type": "code",
   "execution_count": 43,
   "metadata": {},
   "outputs": [],
   "source": [
    "#load tokenizer\n",
    "nlp = en_core_web_sm.load()\n",
    "#nlp = spacy.load('en_core', parse = True, tag=True, entity=True) (DJ'S code)\n",
    "#nlp_vec = spacy.load('en_vecs', parse = True, tag=True, entity=True) (DJ's code)\n",
    "tokenizer = ToktokTokenizer()\n",
    "##needed to use the comment out line below to get the stopwords\n",
    "#nltk.download('stopwords') \n",
    "stopword_list = nltk.corpus.stopwords.words('english')\n",
    "stopword_list.remove('no')\n",
    "stopword_list.remove('not')"
   ]
  },
  {
   "cell_type": "code",
   "execution_count": 44,
   "metadata": {},
   "outputs": [
    {
     "data": {
      "text/plain": [
       "'Some Accented text'"
      ]
     },
     "execution_count": 44,
     "metadata": {},
     "output_type": "execute_result"
    }
   ],
   "source": [
    "#function to remove accented characters\n",
    "def remove_accented_chars(text):\n",
    "    text = unicodedata.normalize('NFKD', text).encode('ascii', 'ignore').decode('utf-8', 'ignore')\n",
    "    return text\n",
    "#test the function with example\n",
    "remove_accented_chars('Sómě Áccěntěd těxt')"
   ]
  },
  {
   "cell_type": "code",
   "execution_count": 45,
   "metadata": {},
   "outputs": [
    {
     "data": {
      "text/plain": [
       "'You all cannot expand contractions I would think'"
      ]
     },
     "execution_count": 45,
     "metadata": {},
     "output_type": "execute_result"
    }
   ],
   "source": [
    "#function to expand contractions\n",
    "\n",
    "def expand_contractions(text, contraction_mapping=CONTRACTION_MAP):\n",
    "    \n",
    "    contractions_pattern = re.compile('({})'.format('|'.join(contraction_mapping.keys())), \n",
    "                                      flags=re.IGNORECASE|re.DOTALL)\n",
    "    def expand_match(contraction):\n",
    "        match = contraction.group(0)\n",
    "        first_char = match[0]\n",
    "        expanded_contraction = contraction_mapping.get(match)\\\n",
    "                                if contraction_mapping.get(match)\\\n",
    "                                else contraction_mapping.get(match.lower())                       \n",
    "        expanded_contraction = first_char+expanded_contraction[1:]\n",
    "        return expanded_contraction\n",
    "        \n",
    "    expanded_text = contractions_pattern.sub(expand_match, text)\n",
    "    expanded_text = re.sub(\"'\", \"\", expanded_text)\n",
    "    return expanded_text\n",
    "#example\n",
    "expand_contractions(\"Y'all can't expand contractions I'd think\")"
   ]
  },
  {
   "cell_type": "code",
   "execution_count": 46,
   "metadata": {},
   "outputs": [
    {
     "data": {
      "text/plain": [
       "'Well this was fun  What do you think        '"
      ]
     },
     "execution_count": 46,
     "metadata": {},
     "output_type": "execute_result"
    }
   ],
   "source": [
    "#function to remove special characters\n",
    "\n",
    "def remove_special_characters(text, remove_digits=False):\n",
    "    pattern = r'[^a-zA-z0-9\\s]' if not remove_digits else r'[^a-zA-z\\s]'\n",
    "    text = re.sub(pattern, ' ', text)\n",
    "    return text\n",
    "#example\n",
    "remove_special_characters(\"Well this was fun! What do you-think? 123#@!\", \n",
    "                          remove_digits=True)"
   ]
  },
  {
   "cell_type": "code",
   "execution_count": 47,
   "metadata": {},
   "outputs": [
    {
     "data": {
      "text/plain": [
       "', , stopwords , computer not'"
      ]
     },
     "execution_count": 47,
     "metadata": {},
     "output_type": "execute_result"
    }
   ],
   "source": [
    "#function to remove stopwords\n",
    "def remove_stopwords(text, is_lower_case=False):\n",
    "    tokens = tokenizer.tokenize(text)\n",
    "    tokens = [token.strip() for token in tokens]\n",
    "    if is_lower_case:\n",
    "        filtered_tokens = [token for token in tokens if token not in stopword_list]\n",
    "    else:\n",
    "        filtered_tokens = [token for token in tokens if token.lower() not in stopword_list]\n",
    "    filtered_text = ' '.join(filtered_tokens)    \n",
    "    return filtered_text\n",
    "#example\n",
    "remove_stopwords(\"The, and, if are stopwords, computer is not\")"
   ]
  },
  {
   "cell_type": "code",
   "execution_count": 48,
   "metadata": {},
   "outputs": [],
   "source": [
    "#function to keep mid-sentence words capitalized\n",
    "def keep_caps(text):\n",
    "    processed_sentence = ' '.join(\n",
    "        [word.lower() if not word.isupper() else word for word in sentence.split()])"
   ]
  },
  {
   "cell_type": "code",
   "execution_count": 49,
   "metadata": {},
   "outputs": [],
   "source": [
    "#Bringing it all together — Building a Text Normalizer (comment out html stripping; not needed)\n",
    "def normalize_corpus(corpus, html_stripping=True, contraction_expansion=True,\n",
    "                     accented_char_removal=True, text_lower_case=True, \n",
    "                     text_lemmatization=True, special_char_removal=True, \n",
    "                     stopword_removal=True, remove_digits=True):\n",
    "    \n",
    "    normalized_corpus = []\n",
    "    # normalize each document in the corpus\n",
    "    for doc in corpus:\n",
    "        # strip HTML\n",
    "        #if html_stripping:\n",
    "        #    doc = strip_html_tags(doc)\n",
    "        # remove accented characters\n",
    "        if accented_char_removal:\n",
    "            print(doc)\n",
    "            doc = remove_accented_chars(doc)\n",
    "        # expand contractions    \n",
    "        if contraction_expansion:\n",
    "            doc = expand_contractions(doc)\n",
    "        # lowercase the text    \n",
    "        if text_lower_case:\n",
    "            doc = ' '.join([doc.lower() if not doc.isupper() else doc for doc in doc.split()])\n",
    "        # remove extra newlines\n",
    "        doc = re.sub(r'[\\r|\\n|\\r\\n]+', ' ',doc)\n",
    "        # lemmatize text\n",
    "        #if text_lemmatization:\n",
    "        #    doc = lemmatize_text(doc)\n",
    "        # remove special characters and\\or digits    \n",
    "        if special_char_removal:\n",
    "            # insert spaces between special characters to isolate them    \n",
    "            special_char_pattern = re.compile(r'([{.(-)!}])')\n",
    "            doc = special_char_pattern.sub(\" \\\\1 \", doc)\n",
    "            doc = remove_special_characters(doc, remove_digits=remove_digits)  \n",
    "        # remove extra whitespace\n",
    "        doc = re.sub(' +', ' ', doc)\n",
    "        doc = doc.strip()\n",
    "        # remove stopwords\n",
    "        if stopword_removal:\n",
    "            doc = remove_stopwords(doc, is_lower_case=text_lower_case)\n",
    "            \n",
    "        normalized_corpus.append(doc)\n",
    "        \n",
    "    return normalized_corpus"
   ]
  },
  {
   "cell_type": "code",
   "execution_count": 50,
   "metadata": {},
   "outputs": [],
   "source": [
    "#test function on sample corpus\n",
    "corpus = ['The sky is BLUE and beautiful.',\n",
    "          '         Love this blue and beautiful sky!',\n",
    "          'The quick brown fox jumps over the lazy dog.',\n",
    "          \"A king's breakfast has sausages, ham, bacon, eggs, toast and beans\",\n",
    "          'I love green eggs, ham, sausages and bacon!',\n",
    "          'The brown fox is quick and the blue dog is lazy!',\n",
    "          'The sky is very blue and the sky is very beautiful today',\n",
    "          'The dog is lazy but the brown fox is      quick!'    \n",
    "]"
   ]
  },
  {
   "cell_type": "code",
   "execution_count": 51,
   "metadata": {},
   "outputs": [
    {
     "name": "stdout",
     "output_type": "stream",
     "text": [
      "The sky is BLUE and beautiful.\n",
      "         Love this blue and beautiful sky!\n",
      "The quick brown fox jumps over the lazy dog.\n",
      "A king's breakfast has sausages, ham, bacon, eggs, toast and beans\n",
      "I love green eggs, ham, sausages and bacon!\n",
      "The brown fox is quick and the blue dog is lazy!\n",
      "The sky is very blue and the sky is very beautiful today\n",
      "The dog is lazy but the brown fox is      quick!\n"
     ]
    },
    {
     "data": {
      "text/plain": [
       "['sky BLUE beautiful',\n",
       " 'love blue beautiful sky',\n",
       " 'quick brown fox jumps lazy dog',\n",
       " 'A kings breakfast sausages ham bacon eggs toast beans',\n",
       " 'I love green eggs ham sausages bacon',\n",
       " 'brown fox quick blue dog lazy',\n",
       " 'sky blue sky beautiful today',\n",
       " 'dog lazy brown fox quick']"
      ]
     },
     "execution_count": 51,
     "metadata": {},
     "output_type": "execute_result"
    }
   ],
   "source": [
    "normalize_corpus(corpus)"
   ]
  },
  {
   "cell_type": "code",
   "execution_count": 52,
   "metadata": {},
   "outputs": [],
   "source": [
    "os.chdir('C:/Users/adamj/Documents/Github/Springboard/NLP Projects/CSV Files')"
   ]
  },
  {
   "cell_type": "code",
   "execution_count": 53,
   "metadata": {},
   "outputs": [
    {
     "data": {
      "text/plain": [
       "['augmented.csv',\n",
       " 'Fake.csv',\n",
       " 'Fake_True_news.csv',\n",
       " 'Goodreads_preprocessed.csv',\n",
       " 'Goodreads_preprocessed2.csv',\n",
       " 'True.csv']"
      ]
     },
     "execution_count": 53,
     "metadata": {},
     "output_type": "execute_result"
    }
   ],
   "source": [
    "os.listdir()"
   ]
  },
  {
   "cell_type": "code",
   "execution_count": 54,
   "metadata": {},
   "outputs": [],
   "source": [
    "Fake_news=open('Fake.csv','r',encoding='utf8')\n",
    "Fake_news_csv=pd.read_csv(Fake_news)"
   ]
  },
  {
   "cell_type": "code",
   "execution_count": 55,
   "metadata": {},
   "outputs": [],
   "source": [
    "True_news=open('True.csv','r',encoding='utf8')\n",
    "True_news_csv=pd.read_csv(True_news)"
   ]
  },
  {
   "cell_type": "code",
   "execution_count": 56,
   "metadata": {},
   "outputs": [
    {
     "name": "stdout",
     "output_type": "stream",
     "text": [
      "<class 'pandas.core.frame.DataFrame'>\n",
      "RangeIndex: 23481 entries, 0 to 23480\n",
      "Data columns (total 4 columns):\n",
      "title      23481 non-null object\n",
      "text       23481 non-null object\n",
      "subject    23481 non-null object\n",
      "date       23481 non-null object\n",
      "dtypes: object(4)\n",
      "memory usage: 733.9+ KB\n",
      "None\n",
      "                                               title  \\\n",
      "0   Donald Trump Sends Out Embarrassing New Year’...   \n",
      "1   Drunk Bragging Trump Staffer Started Russian ...   \n",
      "2   Sheriff David Clarke Becomes An Internet Joke...   \n",
      "3   Trump Is So Obsessed He Even Has Obama’s Name...   \n",
      "4   Pope Francis Just Called Out Donald Trump Dur...   \n",
      "5   Racist Alabama Cops Brutalize Black Boy While...   \n",
      "6   Fresh Off The Golf Course, Trump Lashes Out A...   \n",
      "7   Trump Said Some INSANELY Racist Stuff Inside ...   \n",
      "8   Former CIA Director Slams Trump Over UN Bully...   \n",
      "9   WATCH: Brand-New Pro-Trump Ad Features So Muc...   \n",
      "\n",
      "                                                text subject  \\\n",
      "0  Donald Trump just couldn t wish all Americans ...    News   \n",
      "1  House Intelligence Committee Chairman Devin Nu...    News   \n",
      "2  On Friday, it was revealed that former Milwauk...    News   \n",
      "3  On Christmas day, Donald Trump announced that ...    News   \n",
      "4  Pope Francis used his annual Christmas Day mes...    News   \n",
      "5  The number of cases of cops brutalizing and ki...    News   \n",
      "6  Donald Trump spent a good portion of his day a...    News   \n",
      "7  In the wake of yet another court decision that...    News   \n",
      "8  Many people have raised the alarm regarding th...    News   \n",
      "9  Just when you might have thought we d get a br...    News   \n",
      "\n",
      "                date  \n",
      "0  December 31, 2017  \n",
      "1  December 31, 2017  \n",
      "2  December 30, 2017  \n",
      "3  December 29, 2017  \n",
      "4  December 25, 2017  \n",
      "5  December 25, 2017  \n",
      "6  December 23, 2017  \n",
      "7  December 23, 2017  \n",
      "8  December 22, 2017  \n",
      "9  December 21, 2017  \n"
     ]
    }
   ],
   "source": [
    "pd.set_option('display.max_columns', None)\n",
    "print(Fake_news_csv.info())\n",
    "print(Fake_news_csv.head(10))"
   ]
  },
  {
   "cell_type": "code",
   "execution_count": 57,
   "metadata": {},
   "outputs": [
    {
     "name": "stdout",
     "output_type": "stream",
     "text": [
      "<class 'pandas.core.frame.DataFrame'>\n",
      "RangeIndex: 21417 entries, 0 to 21416\n",
      "Data columns (total 4 columns):\n",
      "title      21417 non-null object\n",
      "text       21417 non-null object\n",
      "subject    21417 non-null object\n",
      "date       21417 non-null object\n",
      "dtypes: object(4)\n",
      "memory usage: 669.4+ KB\n",
      "None\n",
      "                                               title  \\\n",
      "0  As U.S. budget fight looms, Republicans flip t...   \n",
      "1  U.S. military to accept transgender recruits o...   \n",
      "2  Senior U.S. Republican senator: 'Let Mr. Muell...   \n",
      "3  FBI Russia probe helped by Australian diplomat...   \n",
      "4  Trump wants Postal Service to charge 'much mor...   \n",
      "5  White House, Congress prepare for talks on spe...   \n",
      "6  Trump says Russia probe will be fair, but time...   \n",
      "7  Factbox: Trump on Twitter (Dec 29) - Approval ...   \n",
      "8         Trump on Twitter (Dec 28) - Global Warming   \n",
      "9  Alabama official to certify Senator-elect Jone...   \n",
      "\n",
      "                                                text       subject  \\\n",
      "0  WASHINGTON (Reuters) - The head of a conservat...  politicsNews   \n",
      "1  WASHINGTON (Reuters) - Transgender people will...  politicsNews   \n",
      "2  WASHINGTON (Reuters) - The special counsel inv...  politicsNews   \n",
      "3  WASHINGTON (Reuters) - Trump campaign adviser ...  politicsNews   \n",
      "4  SEATTLE/WASHINGTON (Reuters) - President Donal...  politicsNews   \n",
      "5  WEST PALM BEACH, Fla./WASHINGTON (Reuters) - T...  politicsNews   \n",
      "6  WEST PALM BEACH, Fla (Reuters) - President Don...  politicsNews   \n",
      "7  The following statements were posted to the ve...  politicsNews   \n",
      "8  The following statements were posted to the ve...  politicsNews   \n",
      "9  WASHINGTON (Reuters) - Alabama Secretary of St...  politicsNews   \n",
      "\n",
      "                 date  \n",
      "0  December 31, 2017   \n",
      "1  December 29, 2017   \n",
      "2  December 31, 2017   \n",
      "3  December 30, 2017   \n",
      "4  December 29, 2017   \n",
      "5  December 29, 2017   \n",
      "6  December 29, 2017   \n",
      "7  December 29, 2017   \n",
      "8  December 29, 2017   \n",
      "9  December 28, 2017   \n"
     ]
    }
   ],
   "source": [
    "pd.set_option('display.max_columns', None)\n",
    "print(True_news_csv.info())\n",
    "print(True_news_csv.head(10))"
   ]
  },
  {
   "cell_type": "markdown",
   "metadata": {},
   "source": [
    "### Next, we prepare the datasets for merging (vertically). We will create a column called \"real/fake\" for both datasets. Then for the \"True\" dataset, we will insert a '0' value in all the rows. In the \"Fake\" dataset, we will insert a '1' value in all the rows. Then we will merge."
   ]
  },
  {
   "cell_type": "code",
   "execution_count": 58,
   "metadata": {},
   "outputs": [],
   "source": [
    "#create empty columns in 'True' and 'Fake' dataframes\n",
    "True_news_csv[\"real/fake\"] = 0\n",
    "Fake_news_csv[\"real/fake\"] = 1"
   ]
  },
  {
   "cell_type": "code",
   "execution_count": 59,
   "metadata": {},
   "outputs": [
    {
     "name": "stdout",
     "output_type": "stream",
     "text": [
      "<class 'pandas.core.frame.DataFrame'>\n",
      "RangeIndex: 23481 entries, 0 to 23480\n",
      "Data columns (total 5 columns):\n",
      "title        23481 non-null object\n",
      "text         23481 non-null object\n",
      "subject      23481 non-null object\n",
      "date         23481 non-null object\n",
      "real/fake    23481 non-null int64\n",
      "dtypes: int64(1), object(4)\n",
      "memory usage: 917.4+ KB\n",
      "None\n",
      "                                               title  \\\n",
      "0   Donald Trump Sends Out Embarrassing New Year’...   \n",
      "1   Drunk Bragging Trump Staffer Started Russian ...   \n",
      "2   Sheriff David Clarke Becomes An Internet Joke...   \n",
      "3   Trump Is So Obsessed He Even Has Obama’s Name...   \n",
      "4   Pope Francis Just Called Out Donald Trump Dur...   \n",
      "5   Racist Alabama Cops Brutalize Black Boy While...   \n",
      "6   Fresh Off The Golf Course, Trump Lashes Out A...   \n",
      "7   Trump Said Some INSANELY Racist Stuff Inside ...   \n",
      "8   Former CIA Director Slams Trump Over UN Bully...   \n",
      "9   WATCH: Brand-New Pro-Trump Ad Features So Muc...   \n",
      "\n",
      "                                                text subject  \\\n",
      "0  Donald Trump just couldn t wish all Americans ...    News   \n",
      "1  House Intelligence Committee Chairman Devin Nu...    News   \n",
      "2  On Friday, it was revealed that former Milwauk...    News   \n",
      "3  On Christmas day, Donald Trump announced that ...    News   \n",
      "4  Pope Francis used his annual Christmas Day mes...    News   \n",
      "5  The number of cases of cops brutalizing and ki...    News   \n",
      "6  Donald Trump spent a good portion of his day a...    News   \n",
      "7  In the wake of yet another court decision that...    News   \n",
      "8  Many people have raised the alarm regarding th...    News   \n",
      "9  Just when you might have thought we d get a br...    News   \n",
      "\n",
      "                date  real/fake  \n",
      "0  December 31, 2017          1  \n",
      "1  December 31, 2017          1  \n",
      "2  December 30, 2017          1  \n",
      "3  December 29, 2017          1  \n",
      "4  December 25, 2017          1  \n",
      "5  December 25, 2017          1  \n",
      "6  December 23, 2017          1  \n",
      "7  December 23, 2017          1  \n",
      "8  December 22, 2017          1  \n",
      "9  December 21, 2017          1  \n"
     ]
    }
   ],
   "source": [
    "#check work\n",
    "print(Fake_news_csv.info())\n",
    "print(Fake_news_csv.head(10))"
   ]
  },
  {
   "cell_type": "code",
   "execution_count": 60,
   "metadata": {},
   "outputs": [
    {
     "name": "stdout",
     "output_type": "stream",
     "text": [
      "<class 'pandas.core.frame.DataFrame'>\n",
      "RangeIndex: 21417 entries, 0 to 21416\n",
      "Data columns (total 5 columns):\n",
      "title        21417 non-null object\n",
      "text         21417 non-null object\n",
      "subject      21417 non-null object\n",
      "date         21417 non-null object\n",
      "real/fake    21417 non-null int64\n",
      "dtypes: int64(1), object(4)\n",
      "memory usage: 836.7+ KB\n",
      "None\n",
      "                                               title  \\\n",
      "0  As U.S. budget fight looms, Republicans flip t...   \n",
      "1  U.S. military to accept transgender recruits o...   \n",
      "2  Senior U.S. Republican senator: 'Let Mr. Muell...   \n",
      "3  FBI Russia probe helped by Australian diplomat...   \n",
      "4  Trump wants Postal Service to charge 'much mor...   \n",
      "5  White House, Congress prepare for talks on spe...   \n",
      "6  Trump says Russia probe will be fair, but time...   \n",
      "7  Factbox: Trump on Twitter (Dec 29) - Approval ...   \n",
      "8         Trump on Twitter (Dec 28) - Global Warming   \n",
      "9  Alabama official to certify Senator-elect Jone...   \n",
      "\n",
      "                                                text       subject  \\\n",
      "0  WASHINGTON (Reuters) - The head of a conservat...  politicsNews   \n",
      "1  WASHINGTON (Reuters) - Transgender people will...  politicsNews   \n",
      "2  WASHINGTON (Reuters) - The special counsel inv...  politicsNews   \n",
      "3  WASHINGTON (Reuters) - Trump campaign adviser ...  politicsNews   \n",
      "4  SEATTLE/WASHINGTON (Reuters) - President Donal...  politicsNews   \n",
      "5  WEST PALM BEACH, Fla./WASHINGTON (Reuters) - T...  politicsNews   \n",
      "6  WEST PALM BEACH, Fla (Reuters) - President Don...  politicsNews   \n",
      "7  The following statements were posted to the ve...  politicsNews   \n",
      "8  The following statements were posted to the ve...  politicsNews   \n",
      "9  WASHINGTON (Reuters) - Alabama Secretary of St...  politicsNews   \n",
      "\n",
      "                 date  real/fake  \n",
      "0  December 31, 2017           0  \n",
      "1  December 29, 2017           0  \n",
      "2  December 31, 2017           0  \n",
      "3  December 30, 2017           0  \n",
      "4  December 29, 2017           0  \n",
      "5  December 29, 2017           0  \n",
      "6  December 29, 2017           0  \n",
      "7  December 29, 2017           0  \n",
      "8  December 29, 2017           0  \n",
      "9  December 28, 2017           0  \n"
     ]
    }
   ],
   "source": [
    "print(True_news_csv.info())\n",
    "print(True_news_csv.head(10))"
   ]
  },
  {
   "cell_type": "code",
   "execution_count": 61,
   "metadata": {},
   "outputs": [],
   "source": [
    "#merge vertically\n",
    "Fake_True_news = pd.concat([Fake_news_csv, True_news_csv], ignore_index=True)"
   ]
  },
  {
   "cell_type": "code",
   "execution_count": 62,
   "metadata": {},
   "outputs": [
    {
     "name": "stdout",
     "output_type": "stream",
     "text": [
      "<class 'pandas.core.frame.DataFrame'>\n",
      "RangeIndex: 44898 entries, 0 to 44897\n",
      "Data columns (total 5 columns):\n",
      "title        44898 non-null object\n",
      "text         44898 non-null object\n",
      "subject      44898 non-null object\n",
      "date         44898 non-null object\n",
      "real/fake    44898 non-null int64\n",
      "dtypes: int64(1), object(4)\n",
      "memory usage: 1.7+ MB\n",
      "None\n"
     ]
    }
   ],
   "source": [
    "print(Fake_True_news.info())"
   ]
  },
  {
   "cell_type": "code",
   "execution_count": 63,
   "metadata": {},
   "outputs": [
    {
     "name": "stdout",
     "output_type": "stream",
     "text": [
      "                                               title  \\\n",
      "0  WHOA! 8 ACTUAL QUOTES FROM HILLARY That Prove ...   \n",
      "1  PULITZER PRIZE WINNING AUTHOR TONI MORRISON: “...   \n",
      "2  Prosecutors will not pursue Bridgegate charges...   \n",
      "3  Pope to meet head of Myanmar army, Rohingya re...   \n",
      "4  U.S. aerospace industry urges Trump to help Ex...   \n",
      "5  DEMOCRATS CAUGHT Paying Halfway House Patients...   \n",
      "6  U.S. defense elite rally behind Trump's unusua...   \n",
      "7  Vatican prepared in case of Barcelona-style at...   \n",
      "8  BENGHAZI SPOKESLIAR SUSAN RICE TELLS CNN: ‘We ...   \n",
      "9  Trump disbands business councils after CEOs qu...   \n",
      "\n",
      "                                                text       subject  \\\n",
      "0  Hillary came out with a heavily edited TV ad y...     left-news   \n",
      "1  The recipient of the Presidential Medal of Fre...     left-news   \n",
      "2  (Reuters) - New Jersey prosecutors on Friday s...  politicsNews   \n",
      "3  VATICAN CITY (Reuters) - Pope Francis will mee...     worldnews   \n",
      "4  WASHINGTON (Reuters) - The chief executive of ...  politicsNews   \n",
      "5  A lawless party whose end always justifies the...      politics   \n",
      "6  SIMI VALLEY, California (Reuters) - Often fier...  politicsNews   \n",
      "7  VATICAN CITY (Reuters) - It is perhaps  only a...     worldnews   \n",
      "8  Tell us Susan what s worse, Iran with a nuclea...     left-news   \n",
      "9  WASHINGTON/NEW YORK (Reuters) - President Dona...  politicsNews   \n",
      "\n",
      "                 date  real/fake  \n",
      "0        Jul 16, 2016          1  \n",
      "1        Apr 22, 2015          1  \n",
      "2   January 27, 2017           0  \n",
      "3  November 22, 2017           0  \n",
      "4   December 6, 2016           0  \n",
      "5        Oct 29, 2016          1  \n",
      "6   December 5, 2016           0  \n",
      "7    August 25, 2017           0  \n",
      "8        Jul 17, 2015          1  \n",
      "9    August 16, 2017           0  \n"
     ]
    }
   ],
   "source": [
    "#shuffle all rows in dataframe since we have all Fake News on top, and all True News on the bottom\n",
    "pd.set_option('display.max_columns', None)\n",
    "Fake_True_news_shuffled = Fake_True_news.sample(frac=1).reset_index(drop=True)\n",
    "print(Fake_True_news_shuffled.head(10))"
   ]
  },
  {
   "cell_type": "markdown",
   "metadata": {},
   "source": [
    "### Explore the data. "
   ]
  },
  {
   "cell_type": "code",
   "execution_count": 64,
   "metadata": {},
   "outputs": [],
   "source": [
    "#convert 'date' column from object to datetime\n",
    "from datetime import datetime\n",
    "\n",
    "Fake_True_news_shuffled[\"date\"] = datetime.strptime('December 31, 2017', '%B %d, %Y')"
   ]
  },
  {
   "cell_type": "code",
   "execution_count": 71,
   "metadata": {},
   "outputs": [
    {
     "name": "stdout",
     "output_type": "stream",
     "text": [
      "                                               title  \\\n",
      "0  WHOA! 8 ACTUAL QUOTES FROM HILLARY That Prove ...   \n",
      "1  PULITZER PRIZE WINNING AUTHOR TONI MORRISON: “...   \n",
      "2  Prosecutors will not pursue Bridgegate charges...   \n",
      "3  Pope to meet head of Myanmar army, Rohingya re...   \n",
      "4  U.S. aerospace industry urges Trump to help Ex...   \n",
      "\n",
      "                                                text       subject       date  \\\n",
      "0  Hillary came out with a heavily edited TV ad y...     left-news 2017-12-31   \n",
      "1  The recipient of the Presidential Medal of Fre...     left-news 2017-12-31   \n",
      "2  (Reuters) - New Jersey prosecutors on Friday s...  politicsNews 2017-12-31   \n",
      "3  VATICAN CITY (Reuters) - Pope Francis will mee...     worldnews 2017-12-31   \n",
      "4  WASHINGTON (Reuters) - The chief executive of ...  politicsNews 2017-12-31   \n",
      "\n",
      "   real/fake  \n",
      "0          1  \n",
      "1          1  \n",
      "2          0  \n",
      "3          0  \n",
      "4          0  \n"
     ]
    }
   ],
   "source": [
    "print(Fake_True_news_shuffled.head())"
   ]
  },
  {
   "cell_type": "code",
   "execution_count": 66,
   "metadata": {},
   "outputs": [
    {
     "data": {
      "text/plain": [
       "real/fake\n",
       "0    21417\n",
       "1    23481\n",
       "Name: real/fake, dtype: int64"
      ]
     },
     "execution_count": 66,
     "metadata": {},
     "output_type": "execute_result"
    }
   ],
   "source": [
    "# Get the number of fake and real news articles\n",
    "Fake_True_news_shuffled['real/fake'].groupby(Fake_True_news_shuffled['real/fake'],).count()"
   ]
  },
  {
   "cell_type": "code",
   "execution_count": 67,
   "metadata": {},
   "outputs": [
    {
     "data": {
      "text/plain": [
       "subject\n",
       "Government News     1570\n",
       "Middle-east          778\n",
       "News                9050\n",
       "US_News              783\n",
       "left-news           4459\n",
       "politics            6841\n",
       "politicsNews       11272\n",
       "worldnews          10145\n",
       "Name: subject, dtype: int64"
      ]
     },
     "execution_count": 67,
     "metadata": {},
     "output_type": "execute_result"
    }
   ],
   "source": [
    "#get the table of counts for the subject\n",
    "Fake_True_news_shuffled['subject'].groupby(Fake_True_news_shuffled['subject']).count()"
   ]
  },
  {
   "cell_type": "code",
   "execution_count": 68,
   "metadata": {},
   "outputs": [
    {
     "name": "stdout",
     "output_type": "stream",
     "text": [
      "subject    Government News  Middle-east  News  US_News  left-news  politics  \\\n",
      "real/fake                                                                     \n",
      "0                        0            0     0        0          0         0   \n",
      "1                     1570          778  9050      783       4459      6841   \n",
      "\n",
      "subject    politicsNews  worldnews  \n",
      "real/fake                           \n",
      "0                 11272      10145  \n",
      "1                     0          0  \n"
     ]
    }
   ],
   "source": [
    "#make a 2x2 table of 'real/fake' and 'subject'\n",
    "tab = pd.crosstab(Fake_True_news_shuffled['real/fake'], Fake_True_news_shuffled['subject'])\n",
    "table = sm.stats.Table(tab)\n",
    "print(table.table_orig)"
   ]
  },
  {
   "cell_type": "markdown",
   "metadata": {},
   "source": [
    "### Good to know. We won't even include that column in the training or test since it's a dead giveaway."
   ]
  },
  {
   "cell_type": "code",
   "execution_count": 72,
   "metadata": {},
   "outputs": [
    {
     "name": "stdout",
     "output_type": "stream",
     "text": [
      "<class 'pandas.core.frame.DataFrame'>\n",
      "RangeIndex: 44898 entries, 0 to 44897\n",
      "Data columns (total 5 columns):\n",
      "title        44898 non-null object\n",
      "text         44898 non-null object\n",
      "subject      44898 non-null object\n",
      "date         44898 non-null datetime64[ns]\n",
      "real/fake    44898 non-null int64\n",
      "dtypes: datetime64[ns](1), int64(1), object(3)\n",
      "memory usage: 1.7+ MB\n"
     ]
    }
   ],
   "source": [
    "Fake_True_news_shuffled.info()"
   ]
  },
  {
   "cell_type": "markdown",
   "metadata": {},
   "source": [
    "### Next, we want to prepare the text for analysis. There are no missing values in any columns, which is excellent. But should we not activate some of the functions? Let's look at the text of the articles again."
   ]
  },
  {
   "cell_type": "code",
   "execution_count": null,
   "metadata": {},
   "outputs": [],
   "source": [
    "print(Fake_True_news_shuffled['text'].head(30))\n",
    "print(Fake_True_news_shuffled['title'].head(30))\n",
    "print(Fake_True_news_shuffled['title'].head(30))\n",
    "print(Fake_True_news_shuffled['text'].head(30))"
   ]
  },
  {
   "cell_type": "markdown",
   "metadata": {},
   "source": [
    "### We notice that the 'fake' articles and titles have words with all CAPS in them. This could be significant. We will alter the normalize_corpus function to keep those in all CAPS (already done as of 9/17/2020)."
   ]
  },
  {
   "cell_type": "code",
   "execution_count": null,
   "metadata": {},
   "outputs": [],
   "source": [
    "%%time\n",
    "\n",
    "#prepare text for analysis\n",
    "Fake_True_news_shuffled['title_nlp']=normalize_corpus(Fake_True_news_shuffled['title'])\n",
    "Fake_True_news_shuffled['text_nlp']=normalize_corpus(Fake_True_news_shuffled['text'])"
   ]
  },
  {
   "cell_type": "code",
   "execution_count": 74,
   "metadata": {},
   "outputs": [
    {
     "name": "stdout",
     "output_type": "stream",
     "text": [
      "<class 'pandas.core.frame.DataFrame'>\n",
      "RangeIndex: 44898 entries, 0 to 44897\n",
      "Data columns (total 7 columns):\n",
      "title        44898 non-null object\n",
      "text         44898 non-null object\n",
      "subject      44898 non-null object\n",
      "date         44898 non-null datetime64[ns]\n",
      "real/fake    44898 non-null int64\n",
      "title_nlp    44898 non-null object\n",
      "text_nlp     44898 non-null object\n",
      "dtypes: datetime64[ns](1), int64(1), object(5)\n",
      "memory usage: 2.4+ MB\n"
     ]
    }
   ],
   "source": [
    "Fake_True_news_shuffled.info()"
   ]
  },
  {
   "cell_type": "code",
   "execution_count": 75,
   "metadata": {},
   "outputs": [
    {
     "data": {
      "text/plain": [
       "{'title': {1: 'PULITZER PRIZE WINNING AUTHOR TONI MORRISON: “I want to see a cop shoot a white unarmed teenager in the back”',\n",
       "  2: 'Prosecutors will not pursue Bridgegate charges against New Jersey governor',\n",
       "  3: 'Pope to meet head of Myanmar army, Rohingya refugees: Vatican',\n",
       "  4: 'U.S. aerospace industry urges Trump to help Ex-Im Bank resume work',\n",
       "  5: 'DEMOCRATS CAUGHT Paying Halfway House Patients $300 To Vote For Hillary [VIDEO]',\n",
       "  6: \"U.S. defense elite rally behind Trump's unusual Pentagon pick\",\n",
       "  7: 'Vatican prepared in case of Barcelona-style attack: Swiss Guard chief',\n",
       "  8: 'BENGHAZI SPOKESLIAR SUSAN RICE TELLS CNN: ‘We should expect’ Iran To Use Funds It Gets For Terrorist Operations [VIDEO]',\n",
       "  9: 'Trump disbands business councils after CEOs quit in protest'},\n",
       " 'title_nlp': {1: 'PULITZER PRIZE WINNING AUTHOR TONI MORRISON I want see cop shoot white unarmed teenager back',\n",
       "  2: 'prosecutors not pursue bridgegate charges new jersey governor',\n",
       "  3: 'pope meet head myanmar army rohingya refugees vatican',\n",
       "  4: 'U S aerospace industry urges trump help ex im bank resume work',\n",
       "  5: 'DEMOCRATS CAUGHT paying halfway house patients vote hillary [ VIDEO ]',\n",
       "  6: 'U S defense elite rally behind trumps unusual pentagon pick',\n",
       "  7: 'vatican prepared case barcelona style attack swiss guard chief',\n",
       "  8: 'BENGHAZI SPOKESLIAR SUSAN RICE TELLS CNN expect iran use funds gets terrorist operations [ VIDEO ]',\n",
       "  9: 'trump disbands business councils ceos quit protest'}}"
      ]
     },
     "execution_count": 75,
     "metadata": {},
     "output_type": "execute_result"
    }
   ],
   "source": [
    "# show a sample difference\n",
    "Fake_True_news_shuffled.iloc[1:10][['title', 'title_nlp']].to_dict()"
   ]
  },
  {
   "cell_type": "code",
   "execution_count": null,
   "metadata": {},
   "outputs": [],
   "source": [
    "#make a wordcloud to visualize the differences between real and fake news\n",
    "Fake_news_nlp=Fake_True_news[Fake_True_news['real/fake']==1]\n",
    "text = Fake_news_nlp['title_nlp'].values\n",
    "wordcloud = WordCloud(\n",
    "    width = 1500,\n",
    "    height = 1000,\n",
    "    background_color = 'black',\n",
    "    stopwords = STOPWORDS).generate(str(text))\n",
    "fig = plt.figure(\n",
    "    figsize = (30, 20),\n",
    "    facecolor = 'k',\n",
    "    edgecolor = 'k')\n",
    "plt.imshow(wordcloud, interpolation = 'bilinear')\n",
    "plt.axis('off')\n",
    "plt.tight_layout(pad=0)\n",
    "plt.show()"
   ]
  },
  {
   "cell_type": "code",
   "execution_count": null,
   "metadata": {},
   "outputs": [],
   "source": [
    "#make a wordcloud to visualize the differences between real and fake news\n",
    "text = Fake_news_nlp['text_nlp'].values\n",
    "wordcloud = WordCloud(\n",
    "    width = 1500,\n",
    "    height = 1000,\n",
    "    background_color = 'black',\n",
    "    stopwords = STOPWORDS).generate(str(text))\n",
    "fig = plt.figure(\n",
    "    figsize = (30, 20),\n",
    "    facecolor = 'k',\n",
    "    edgecolor = 'k')\n",
    "plt.imshow(wordcloud, interpolation = 'bilinear')\n",
    "plt.axis('off')\n",
    "plt.tight_layout(pad=0)\n",
    "plt.show()"
   ]
  },
  {
   "cell_type": "code",
   "execution_count": null,
   "metadata": {},
   "outputs": [],
   "source": [
    "#make a wordcloud to visualize the differences between real and fake news\n",
    "True_news_nlp=Fake_True_news[Fake_True_news['real/fake']==0]\n",
    "text = True_news_nlp['title_nlp'].values\n",
    "wordcloud = WordCloud(\n",
    "    width = 1500,\n",
    "    height = 1000,\n",
    "    background_color = 'white',\n",
    "    stopwords = STOPWORDS).generate(str(text))\n",
    "fig = plt.figure(\n",
    "    figsize = (30, 20),\n",
    "    facecolor = 'k',\n",
    "    edgecolor = 'k')\n",
    "plt.imshow(wordcloud, interpolation = 'bilinear')\n",
    "plt.axis('off')\n",
    "plt.tight_layout(pad=0)\n",
    "plt.show()"
   ]
  },
  {
   "cell_type": "code",
   "execution_count": null,
   "metadata": {},
   "outputs": [],
   "source": [
    "#make a wordcloud to visualize the differences between real and fake news\n",
    "True_news_nlp=Fake_True_news[Fake_True_news['real/fake']==0]\n",
    "text = True_news_nlp['text_nlp'].values\n",
    "wordcloud = WordCloud(\n",
    "    width = 1500,\n",
    "    height = 1000,\n",
    "    background_color = 'white',\n",
    "    stopwords = STOPWORDS).generate(str(text))\n",
    "fig = plt.figure(\n",
    "    figsize = (30, 20),\n",
    "    facecolor = 'k',\n",
    "    edgecolor = 'k')\n",
    "plt.imshow(wordcloud, interpolation = 'bilinear')\n",
    "plt.axis('off')\n",
    "plt.tight_layout(pad=0)\n",
    "plt.show()"
   ]
  },
  {
   "cell_type": "code",
   "execution_count": 76,
   "metadata": {},
   "outputs": [],
   "source": [
    "#export to csv the merged and text pre-processed data set\n",
    "Fake_True_news_shuffled.to_csv(\"Fake_True_news_shuffled.csv\",index=False)"
   ]
  },
  {
   "cell_type": "code",
   "execution_count": null,
   "metadata": {},
   "outputs": [],
   "source": []
  }
 ],
 "metadata": {
  "kernelspec": {
   "display_name": "Python 3",
   "language": "python",
   "name": "python3"
  },
  "language_info": {
   "codemirror_mode": {
    "name": "ipython",
    "version": 3
   },
   "file_extension": ".py",
   "mimetype": "text/x-python",
   "name": "python",
   "nbconvert_exporter": "python",
   "pygments_lexer": "ipython3",
   "version": "3.7.4"
  }
 },
 "nbformat": 4,
 "nbformat_minor": 2
}
